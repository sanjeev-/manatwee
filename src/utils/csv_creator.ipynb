{
 "cells": [
  {
   "cell_type": "code",
   "execution_count": 4,
   "metadata": {
    "collapsed": true
   },
   "outputs": [],
   "source": [
    "csvPATH = '/home/ubuntu/cv/aerial/DeepNetsEO/DeepNetsForEO/nlp/movies'\n",
    "import pandas as pd"
   ]
  },
  {
   "cell_type": "code",
   "execution_count": 2,
   "metadata": {
    "collapsed": true
   },
   "outputs": [],
   "source": [
    "twitter_movie_dict = {\n",
    "\n",
    "    'the_post': ['#ThePost','#ThePostMovie'],\n",
    "    \n",
    "    'phantom_thread': ['#PhantomThread'],\n",
    "    \n",
    "    'three_billboards': ['#ThreeBillboards'],\n",
    "    \n",
    "    'dunkirk': ['#Dunkirk'],\n",
    "    \n",
    "    'ladybird':['#LadyBird','Lady Bird'],\n",
    "\n",
    "    'last_jedi':['#LastJedi'],\n",
    "    \n",
    "    'jumanji_welcome_to_the_jungle': ['#JUMANJI'],\n",
    "\n",
    "    'call_me_by_your_name':['#CallMeByYourName','Call Me By Your Name'],\n",
    "\n",
    "    'mollys_game':['#MollysGame'],\n",
    "\n",
    "}"
   ]
  },
  {
   "cell_type": "code",
   "execution_count": 9,
   "metadata": {},
   "outputs": [],
   "source": [
    "import os.path \n",
    "\n",
    "for key in twitter_movie_dict:\n",
    "\n",
    "    PATH = '/home/ubuntu/cv/aerial/DeepNetsEO/DeepNetsForEO/nlp/movies/'\n",
    "    filename = key + '_sentiment.csv'\n",
    "    PATH = PATH + filename\n",
    "    if os.path.isfile(PATH):\n",
    "        df = pd.read_csv(PATH,names=['datetime','username','tweet'])\n",
    "    else:\n",
    "        print 'csv for %s doesnt exist!' % (key)\n",
    "        with open(PATH, \"w\") as my_empty_csv:\n",
    "              # now you have an empty file already\n",
    "            pass\n",
    "        print 'the csv for %s now exists' % (key)\n",
    "            "
   ]
  },
  {
   "cell_type": "code",
   "execution_count": null,
   "metadata": {
    "collapsed": true
   },
   "outputs": [],
   "source": []
  }
 ],
 "metadata": {
  "kernelspec": {
   "display_name": "Django Shell-Plus",
   "language": "python",
   "name": "django_extensions"
  },
  "language_info": {
   "codemirror_mode": {
    "name": "ipython",
    "version": 2
   },
   "file_extension": ".py",
   "mimetype": "text/x-python",
   "name": "python",
   "nbconvert_exporter": "python",
   "pygments_lexer": "ipython2",
   "version": "2.7.13"
  }
 },
 "nbformat": 4,
 "nbformat_minor": 2
}
