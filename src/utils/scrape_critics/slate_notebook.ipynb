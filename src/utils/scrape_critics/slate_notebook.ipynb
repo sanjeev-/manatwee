{
 "cells": [
  {
   "cell_type": "code",
   "execution_count": 1,
   "metadata": {
    "collapsed": true
   },
   "outputs": [],
   "source": [
    "import os, errno, sys\n",
    "from bs4 import BeautifulSoup\n",
    "from requests import get\n",
    "from textblob import TextBlob\n",
    "import pandas as pd\n",
    "from pyteaser import Summarize\n",
    "from django.utils.encoding import smart_str, smart_unicode\n",
    "from scraper_functions import *\n",
    "\n",
    "proj_path = \"/home/ubuntu/cv/aerial/DeepNetsEO/DeepNetsForEO/nlp/site/src/\"\n",
    "# This is so Django knows where to find stuff.\n",
    "os.environ.setdefault(\"DJANGO_SETTINGS_MODULE\", \"manatwee.settings\")\n",
    "sys.path.append(proj_path)\n",
    "\n",
    "# This is so my local_settings.py gets loaded.\n",
    "os.chdir(proj_path)\n",
    "\n",
    "# This is so models get loaded.\n",
    "from django.core.wsgi import get_wsgi_application\n",
    "application = get_wsgi_application()\n",
    "\n",
    "from twttr.models import *\n",
    "from critic.models import *\n"
   ]
  },
  {
   "cell_type": "code",
   "execution_count": 2,
   "metadata": {
    "collapsed": true
   },
   "outputs": [],
   "source": [
    "SLATE_URL = 'http://www.slate.com/articles/arts/movies.html'\n",
    "\n"
   ]
  },
  {
   "cell_type": "code",
   "execution_count": 4,
   "metadata": {
    "collapsed": true
   },
   "outputs": [],
   "source": [
    "SlateSoup = BeautifulSoup(get(SLATE_URL).text,'html.parser')"
   ]
  },
  {
   "cell_type": "code",
   "execution_count": 75,
   "metadata": {},
   "outputs": [
    {
     "name": "stdout",
     "output_type": "stream",
     "text": [
      "https://slate.com/arts/2017/12/the-greatest-showman-the-movie-musical-reviewed.html\n",
      "The Greatest Showman \n",
      "the-greatest-showman-\n",
      "True\n",
      "got to if statement\n",
      "https://slate.com/arts/2017/12/darkest-hour-starring-gary-oldman-reviewed.html\n",
      "Darkest Hour\n",
      "darkest-hour\n",
      "True\n",
      "got to if statement\n",
      "https://slate.com/arts/2017/12/call-me-by-your-name-with-armie-hammer-reviewed.html\n",
      "Call Me by Your Name \n",
      "call-me-by-your-name-\n",
      "True\n",
      "got to if statement\n",
      "https://slate.com/arts/2017/12/murder-on-the-orient-express-reviewed.html\n",
      "Murder on the Orient Express \n",
      "murder-on-the-orient-express-\n",
      "True\n",
      "got to if statement\n",
      "https://slate.com/arts/2017/12/thor-ragnarok-the-latest-marvel-movie-reviewed.html\n",
      "Thor: Ragnarok \n",
      "thor:-ragnarok-\n",
      "False\n",
      "https://slate.com/arts/2017/12/darren-aronofsky-and-jennifer-lawrences-mother-reviewed.html\n",
      "Mother!\n",
      "mother!\n",
      "False\n",
      "https://slate.com/arts/2017/12/blade-runner-2049-starring-ryan-gosling-reviewed.html\n",
      "Blade Runner 2049 \n",
      "blade-runner-2049-\n",
      "True\n",
      "got to if statement\n",
      "https://slate.com/arts/2017/12/richard-linklaters-last-flag-flying-reviewed.html\n",
      "Last Flag Flying \n",
      "last-flag-flying-\n",
      "True\n",
      "got to if statement\n",
      "https://slate.com/arts/2017/12/the-killing-of-a-sacred-deer-reviewed.html\n",
      "The Killing of a Sacred Deer \n",
      "the-killing-of-a-sacred-deer-\n",
      "True\n",
      "got to if statement\n",
      "https://slate.com/arts/2017/12/american-made-tom-cruises-new-movie-reviewed.html\n",
      "American Made \n",
      "american-made-\n",
      "True\n",
      "got to if statement\n",
      "movie not found. skipping...\n",
      "https://slate.com/arts/2017/12/phantom-thread-with-daniel-day-lewis-reviewed.html\n",
      "Phantom Thread \n",
      "phantom-thread-\n",
      "True\n",
      "got to if statement\n",
      "https://slate.com/arts/2017/12/dee-rees-new-netflix-movie-mudbound-reviewed.html\n",
      "Mudbound \n",
      "mudbound-\n",
      "True\n",
      "got to if statement\n",
      "https://slate.com/arts/2017/12/greta-gerwigs-new-movie-lady-bird-reviewed.html\n",
      "Lady Bird \n",
      "lady-bird-\n",
      "True\n",
      "got to if statement\n",
      "https://slate.com/arts/2017/12/coco-the-new-movie-from-pixar-reviewed.html\n",
      "Coco \n",
      "coco-\n",
      "True\n",
      "got to if statement\n",
      "https://slate.com/arts/2017/12/justice-league-dcs-new-superhero-movie-reviewed.html\n",
      "Justice League \n",
      "justice-league-\n",
      "True\n",
      "got to if statement\n",
      "https://slate.com/arts/2017/12/guillermo-del-toros-the-shape-of-water-reviewed.html\n",
      "The Shape of Water \n",
      "the-shape-of-water-\n",
      "True\n",
      "got to if statement\n",
      "https://slate.com/arts/2017/12/three-billboards-outside-ebbing-missouri-reviewed.html\n",
      "Three Billboards Outside Ebbing, Missouri \n",
      "three-billboards-outside-ebbing,-missouri-\n",
      "False\n",
      "https://slate.com/arts/2017/12/my-little-pony-the-movie-reviewed.html\n",
      "My Little Pony: The Movie\n",
      "my-little-pony:-the-movie\n",
      "False\n",
      "https://slate.com/arts/2017/12/the-meyerowitz-stories-new-and-selected-reviewed.html\n",
      "The Meyerowitz Stories (New and Selected)\n",
      "the-meyerowitz-stories-new-and-selected\n",
      "True\n",
      "got to if statement\n",
      "https://slate.com/arts/2017/12/the-florida-project-with-willem-dafoe-reviewed.html\n",
      "The Florida Project\n",
      "the-florida-project\n",
      "True\n",
      "got to if statement\n",
      "https://slate.com/arts/2017/12/wonderstruck-todd-haynes-new-movie-reviewed.html\n",
      "Wonderstruck \n",
      "wonderstruck-\n",
      "True\n",
      "got to if statement\n",
      "https://slate.com/arts/2017/12/star-wars-the-last-jedi-reviewed.html\n",
      "The Last Jedi \n",
      "the-last-jedi-\n",
      "True\n",
      "got to if statement\n",
      "https://slate.com/arts/2017/12/i-tonya-the-tonya-harding-movie-reviewed.html\n",
      "Goodfellas\n",
      "goodfellas\n",
      "False\n"
     ]
    }
   ],
   "source": [
    "slate_dict = {}\n",
    "for item in SlateSoup.find_all('div',class_=\"tile long-hed stacked\"):\n",
    "    if 'reviewed' in item.find_all('a')[0]['href']:\n",
    "        try:\n",
    "            r_url= item.find_all('a')[0]['href']\n",
    "            urllist.append(r_url)\n",
    "\n",
    "            r_soup = BeautifulSoup(get(r_url).text,'html.parser')\n",
    "            r_title = r_soup.find_all('h1',class_='article__hed')[0].findAll('em')[0].text\n",
    "\n",
    "            print r_url\n",
    "            print r_title\n",
    "            \n",
    "            r_title_slug = r_title.lower().replace(' ','-').replace('(','').replace(')','')\n",
    "            print r_title_slug\n",
    "            print r_title_slug in r_url\n",
    "            if r_title_slug in r_url:\n",
    "                print 'got to if statement'\n",
    "                r_dict = {}\n",
    "                r_text = ''\n",
    "                for item in r_soup.find_all('p',class_='slate-paragraph'):\n",
    "                    r_text += item.text\n",
    "                r_sentiment = TextBlob(r_text).sentiment\n",
    "                r_polarity = r_sentiment[0]\n",
    "                r_subjectivity = r_sentiment[1]\n",
    "                summary = Summarize(r_title,r_text)\n",
    "                r_blurb = ' '.join(summary)\n",
    "                r_thumbsup = 'Positive' if r_polarity >0 else 'Negative'\n",
    "                r_critic = r_soup.find_all('meta',attrs={'name':'author'})[0]['content']\n",
    "                r_dict['critic'] = r_critic\n",
    "                r_dict['text'] = r_text\n",
    "                r_dict['blurb'] = r_blurb\n",
    "                r_dict['review_subjectivity'] = r_subjectivity\n",
    "                r_dict['review_polarity'] = r_polarity\n",
    "                r_dict['sentiment'] = r_sentiment\n",
    "                r_dict['thumbsup'] = r_thumbsup\n",
    "                slate_dict[r_title] = r_dict \n",
    "                \n",
    "            \n",
    "        except:\n",
    "            print 'movie not found. skipping...'\n",
    "        \n",
    "\n",
    "        \n"
   ]
  },
  {
   "cell_type": "code",
   "execution_count": null,
   "metadata": {
    "collapsed": true
   },
   "outputs": [],
   "source": []
  },
  {
   "cell_type": "code",
   "execution_count": 28,
   "metadata": {
    "collapsed": true
   },
   "outputs": [],
   "source": [
    "r_soup = BeautifulSoup(get(urllist[0]).text,'html.parser')"
   ]
  },
  {
   "cell_type": "code",
   "execution_count": 45,
   "metadata": {},
   "outputs": [
    {
     "data": {
      "text/plain": [
       "u'The Greatest Showman '"
      ]
     },
     "execution_count": 45,
     "metadata": {},
     "output_type": "execute_result"
    }
   ],
   "source": [
    "r_soup.find_all('h1',class_='article__hed')[0].findAll('em')[0].text"
   ]
  },
  {
   "cell_type": "code",
   "execution_count": 47,
   "metadata": {},
   "outputs": [
    {
     "data": {
      "text/plain": [
       "{u'Goodfellas': {'link': u'https://slate.com/arts/2017/12/i-tonya-the-tonya-harding-movie-reviewed.html',\n",
       "  'name': u'Goodfellas'}}"
      ]
     },
     "execution_count": 47,
     "metadata": {},
     "output_type": "execute_result"
    }
   ],
   "source": [
    "slate_dict"
   ]
  },
  {
   "cell_type": "code",
   "execution_count": 60,
   "metadata": {
    "collapsed": true
   },
   "outputs": [],
   "source": [
    "r_text = ''\n",
    "for item in r_soup.find_all('p',class_='slate-paragraph'):\n",
    "    r_text += item.text"
   ]
  },
  {
   "cell_type": "code",
   "execution_count": 63,
   "metadata": {},
   "outputs": [
    {
     "data": {
      "text/plain": [
       "u'Sam Adams'"
      ]
     },
     "execution_count": 63,
     "metadata": {},
     "output_type": "execute_result"
    }
   ],
   "source": [
    "r_soup.find_all('meta',attrs={'name':'author'})[0]['content']"
   ]
  },
  {
   "cell_type": "code",
   "execution_count": 20,
   "metadata": {},
   "outputs": [
    {
     "name": "stdout",
     "output_type": "stream",
     "text": [
      "Call Me by Your Name \n",
      "Blade Runner 2049 \n",
      "Darkest Hour\n",
      "Lady Bird \n",
      "The Greatest Showman \n",
      "The Meyerowitz Stories (New and Selected)\n",
      "Wonderstruck \n",
      "The Shape of Water \n",
      "Justice League \n",
      "Coco \n",
      "Phantom Thread \n",
      "The Florida Project\n",
      "American Made \n",
      "Mudbound \n",
      "The Killing of a Sacred Deer \n",
      "The Last Jedi \n",
      "Murder on the Orient Express \n",
      "Last Flag Flying \n"
     ]
    }
   ],
   "source": [
    "for item in Reviews.objects.filter(organization=slateorg):\n",
    "    print item.movie"
   ]
  },
  {
   "cell_type": "code",
   "execution_count": 6,
   "metadata": {},
   "outputs": [],
   "source": [
    "slateorg = Organization.objects.get(name='Slate')"
   ]
  },
  {
   "cell_type": "code",
   "execution_count": 23,
   "metadata": {},
   "outputs": [],
   "source": [
    "callme=Movie.objects.get(name='Call Me by Your Name')"
   ]
  },
  {
   "cell_type": "code",
   "execution_count": 24,
   "metadata": {
    "collapsed": true
   },
   "outputs": [],
   "source": [
    "chi = Organization.objects.get(name='ChicagoTribune')"
   ]
  },
  {
   "cell_type": "code",
   "execution_count": 31,
   "metadata": {},
   "outputs": [
    {
     "name": "stdout",
     "output_type": "stream",
     "text": [
      "Thirst Street\n",
      "BPM\n",
      "For Ahkeem\n",
      "Sylvio\n",
      "Mollys Game\n",
      "All the Money in the World\n",
      "Gilbert\n",
      "Ferdinand\n",
      "Downsizing\n",
      "I, Tonya\n",
      "Darkest Hour\n",
      "Roman J. Israel, Esq.\n",
      "Bill Nye: Science Guy\n",
      "Star Wars: The Last Jedi\n",
      "The Future Perfect\n",
      "Una\n",
      "Jumanji: Welcome to the Jungle\n",
      "Coco\n",
      "Call Me by Your Name\n",
      "Wonder Wheel\n",
      "The Disaster Artist\n",
      "Pitch Perfect 3\n",
      "Father Figures\n",
      "The Shape of Water\n",
      "The Ballad of Lefty Brown\n",
      "The Post\n",
      "Hostiles\n"
     ]
    }
   ],
   "source": [
    "for mov in Reviews.objects.filter(organization=chi):\n",
    "    print mov.movie"
   ]
  },
  {
   "cell_type": "code",
   "execution_count": 35,
   "metadata": {},
   "outputs": [
    {
     "data": {
      "text/plain": [
       "<QuerySet [<Reviews: Set in the summer of 1983, in a land of leisurely alfresco lunches and spontaneous all-day bike rides under the northern Italian sun, the romantic idyll “Call Me by Your Name” is enough to make you  move to the town of Crema, even if your rational self realizes the director Luca Guadagnino trades in a heightened, miragelike state of mythic yearning.The swoony atmosphere is familiar from his earlier films, particularly “I Am Love” (2009), in which Tilda Swinton communed with the Italian countryside, a young lover and every sensory pleasure known to Swintonhood. For the record, Crema’s patron saint is Pantaleon — the patron saint of physicians. The love doctor’s always on call in this corner of the world, and there’s no cure for what ails the young lovers except time, experience, regret and gratitude.In other words: “Call Me by Your Name” is about being 17. Timothee Chalamet, currently on screens as the blithely self-absorbed charmer advocating for “un-special sex” in “Lady Bird,” stars as Elio Perlman, the son of an American antiquities and archaeology professor (Michael Stuhlbarg). Each summer, for six weeks, Professor Perlman and his wife, Annella (Amira Casar), host a visiting graduate student to help with research. By popular consensus this year’s recruit, Oliver, played by Armie Hammer, rates as a standout, suggesting a Greek statue in shorts as well as a sexually ambiguous object of desire.Elio’s embarking on a tentative affair with a local girl (Esther Garrel), but Oliver presents a problem he cannot solve. At first the visitor’s casual arrogance (“Later,” his chosen exit line, gets under Elio’s skin) prevents Elio from warming up to him even as a friend. But clearly the teenager is smitten. Oliver’s feelings remain opaque: Is the grad student toying with the professor’s son? Is he straight? Bi?  Gay? What’s his story?We learn a few things, but Oliver by design remains an attractive abstraction — the role usually taken by a comely, undercharacterized female in traditional hetero screen romances. The days and weeks pass. The young men, seven years apart, grow closer and then become intimate. “Call Me by Your Name” unfolds along country roads, lazy rivers, moonlit trysts and, finally, as the summer nears the end, something more. With a soundtrack as fantastic as this movie’s, director Guadagnino could have filmed his adaptation with a signpost and a filing cabinet in the leading roles and it still would have worked. Classical selections ranging from Ravel to John Adams maintain the aural shimmer, while Sufjan Stevens’ piercing original songs, particularly “Mystery of Love” and “Visions of Gideon,” work like magic on your sympathies regarding Elio’s emotional awakening.The script, as written by James Ivory and revised by Guadagnino, strips the novel of its voice-over and its characters’ later years, living in the present tense. (There may be a sequel.) Ivory has complained about the director’s decision to keep the nudity discreet and occasional, as opposed to more frequent and full-frontal. While there’s no question “Call Me by Your Name” feels a mite closeted, Guadagnino sees Elio as a work in fluid progress. Chalamet is excellent, saving his purest acting for the killer final shot several minutes in length, when we finally see what these weeks with Oliver have meant to him.Stuhlbarg’s professor remains in the background for most of the picture. Then he delivers a lengthy monologue that sets up that final shot brilliantly. The father/mother relationship we see glimpses of in “Call Me by Your Name” appears to be kind, if a little removed; the climactic monologue reveals the reasons, the roads not taken. The professor may be an almost impossibly supportive and understanding character, but the movie exists in the realm of the ideal, not crushing realism. Stuhlbarg’s performance is a thing of beauty. As lighted by cinematographer Sayombhu Mukdeeprom, who shot the recent “Arabian Nights” trilogy and, earlier, “Uncle Boonmee Who Can Recall His Past Lives,” every second of “Call Me by Your Name” looks luscious as shot on 35 millimeter film.Elio and Oliver share things in common, among them their Jewishness. “We're Jews of discretion,” Elio notes, after seeing Oliver’s Star of David necklace. Hammer is doing some of the most easy-breathing and relaxed best work of his career as Oliver, though if there’s an element of Guadagnino’s film that’s not quite right, it’s Hammer’s innate self-regard, a little more than the role requires. When the professor regards his son’s first serious crush as being blessed by “a good person,” you may think: “Well, I guess ….” Hammer doesn’t yet have an easy middle register as an actor, as formidable a presence as he is.Guadagnino’s visual interests are wonderfully paradoxical: restrained excess is his chosen duality, and he blends music and landscape and good-looking humans finding happiness in the most alluring possible settings. When he’s not transcribing Schoenberg, Elio sorts through the beauty all around him, and what he’s meant to do with it. If the movie didn't end with that extended close-up of Chalamet, sitting before a fireplace, and showing us the feelings he’s still afraid to show his parents, we wouldn’t feel nearly as much for either Elio or his story. “We rip out so much of ourselves to be cured of things faster than we should,” the professor says at one reflective point, “that we go bankrupt by the age of 30.” This is a very, very good film devoted to love, and to forestalling the cure permanently.Michael Phillips is the Chicago Tribune film critic.\"Call Me By Your Name\" -- 3.5 starsMPAA rating: R (for sexual content, nudity and some language)Running time: 2:12Opens: FridayRELATED: 'Call Me By Your Name' voted best picture of 2017 by L.A. film critics »Michael Phillips on 'The Shape of Water,' another late 2017 highlight »Review: 'Darkest Hour,' Gary Oldman's dazzling Churchill turn »\n",
       "\n",
       "Check out the latest movie reviews from Michael Phillips and the Chicago Tribune.\n",
       "\n",
       "Check out reviews for all new music releases from Tribune music critic Greg Kot.>]>"
      ]
     },
     "execution_count": 35,
     "metadata": {},
     "output_type": "execute_result"
    }
   ],
   "source": [
    "Reviews.objects.filter(movie=callme)"
   ]
  },
  {
   "cell_type": "code",
   "execution_count": 48,
   "metadata": {},
   "outputs": [],
   "source": [
    "slate_callme = Reviews.objects.filter(organization=slateorg)[0]"
   ]
  },
  {
   "cell_type": "code",
   "execution_count": 51,
   "metadata": {},
   "outputs": [],
   "source": [
    "slate_callme_movie = slate_callme.movie"
   ]
  },
  {
   "cell_type": "code",
   "execution_count": 55,
   "metadata": {},
   "outputs": [],
   "source": [
    "slate_callme_movie.slug = 'call-me-by-your-name'"
   ]
  },
  {
   "cell_type": "code",
   "execution_count": 56,
   "metadata": {
    "collapsed": true
   },
   "outputs": [],
   "source": [
    "slate_callme.movie = slate_callme_movie"
   ]
  },
  {
   "cell_type": "code",
   "execution_count": 57,
   "metadata": {},
   "outputs": [
    {
     "name": "stdout",
     "output_type": "stream",
     "text": [
      "saving...\n",
      "saved\n"
     ]
    }
   ],
   "source": [
    "slate_callme_movie.save()"
   ]
  },
  {
   "cell_type": "code",
   "execution_count": 58,
   "metadata": {
    "collapsed": true
   },
   "outputs": [],
   "source": [
    "slate_callme.save()"
   ]
  },
  {
   "cell_type": "code",
   "execution_count": null,
   "metadata": {
    "collapsed": true
   },
   "outputs": [],
   "source": []
  },
  {
   "cell_type": "code",
   "execution_count": null,
   "metadata": {
    "collapsed": true
   },
   "outputs": [],
   "source": []
  },
  {
   "cell_type": "code",
   "execution_count": null,
   "metadata": {
    "collapsed": true
   },
   "outputs": [],
   "source": []
  },
  {
   "cell_type": "code",
   "execution_count": 46,
   "metadata": {},
   "outputs": [
    {
     "data": {
      "text/plain": [
       "u'call-me-by-your-name'"
      ]
     },
     "execution_count": 46,
     "metadata": {},
     "output_type": "execute_result"
    }
   ],
   "source": [
    "Reviews.objects.filter(organization=chi)[18].movie.slug"
   ]
  },
  {
   "cell_type": "code",
   "execution_count": 41,
   "metadata": {},
   "outputs": [
    {
     "data": {
      "text/plain": [
       "False"
      ]
     },
     "execution_count": 41,
     "metadata": {},
     "output_type": "execute_result"
    }
   ],
   "source": [
    "Reviews.objects.filter(organization=slateorg)[0].movie==Reviews.objects.filter(organization=chi)[18].movie"
   ]
  },
  {
   "cell_type": "code",
   "execution_count": 47,
   "metadata": {},
   "outputs": [
    {
     "name": "stdout",
     "output_type": "stream",
     "text": [
      "call-me-by-your-name-myyh\n",
      "blade-runner-2049\n",
      "darkest-hour\n",
      "lady-bird\n",
      "the-greatest-showman-26au\n",
      "the-meyerowitz-stories-new-and-selected\n",
      "wonderstruck\n",
      "the-shape-of-water-kb9m\n",
      "justice-league-t0rc\n",
      "coco-vylp\n",
      "phantom-thread-xnq3\n",
      "the-florida-project\n",
      "american-made\n",
      "mudbound\n",
      "the-killing-of-a-sacred-deer\n",
      "the-last-jedi\n",
      "murder-on-the-orient-express\n",
      "last-flag-flying\n"
     ]
    }
   ],
   "source": [
    "for rev in Reviews.objects.filter(organization=slateorg):\n",
    "    print rev.movie.slug"
   ]
  },
  {
   "cell_type": "code",
   "execution_count": 61,
   "metadata": {},
   "outputs": [
    {
     "data": {
      "text/plain": [
       "u'call-me-by-your-name'"
      ]
     },
     "execution_count": 61,
     "metadata": {},
     "output_type": "execute_result"
    }
   ],
   "source": [
    "Reviews.objects.filter(movie=callme)[0].movie.slug"
   ]
  },
  {
   "cell_type": "code",
   "execution_count": 83,
   "metadata": {},
   "outputs": [],
   "source": [
    "ladybird = Show.objects.all()[30].slug"
   ]
  },
  {
   "cell_type": "code",
   "execution_count": 88,
   "metadata": {},
   "outputs": [
    {
     "data": {
      "text/plain": [
       "u'ladybird'"
      ]
     },
     "execution_count": 88,
     "metadata": {},
     "output_type": "execute_result"
    }
   ],
   "source": [
    "ladybird"
   ]
  },
  {
   "cell_type": "code",
   "execution_count": 89,
   "metadata": {
    "collapsed": true
   },
   "outputs": [],
   "source": [
    "ladybird = Show.objects.all()[31]"
   ]
  },
  {
   "cell_type": "code",
   "execution_count": 92,
   "metadata": {},
   "outputs": [],
   "source": [
    "ladybird.name='lady bird'"
   ]
  },
  {
   "cell_type": "code",
   "execution_count": 95,
   "metadata": {},
   "outputs": [],
   "source": [
    "ladybird.slug = 'lady-bird'"
   ]
  },
  {
   "cell_type": "code",
   "execution_count": 97,
   "metadata": {},
   "outputs": [
    {
     "name": "stdout",
     "output_type": "stream",
     "text": [
      "saving...\n",
      "2017-12-18 03:32:06.130356+00:00\n",
      "saved\n",
      "2017-12-18 03:32:06.130356+00:00\n"
     ]
    }
   ],
   "source": [
    "ladybird.save()"
   ]
  },
  {
   "cell_type": "code",
   "execution_count": null,
   "metadata": {
    "collapsed": true
   },
   "outputs": [],
   "source": []
  }
 ],
 "metadata": {
  "kernelspec": {
   "display_name": "Django Shell-Plus",
   "language": "python",
   "name": "django_extensions"
  },
  "language_info": {
   "codemirror_mode": {
    "name": "ipython",
    "version": 2
   },
   "file_extension": ".py",
   "mimetype": "text/x-python",
   "name": "python",
   "nbconvert_exporter": "python",
   "pygments_lexer": "ipython2",
   "version": "2.7.13"
  }
 },
 "nbformat": 4,
 "nbformat_minor": 2
}
