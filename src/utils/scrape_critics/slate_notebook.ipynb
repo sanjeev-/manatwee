{
 "cells": [
  {
   "cell_type": "code",
   "execution_count": 1,
   "metadata": {
    "collapsed": true
   },
   "outputs": [],
   "source": [
    "import os, errno, sys\n",
    "from bs4 import BeautifulSoup\n",
    "from requests import get\n",
    "from textblob import TextBlob\n",
    "import pandas as pd\n",
    "from pyteaser import Summarize\n",
    "from django.utils.encoding import smart_str, smart_unicode\n",
    "from scraper_functions import *\n",
    "\n",
    "proj_path = \"/home/ubuntu/cv/aerial/DeepNetsEO/DeepNetsForEO/nlp/site/src/\"\n",
    "# This is so Django knows where to find stuff.\n",
    "os.environ.setdefault(\"DJANGO_SETTINGS_MODULE\", \"manatwee.settings\")\n",
    "sys.path.append(proj_path)\n",
    "\n",
    "# This is so my local_settings.py gets loaded.\n",
    "os.chdir(proj_path)\n",
    "\n",
    "# This is so models get loaded.\n",
    "from django.core.wsgi import get_wsgi_application\n",
    "application = get_wsgi_application()\n",
    "\n",
    "from twttr.models import *\n",
    "from critic.models import *\n"
   ]
  },
  {
   "cell_type": "code",
   "execution_count": 2,
   "metadata": {
    "collapsed": true
   },
   "outputs": [],
   "source": [
    "SLATE_URL = 'http://www.slate.com/articles/arts/movies.html'\n",
    "\n"
   ]
  },
  {
   "cell_type": "code",
   "execution_count": 4,
   "metadata": {},
   "outputs": [],
   "source": [
    "SlateSoup = BeautifulSoup(get(SLATE_URL).text,'html.parser')"
   ]
  },
  {
   "cell_type": "code",
   "execution_count": 75,
   "metadata": {},
   "outputs": [
    {
     "name": "stdout",
     "output_type": "stream",
     "text": [
      "https://slate.com/arts/2017/12/the-greatest-showman-the-movie-musical-reviewed.html\n",
      "The Greatest Showman \n",
      "the-greatest-showman-\n",
      "True\n",
      "got to if statement\n",
      "https://slate.com/arts/2017/12/darkest-hour-starring-gary-oldman-reviewed.html\n",
      "Darkest Hour\n",
      "darkest-hour\n",
      "True\n",
      "got to if statement\n",
      "https://slate.com/arts/2017/12/call-me-by-your-name-with-armie-hammer-reviewed.html\n",
      "Call Me by Your Name \n",
      "call-me-by-your-name-\n",
      "True\n",
      "got to if statement\n",
      "https://slate.com/arts/2017/12/murder-on-the-orient-express-reviewed.html\n",
      "Murder on the Orient Express \n",
      "murder-on-the-orient-express-\n",
      "True\n",
      "got to if statement\n",
      "https://slate.com/arts/2017/12/thor-ragnarok-the-latest-marvel-movie-reviewed.html\n",
      "Thor: Ragnarok \n",
      "thor:-ragnarok-\n",
      "False\n",
      "https://slate.com/arts/2017/12/darren-aronofsky-and-jennifer-lawrences-mother-reviewed.html\n",
      "Mother!\n",
      "mother!\n",
      "False\n",
      "https://slate.com/arts/2017/12/blade-runner-2049-starring-ryan-gosling-reviewed.html\n",
      "Blade Runner 2049 \n",
      "blade-runner-2049-\n",
      "True\n",
      "got to if statement\n",
      "https://slate.com/arts/2017/12/richard-linklaters-last-flag-flying-reviewed.html\n",
      "Last Flag Flying \n",
      "last-flag-flying-\n",
      "True\n",
      "got to if statement\n",
      "https://slate.com/arts/2017/12/the-killing-of-a-sacred-deer-reviewed.html\n",
      "The Killing of a Sacred Deer \n",
      "the-killing-of-a-sacred-deer-\n",
      "True\n",
      "got to if statement\n",
      "https://slate.com/arts/2017/12/american-made-tom-cruises-new-movie-reviewed.html\n",
      "American Made \n",
      "american-made-\n",
      "True\n",
      "got to if statement\n",
      "movie not found. skipping...\n",
      "https://slate.com/arts/2017/12/phantom-thread-with-daniel-day-lewis-reviewed.html\n",
      "Phantom Thread \n",
      "phantom-thread-\n",
      "True\n",
      "got to if statement\n",
      "https://slate.com/arts/2017/12/dee-rees-new-netflix-movie-mudbound-reviewed.html\n",
      "Mudbound \n",
      "mudbound-\n",
      "True\n",
      "got to if statement\n",
      "https://slate.com/arts/2017/12/greta-gerwigs-new-movie-lady-bird-reviewed.html\n",
      "Lady Bird \n",
      "lady-bird-\n",
      "True\n",
      "got to if statement\n",
      "https://slate.com/arts/2017/12/coco-the-new-movie-from-pixar-reviewed.html\n",
      "Coco \n",
      "coco-\n",
      "True\n",
      "got to if statement\n",
      "https://slate.com/arts/2017/12/justice-league-dcs-new-superhero-movie-reviewed.html\n",
      "Justice League \n",
      "justice-league-\n",
      "True\n",
      "got to if statement\n",
      "https://slate.com/arts/2017/12/guillermo-del-toros-the-shape-of-water-reviewed.html\n",
      "The Shape of Water \n",
      "the-shape-of-water-\n",
      "True\n",
      "got to if statement\n",
      "https://slate.com/arts/2017/12/three-billboards-outside-ebbing-missouri-reviewed.html\n",
      "Three Billboards Outside Ebbing, Missouri \n",
      "three-billboards-outside-ebbing,-missouri-\n",
      "False\n",
      "https://slate.com/arts/2017/12/my-little-pony-the-movie-reviewed.html\n",
      "My Little Pony: The Movie\n",
      "my-little-pony:-the-movie\n",
      "False\n",
      "https://slate.com/arts/2017/12/the-meyerowitz-stories-new-and-selected-reviewed.html\n",
      "The Meyerowitz Stories (New and Selected)\n",
      "the-meyerowitz-stories-new-and-selected\n",
      "True\n",
      "got to if statement\n",
      "https://slate.com/arts/2017/12/the-florida-project-with-willem-dafoe-reviewed.html\n",
      "The Florida Project\n",
      "the-florida-project\n",
      "True\n",
      "got to if statement\n",
      "https://slate.com/arts/2017/12/wonderstruck-todd-haynes-new-movie-reviewed.html\n",
      "Wonderstruck \n",
      "wonderstruck-\n",
      "True\n",
      "got to if statement\n",
      "https://slate.com/arts/2017/12/star-wars-the-last-jedi-reviewed.html\n",
      "The Last Jedi \n",
      "the-last-jedi-\n",
      "True\n",
      "got to if statement\n",
      "https://slate.com/arts/2017/12/i-tonya-the-tonya-harding-movie-reviewed.html\n",
      "Goodfellas\n",
      "goodfellas\n",
      "False\n"
     ]
    }
   ],
   "source": [
    "slate_dict = {}\n",
    "for item in SlateSoup.find_all('div',class_=\"tile long-hed stacked\"):\n",
    "    if 'reviewed' in item.find_all('a')[0]['href']:\n",
    "        try:\n",
    "            r_url= item.find_all('a')[0]['href']\n",
    "            urllist.append(r_url)\n",
    "\n",
    "            r_soup = BeautifulSoup(get(r_url).text,'html.parser')\n",
    "            r_title = r_soup.find_all('h1',class_='article__hed')[0].findAll('em')[0].text\n",
    "\n",
    "            print r_url\n",
    "            print r_title\n",
    "            \n",
    "            r_title_slug = r_title.lower().replace(' ','-').replace('(','').replace(')','')\n",
    "            print r_title_slug\n",
    "            print r_title_slug in r_url\n",
    "            if r_title_slug in r_url:\n",
    "                print 'got to if statement'\n",
    "                r_dict = {}\n",
    "                r_text = ''\n",
    "                for item in r_soup.find_all('p',class_='slate-paragraph'):\n",
    "                    r_text += item.text\n",
    "                r_sentiment = TextBlob(r_text).sentiment\n",
    "                r_polarity = r_sentiment[0]\n",
    "                r_subjectivity = r_sentiment[1]\n",
    "                summary = Summarize(r_title,r_text)\n",
    "                r_blurb = ' '.join(summary)\n",
    "                r_thumbsup = 'Positive' if r_polarity >0 else 'Negative'\n",
    "                r_critic = r_soup.find_all('meta',attrs={'name':'author'})[0]['content']\n",
    "                r_dict['critic'] = r_critic\n",
    "                r_dict['text'] = r_text\n",
    "                r_dict['blurb'] = r_blurb\n",
    "                r_dict['review_subjectivity'] = r_subjectivity\n",
    "                r_dict['review_polarity'] = r_polarity\n",
    "                r_dict['sentiment'] = r_sentiment\n",
    "                r_dict['thumbsup'] = r_thumbsup\n",
    "                slate_dict[r_title] = r_dict \n",
    "                \n",
    "            \n",
    "        except:\n",
    "            print 'movie not found. skipping...'\n",
    "        \n",
    "\n",
    "        \n"
   ]
  },
  {
   "cell_type": "code",
   "execution_count": null,
   "metadata": {},
   "outputs": [],
   "source": []
  },
  {
   "cell_type": "code",
   "execution_count": 28,
   "metadata": {},
   "outputs": [],
   "source": [
    "r_soup = BeautifulSoup(get(urllist[0]).text,'html.parser')"
   ]
  },
  {
   "cell_type": "code",
   "execution_count": 45,
   "metadata": {},
   "outputs": [
    {
     "data": {
      "text/plain": [
       "u'The Greatest Showman '"
      ]
     },
     "execution_count": 45,
     "metadata": {},
     "output_type": "execute_result"
    }
   ],
   "source": [
    "r_soup.find_all('h1',class_='article__hed')[0].findAll('em')[0].text"
   ]
  },
  {
   "cell_type": "code",
   "execution_count": 47,
   "metadata": {},
   "outputs": [
    {
     "data": {
      "text/plain": [
       "{u'Goodfellas': {'link': u'https://slate.com/arts/2017/12/i-tonya-the-tonya-harding-movie-reviewed.html',\n",
       "  'name': u'Goodfellas'}}"
      ]
     },
     "execution_count": 47,
     "metadata": {},
     "output_type": "execute_result"
    }
   ],
   "source": [
    "slate_dict"
   ]
  },
  {
   "cell_type": "code",
   "execution_count": 60,
   "metadata": {},
   "outputs": [],
   "source": [
    "r_text = ''\n",
    "for item in r_soup.find_all('p',class_='slate-paragraph'):\n",
    "    r_text += item.text"
   ]
  },
  {
   "cell_type": "code",
   "execution_count": 63,
   "metadata": {},
   "outputs": [
    {
     "data": {
      "text/plain": [
       "u'Sam Adams'"
      ]
     },
     "execution_count": 63,
     "metadata": {},
     "output_type": "execute_result"
    }
   ],
   "source": [
    "r_soup.find_all('meta',attrs={'name':'author'})[0]['content']"
   ]
  },
  {
   "cell_type": "code",
   "execution_count": null,
   "metadata": {
    "collapsed": true
   },
   "outputs": [],
   "source": []
  }
 ],
 "metadata": {
  "kernelspec": {
   "display_name": "Django Shell-Plus",
   "language": "python",
   "name": "django_extensions"
  },
  "language_info": {
   "codemirror_mode": {
    "name": "ipython",
    "version": 2
   },
   "file_extension": ".py",
   "mimetype": "text/x-python",
   "name": "python",
   "nbconvert_exporter": "python",
   "pygments_lexer": "ipython2",
   "version": "2.7.13"
  }
 },
 "nbformat": 4,
 "nbformat_minor": 2
}
