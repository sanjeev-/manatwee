{
 "cells": [
  {
   "cell_type": "code",
   "execution_count": 78,
   "metadata": {
    "collapsed": true
   },
   "outputs": [],
   "source": [
    "import os, errno, sys\n",
    "from bs4 import BeautifulSoup\n",
    "from requests import get\n",
    "from textblob import TextBlob\n",
    "import pandas as pd\n",
    "from pyteaser import Summarize\n",
    "from django.utils.encoding import smart_str, smart_unicode\n",
    "from scraper_functions import *\n",
    "\n",
    "proj_path = \"/home/ubuntu/cv/aerial/DeepNetsEO/DeepNetsForEO/nlp/site/src/\"\n",
    "# This is so Django knows where to find stuff.\n",
    "os.environ.setdefault(\"DJANGO_SETTINGS_MODULE\", \"manatwee.settings\")\n",
    "sys.path.append(proj_path)\n",
    "\n",
    "# This is so my local_settings.py gets loaded.\n",
    "os.chdir(proj_path)\n",
    "\n",
    "# This is so models get loaded.\n",
    "from django.core.wsgi import get_wsgi_application\n",
    "application = get_wsgi_application()\n",
    "\n",
    "from twttr.models import *\n",
    "from critic.models import *\n"
   ]
  },
  {
   "cell_type": "code",
   "execution_count": 79,
   "metadata": {
    "collapsed": true
   },
   "outputs": [],
   "source": [
    "CHI_URL = 'http://www.chicagotribune.com/entertainment/movies/'\n"
   ]
  },
  {
   "cell_type": "code",
   "execution_count": 80,
   "metadata": {
    "collapsed": true
   },
   "outputs": [],
   "source": [
    "\n"
   ]
  },
  {
   "cell_type": "code",
   "execution_count": 81,
   "metadata": {},
   "outputs": [
    {
     "data": {
      "text/plain": [
       "u'/entertainment/movies/sc-mov-mollys-game-review-1221-story.html#nt=barker&bn=Barker%2006%20-%20In%20Case%20You%20Missed%20It'"
      ]
     },
     "execution_count": 81,
     "metadata": {},
     "output_type": "execute_result"
    }
   ],
   "source": [
    "CHISoup.find_all('div',class_='trb_brk_gc_i')[0].find_all('a')[0]['href']"
   ]
  },
  {
   "cell_type": "code",
   "execution_count": 89,
   "metadata": {
    "scrolled": true
   },
   "outputs": [
    {
     "name": "stdout",
     "output_type": "stream",
     "text": [
      "Mollys Game: 0.0643122400475\n",
      "Pitch Perfect 3: 0.161354312354\n",
      "Downsizing: 0.0414239332096\n",
      "Father Figures: 0.100643681715\n",
      "All the Money in the World: 0.0874132166738\n",
      "I, Tonya: 0.127602741828\n",
      "Jumanji: Welcome to the Jungle: 0.154574420677\n",
      "The Ballad of Lefty Brown: 0.156209270121\n",
      "Ferdinand: 0.120436507937\n",
      "Call Me by Your Name: 0.204645999162\n",
      "Star Wars: The Last Jedi: 0.169744716068\n",
      "Una: 0.0819171522922\n",
      "Wonder Wheel: 0.133166104141\n",
      "The Shape of Water: 0.109996269513\n",
      "Darkest Hour: 0.128486673969\n",
      "For Ahkeem: -0.0033411033411\n",
      "Thirst Street: 0.0926622957146\n",
      "The Disaster Artist: 0.10334202383\n",
      "Bill Nye: Science Guy: 0.112206959707\n",
      "Gilbert: 0.13053268701\n",
      "The Future Perfect: 0.154458536255\n",
      "Sylvio: 0.14806041181\n",
      "Coco: 0.144967532468\n",
      "Roman J. Israel, Esq.: 0.0815493646139\n",
      "BPM: 0.144071180556\n"
     ]
    }
   ],
   "source": [
    "chi={}\n",
    "for x in CHISoup.find_all('div',class_='trb_brk_gc_i'):\n",
    "    title = x.find_all('a')[0].find_all('figure')[0].find_all('img')[0]['title']\n",
    "    if 'review:' in title:\n",
    "        r_dict = {}\n",
    "        r_url = CHI_URL + x.find_all('a')[0]['href']\n",
    "        title = str(title[:title.find('review')]).replace(\"'\",\"\").strip()\n",
    "        r_soup = BeautifulSoup(get(r_url).text,'html.parser')\n",
    "        r_critic = r_soup.find_all('meta',attrs={'name':'author'})[0]['content']\n",
    "        r_text = ''\n",
    "        for piece in r_soup.find_all('div',class_='trb_ar_page')[0].find_all('p'):\n",
    "            r_text += piece.text\n",
    "        r_sentiment = TextBlob(r_text).sentiment\n",
    "        r_polarity = r_sentiment[0]\n",
    "        r_subjectivity = r_sentiment[1]\n",
    "        summary = Summarize(title,r_text)\n",
    "        r_blurb = ' '.join(summary)\n",
    "        r_thumbsup = 'Positive' if r_polarity >0 else 'Negative'\n",
    "        print title + \": \" + str(r_polarity)\n",
    "        r_dict['critic'] = r_critic\n",
    "        r_dict['text'] = r_text\n",
    "        r_dict['blurb'] = r_blurb\n",
    "        r_dict['review_subjectivity'] = r_subjectivity\n",
    "        r_dict['review_polarity'] = r_polarity\n",
    "        r_dict['sentiment'] = r_sentiment\n",
    "        r_dict['thumbsup'] = r_thumbsup\n",
    "        chi[title]=r_dict"
   ]
  },
  {
   "cell_type": "code",
   "execution_count": 38,
   "metadata": {
    "collapsed": true
   },
   "outputs": [],
   "source": [
    "a=CHISoup.find_all('div',class_='trb_brk_gc_i')[0].find_all('a')[0].find_all('figure')[0].find_all('img')[0]['title']"
   ]
  },
  {
   "cell_type": "code",
   "execution_count": 45,
   "metadata": {},
   "outputs": [
    {
     "data": {
      "text/plain": [
       "'Mollys Game'"
      ]
     },
     "execution_count": 45,
     "metadata": {},
     "output_type": "execute_result"
    }
   ],
   "source": [
    "str(a[:a.find('review')]).replace(\"'\",\"\").strip()"
   ]
  },
  {
   "cell_type": "code",
   "execution_count": 50,
   "metadata": {
    "collapsed": true
   },
   "outputs": [],
   "source": [
    "molly_url = 'http://www.chicagotribune.com/entertainment/movies//entertainment/movies/sc-mov-mollys-game-review-1221-story.html#nt=barker&bn=Barker%2006%20-%20In%20Case%20You%20Missed%20It'\n",
    "molly_soup = BeautifulSoup(get(molly_url).text,'html.parser')"
   ]
  },
  {
   "cell_type": "code",
   "execution_count": 54,
   "metadata": {},
   "outputs": [
    {
     "data": {
      "text/plain": [
       "u'Michael Phillips'"
      ]
     },
     "execution_count": 54,
     "metadata": {},
     "output_type": "execute_result"
    }
   ],
   "source": [
    "molly_soup.find_all('meta',attrs={'name':'author'})[0]['content']"
   ]
  },
  {
   "cell_type": "code",
   "execution_count": 69,
   "metadata": {
    "collapsed": true
   },
   "outputs": [],
   "source": [
    "r_text = ''\n",
    "for piece in molly_soup.find_all('div',class_='trb_ar_page')[0].find_all('p'):\n",
    "    r_text += piece.text"
   ]
  },
  {
   "cell_type": "code",
   "execution_count": 70,
   "metadata": {},
   "outputs": [
    {
     "data": {
      "text/plain": [
       "u'Molly Bloom\\u2019s 2014 memoir \\u201cMolly\\u2019s Game\\u201d was more of a tell-some than a tell-all. In the book, the former freestyle skiing Olympic hopeful discussed the accident that derailed her athletic career. Mainly, she wrote about her improbable career running a pricey, underground poker game in Los Angeles and, later, in New York City, where she ran afoul of mobsters, drugs and the feds, who arrested Bloom as part of a mafia investigation.Her book named names, up to a point. Leonardo DiCaprio, Ben Affleck and Tobey Maguire were among her A-list regulars, blowing through cash like Kleenex. But her memoir left a lot out, and that\\u2019s where writer-director Aaron Sorkin\\u2019s movie \\u201cMolly\\u2019s Game,\\u201d taking place before and after the publication of her book, comes in.It\\u2019s a good, brash biopic. For the first hour it\\u2019s very nearly terrific. Jessica Chastain plays Molly, driven hard by her taskmaster father (Kevin Costner), growing up in a fiercely competitive family. Years later in LA, Molly gets a job working for an industry bottom-feeder (Jeremy Strong, clearly fresh off a Giovanni Ribisi weasel workshop) who hosts a weekly poker game. Molly\\u2019s duties include recruiting high-rollers who might want to pal around with movie stars over huge, steaming piles of chips. Michael Cera plays one such star, euphemized in Sorkin\\u2019s script as \\u201cPlayer X.\\u201d The names of the real-life gamblers in Bloom\\u2019s book have been changed, presumably, to protect the litigious.Like Sorkin\\u2019s Oscar-winning \\u201cSocial Network\\u201d screenplay, this one\\u2019s a shrewd welter of flashbacks and present-day scenes. Everything builds to the moment when Molly determines whether to plead guilty to the feds\\u2019 charges. Along the way she locks horns and trades high-speed banter with her silky-smooth attorney. Idris Elba is a godsend in this role, one that requires a fast mouth (it\\u2019s Sorkin), a lively wit and fire in the eyes. That last quality\\u2019s particularly helpful when there\\u2019s a ton of legalese to carve up and serve to the audience.Chastain\\u2019s aces in \\u201cMolly\\u2019s Game,\\u201d capturing both the Colorado free spirit and, as Elba\\u2019s character says, \\u201cthe Cinemax version\\u201d of herself once she establishes a reputation as the notorious \\u201cpoker princess\\u201d riding for a fall. \\u201cI\\u2019d always figured sophistication would be easy to learn if I ever needed it,\\u201d Molly reckons in voice-over.The \\u201cfall\\u201d part rarely is as easy, or as fun, as the \\u201crise\\u201d in a fact-based chronicle of ambition, greed and moral compromise. In the second half of this longish film (140 minutes with credits), Sorkin struggles to accommodate Molly wrestling with her father issues, and her mission to have \\u201cpower over powerful men.\\u201d Here the writing gets blunt and a little less artful. These later scenes hark back to some of the lesser sequences in Sorkin\\u2019s \\u201cSteve Jobs\\u201d script. The best of \\u201cMolly\\u2019s Game,\\u201d however, is more on the \\u201cSocial Network\\u201d level, edgy and rhythmic. This is Sorkin\\u2019s feature directorial debut, and I\\u2019m happy to say it doesn\\u2019t look that way.Michael Phillips is the Chicago Tribune film critic. \"Molly\\'s Game\" -- 3 starsMPAA rating: R (for language, drug content and some violence)Running time: 2:20Opens: Monday (Dec. 25)RELATED: Michael Phillips review of \\'The Social Network,\\' Aaron Sorkin\\'s Oscar-winning docudrama \\xbbAaron Sorkin\\'s portrait of a belligerent titan: \\'Steve Jobs\\' \\xbbAaron Sorkin talks about \\'Molly\\'s Game,\\' his directorial debut \\xbb\\n\\nCheck out the latest movie reviews from Michael Phillips and the Chicago Tribune.\\n\\nCheck out reviews for all new music releases from Tribune music critic Greg Kot.'"
      ]
     },
     "execution_count": 70,
     "metadata": {},
     "output_type": "execute_result"
    }
   ],
   "source": [
    "r_text"
   ]
  },
  {
   "cell_type": "code",
   "execution_count": 95,
   "metadata": {},
   "outputs": [
    {
     "data": {
      "text/plain": [
       "<QuerySet [<Critic: Glenn Kenny>, <Critic: Andy Webster>, <Critic: Ben Kenigsberg>, <Critic: Manohla Dargis>, <Critic: Jeannette Catsoulis>, <Critic: Teo Bugbee>, <Critic: Ken Jaworowski>, <Critic: Monica Castillo>, <Critic: A.O. Scott>, <Critic: Neil Young >, <Critic: Stephen Dalton>, <Critic: Todd McCarthy>, <Critic: John DeFore>, <Critic: Frank Scheck>, <Critic: Sheri Linden >, <Critic: Justin Lowe >, <Critic: Michael Rechtshaffen>, <Critic: Jonathan Holland >, <Critic: Jordan Mintzer>, <Critic: Stephen Farber >, '...(remaining elements truncated)...']>"
      ]
     },
     "execution_count": 95,
     "metadata": {},
     "output_type": "execute_result"
    }
   ],
   "source": [
    "Critic.objects.all()"
   ]
  },
  {
   "cell_type": "code",
   "execution_count": 93,
   "metadata": {},
   "outputs": [
    {
     "data": {
      "text/plain": [
       "<Critic: Guy Lodge>"
      ]
     },
     "execution_count": 93,
     "metadata": {},
     "output_type": "execute_result"
    }
   ],
   "source": [
    "Critic.objects.get(name='Guy Lodge')"
   ]
  },
  {
   "cell_type": "code",
   "execution_count": 101,
   "metadata": {},
   "outputs": [],
   "source": [
    "critic_score=0\n",
    "pos_revs=0\n",
    "total_revs=0\n",
    "for item in Reviews.objects.filter(movie=Movie.objects.get(name='The Post')):\n",
    "    j+=1\n",
    "    if item.thumbsup == 'Positive':\n",
    "        i+=1\n",
    "critic_score = float(i)/float(j)\n",
    "    "
   ]
  },
  {
   "cell_type": "code",
   "execution_count": 102,
   "metadata": {},
   "outputs": [
    {
     "data": {
      "text/plain": [
       "1.0"
      ]
     },
     "execution_count": 102,
     "metadata": {},
     "output_type": "execute_result"
    }
   ],
   "source": [
    "critic_score"
   ]
  },
  {
   "cell_type": "code",
   "execution_count": 103,
   "metadata": {},
   "outputs": [
    {
     "data": {
      "text/plain": [
       "4"
      ]
     },
     "execution_count": 103,
     "metadata": {},
     "output_type": "execute_result"
    }
   ],
   "source": [
    "i"
   ]
  },
  {
   "cell_type": "code",
   "execution_count": 104,
   "metadata": {},
   "outputs": [
    {
     "data": {
      "text/plain": [
       "4"
      ]
     },
     "execution_count": 104,
     "metadata": {},
     "output_type": "execute_result"
    }
   ],
   "source": [
    "j"
   ]
  },
  {
   "cell_type": "code",
   "execution_count": null,
   "metadata": {
    "collapsed": true
   },
   "outputs": [],
   "source": []
  }
 ],
 "metadata": {
  "kernelspec": {
   "display_name": "Django Shell-Plus",
   "language": "python",
   "name": "django_extensions"
  },
  "language_info": {
   "codemirror_mode": {
    "name": "ipython",
    "version": 2
   },
   "file_extension": ".py",
   "mimetype": "text/x-python",
   "name": "python",
   "nbconvert_exporter": "python",
   "pygments_lexer": "ipython2",
   "version": "2.7.13"
  }
 },
 "nbformat": 4,
 "nbformat_minor": 2
}
