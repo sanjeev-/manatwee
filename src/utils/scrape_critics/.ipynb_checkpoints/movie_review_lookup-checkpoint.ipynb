{
 "cells": [
  {
   "cell_type": "code",
   "execution_count": 1,
   "metadata": {
    "collapsed": true
   },
   "outputs": [],
   "source": [
    "import os, errno, sys\n",
    "from bs4 import BeautifulSoup\n",
    "from requests import get\n",
    "from textblob import TextBlob\n",
    "import pandas as pd\n",
    "from pyteaser import Summarize\n",
    "from django.utils.encoding import smart_str, smart_unicode\n",
    "from scraper_functions import *\n",
    "\n",
    "proj_path = \"/home/ubuntu/cv/aerial/DeepNetsEO/DeepNetsForEO/nlp/site/src/\"\n",
    "# This is so Django knows where to find stuff.\n",
    "os.environ.setdefault(\"DJANGO_SETTINGS_MODULE\", \"manatwee.settings\")\n",
    "sys.path.append(proj_path)\n",
    "\n",
    "# This is so my local_settings.py gets loaded.\n",
    "os.chdir(proj_path)\n",
    "\n",
    "# This is so models get loaded.\n",
    "from django.core.wsgi import get_wsgi_application\n",
    "application = get_wsgi_application()\n",
    "\n",
    "from twttr.models import *\n",
    "from critic.models import *\n",
    "\n",
    "\n"
   ]
  },
  {
   "cell_type": "code",
   "execution_count": 2,
   "metadata": {
    "collapsed": true
   },
   "outputs": [],
   "source": [
    "import pandas as pd"
   ]
  },
  {
   "cell_type": "code",
   "execution_count": 3,
   "metadata": {
    "collapsed": true
   },
   "outputs": [],
   "source": [
    "df = pd.DataFrame(list(Reviews.objects.all().values()))\n"
   ]
  },
  {
   "cell_type": "code",
   "execution_count": 10,
   "metadata": {
    "scrolled": true
   },
   "outputs": [
    {
     "data": {
      "text/plain": [
       "movie_id\n",
       "25     5\n",
       "44     5\n",
       "79     5\n",
       "67     5\n",
       "86     4\n",
       "65     4\n",
       "23     4\n",
       "26     3\n",
       "31     3\n",
       "34     3\n",
       "134    3\n",
       "87     3\n",
       "111    3\n",
       "58     3\n",
       "100    3\n",
       "83     3\n",
       "59     3\n",
       "42     3\n",
       "16     2\n",
       "94     2\n",
       "54     2\n",
       "52     2\n",
       "164    2\n",
       "9      2\n",
       "60     2\n",
       "122    2\n",
       "64     2\n",
       "7      2\n",
       "6      2\n",
       "132    2\n",
       "      ..\n",
       "96     1\n",
       "107    1\n",
       "95     1\n",
       "92     1\n",
       "91     1\n",
       "90     1\n",
       "89     1\n",
       "173    1\n",
       "85     1\n",
       "106    1\n",
       "108    1\n",
       "128    1\n",
       "119    1\n",
       "127    1\n",
       "126    1\n",
       "125    1\n",
       "124    1\n",
       "123    1\n",
       "121    1\n",
       "120    1\n",
       "118    1\n",
       "109    1\n",
       "117    1\n",
       "116    1\n",
       "115    1\n",
       "114    1\n",
       "113    1\n",
       "112    1\n",
       "110    1\n",
       "1      1\n",
       "Length: 174, dtype: int64"
      ]
     },
     "execution_count": 10,
     "metadata": {},
     "output_type": "execute_result"
    }
   ],
   "source": [
    "df.groupby(df['movie_id']).size().sort_values(ascending=False)"
   ]
  },
  {
   "cell_type": "code",
   "execution_count": 13,
   "metadata": {},
   "outputs": [
    {
     "data": {
      "text/plain": [
       "<Movie: Bombshell: The Hedy Lamarr Story>"
      ]
     },
     "execution_count": 13,
     "metadata": {},
     "output_type": "execute_result"
    }
   ],
   "source": []
  },
  {
   "cell_type": "code",
   "execution_count": null,
   "metadata": {
    "collapsed": true
   },
   "outputs": [],
   "source": []
  }
 ],
 "metadata": {
  "kernelspec": {
   "display_name": "Django Shell-Plus",
   "language": "python",
   "name": "django_extensions"
  },
  "language_info": {
   "codemirror_mode": {
    "name": "ipython",
    "version": 2
   },
   "file_extension": ".py",
   "mimetype": "text/x-python",
   "name": "python",
   "nbconvert_exporter": "python",
   "pygments_lexer": "ipython2",
   "version": "2.7.13"
  }
 },
 "nbformat": 4,
 "nbformat_minor": 2
}
