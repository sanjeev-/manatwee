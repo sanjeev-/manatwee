{
 "cells": [
  {
   "cell_type": "code",
   "execution_count": 5,
   "metadata": {},
   "outputs": [
    {
     "name": "stdout",
     "output_type": "stream",
     "text": [
      "/home/ubuntu/cv/aerial/DeepNetsEO/DeepNetsForEO/nlp/site/src/utils/scrape_critics\n"
     ]
    }
   ],
   "source": [
    "cd utils/scrape_critics"
   ]
  },
  {
   "cell_type": "code",
   "execution_count": 9,
   "metadata": {},
   "outputs": [],
   "source": [
    "from scraper_functions import *"
   ]
  },
  {
   "cell_type": "code",
   "execution_count": 11,
   "metadata": {},
   "outputs": [],
   "source": [
    "import os, errno, sys\n",
    "from bs4 import BeautifulSoup\n",
    "from requests import get\n",
    "from textblob import TextBlob\n",
    "import pandas as pd\n",
    "from pyteaser import Summarize\n",
    "from django.utils.encoding import smart_str, smart_unicode"
   ]
  },
  {
   "cell_type": "code",
   "execution_count": 12,
   "metadata": {
    "collapsed": true
   },
   "outputs": [],
   "source": [
    "IW_URL = 'http://www.indiewire.com/t/reviews/'"
   ]
  },
  {
   "cell_type": "code",
   "execution_count": 14,
   "metadata": {},
   "outputs": [],
   "source": [
    "IWSoup = BeautifulSoup(get(IW_URL).text,'html.parser')"
   ]
  },
  {
   "cell_type": "code",
   "execution_count": 26,
   "metadata": {},
   "outputs": [
    {
     "data": {
      "text/plain": [
       "u'http://www.indiewire.com/2017/12/pitch-perfect-3-review-anna-kendrick-trish-sie-1201908606/'"
      ]
     },
     "execution_count": 26,
     "metadata": {},
     "output_type": "execute_result"
    }
   ],
   "source": [
    "IWSoup.find_all('header',class_='entry-header')[0].a['href']"
   ]
  },
  {
   "cell_type": "code",
   "execution_count": 37,
   "metadata": {},
   "outputs": [],
   "source": [
    "name_str = IWSoup.find_all('header',class_='entry-header')[2].text"
   ]
  },
  {
   "cell_type": "code",
   "execution_count": 45,
   "metadata": {},
   "outputs": [
    {
     "data": {
      "text/plain": [
       "u'Star Wars: The Last Jedi'"
      ]
     },
     "execution_count": 45,
     "metadata": {},
     "output_type": "execute_result"
    }
   ],
   "source": [
    "name_str[2:name_str.find('Review')-2]"
   ]
  },
  {
   "cell_type": "code",
   "execution_count": null,
   "metadata": {
    "collapsed": true
   },
   "outputs": [],
   "source": []
  },
  {
   "cell_type": "code",
   "execution_count": 71,
   "metadata": {
    "collapsed": true
   },
   "outputs": [],
   "source": [
    "def IW():\n",
    "    IW_URL = 'http://www.indiewire.com/t/reviews/'\n",
    "    IWSoup = BeautifulSoup(get(IW_URL).text,'html.parser')\n",
    "    iw_dict = {}\n",
    "    for entry in IWSoup.find_all('header',class_='entry-header'):\n",
    "        r_dict = {}\n",
    "        name_str = entry.text\n",
    "        name = name_str[2:name_str.find('Review')-2]\n",
    "        \n",
    "        r_dict['name'] = name\n",
    "        link = entry.a['href']\n",
    "        r_dict['link'] = link\n",
    "        \n",
    "        r_soup = BeautifulSoup(get(link).text,'html.parser')\n",
    "        r_critic = r_soup.find_all('meta',attrs={'name':'author'})[0]['content']\n",
    "        r_text = r_soup.find_all('meta',attrs={'name':'body'})[0]['content']\n",
    "        r_sentiment = TextBlob(r_text).sentiment\n",
    "        r_polarity = r_sentiment[0]\n",
    "        r_subjectivity = r_sentiment[1]\n",
    "        summary = Summarize(name,r_text)\n",
    "        r_blurb = ' '.join(summary)\n",
    "        r_thumbsup = 'Positive' if r_polarity >0 else 'Negative'\n",
    "        \n",
    "        r_dict['critic'] = r_critic\n",
    "        r_dict['text'] = r_text\n",
    "        r_dict['blurb'] = r_blurb\n",
    "        r_dict['review_subjectivity'] = r_subjectivity\n",
    "        r_dict['review_polarity'] = r_polarity\n",
    "        r_dict['sentiment'] = r_sentiment\n",
    "        r_dict['thumbsup'] = r_thumbsup\n",
    "        \n",
    "        \n",
    "        iw_dict[name] = r_dict\n",
    "        \n",
    "    return iw_dict\n",
    "    \n",
    "    "
   ]
  },
  {
   "cell_type": "code",
   "execution_count": 72,
   "metadata": {
    "scrolled": true
   },
   "outputs": [],
   "source": [
    "iw = IW()"
   ]
  },
  {
   "cell_type": "code",
   "execution_count": 107,
   "metadata": {
    "collapsed": true
   },
   "outputs": [],
   "source": [
    "def reviewsDictToDatabase(mydict,name_of_publication):\n",
    "    \n",
    "    if Organization.objects.filter(name=name_of_publication).exists():\n",
    "        print 'Organization %s already exists!' % (name_of_publication)\n",
    "    else:\n",
    "        newOrg = Organization(name=name_of_publication)\n",
    "        newOrg.save()\n",
    "        print 'added %s to the Organization Database' % (name_of_publication)\n",
    "    \n",
    "    myOrg = Organization.objects.get(name=name_of_publication)\n",
    "    defaultDir = Director.objects.all()[0]\n",
    "    \n",
    "    for movie_review in mydict:\n",
    "        r_name = mydict[movie_review]['name']\n",
    "        r_critic = mydict[movie_review]['critic']\n",
    "        r_link = mydict[movie_review]['link']\n",
    "        r_text = mydict[movie_review]['text']\n",
    "        r_blurb = mydict[movie_review]['blurb']\n",
    "        r_sentiment = mydict[movie_review]['sentiment']\n",
    "        r_thumbsup = mydict[movie_review]['thumbsup']\n",
    "        r_subjectivity = mydict[movie_review]['review_subjectivity']\n",
    "        r_polarity = mydict[movie_review]['review_polarity']\n",
    "        if Movie.objects.filter(name=r_name).exists():\n",
    "            print '%s movie already exists in the Database' % (r_name)\n",
    "        else:\n",
    "            newMovie = Movie(name=r_name,director=defaultDir)\n",
    "            newMovie.save()\n",
    "            print 'added %s to database' % (newMovie)\n",
    "            \n",
    "        if Critic.objects.filter(name=r_critic).exists():\n",
    "            print '%s critic already exists in the database!' % (r_critic)\n",
    "        else:\n",
    "            newCritic = Critic(name=r_critic,organization=myOrg)\n",
    "            print newCritic\n",
    "            newCritic.save()\n",
    "            print 'added %s from %s to critic database' % (r_critic, 'name_of_organization')\n",
    "        \n",
    "        print r_name\n",
    "        \n",
    "        mymovie = Movie.objects.get(name=r_name)\n",
    "        mycritic = Critic.objects.get(name=r_critic,organization=myOrg)\n",
    "        \n",
    "        if Reviews.objects.filter(movie=Movie.objects.get(name=r_name),critic=Critic.objects.get(name=r_critic,organization=myOrg)).exists():\n",
    "            print 'Review of %s from %s already exists!' % (name,r_author)\n",
    "        else:\n",
    "            print 'adding review'\n",
    "            mymov = Movie.objects.get(name=r_name)\n",
    "            mycritic = Critic.objects.get(name=r_critic,organization=myOrg)\n",
    "            newReview = Reviews(movie=mymov,critic=mycritic,organization=myOrg,review_url=r_link,text = r_text, blurb = r_blurb, thumbsup = r_thumbsup, review_polarity = r_polarity, review_subjectivity = r_subjectivity)\n",
    "            newReview.save()\n",
    "    return newReview"
   ]
  },
  {
   "cell_type": "code",
   "execution_count": 108,
   "metadata": {
    "scrolled": true
   },
   "outputs": [
    {
     "name": "stdout",
     "output_type": "stream",
     "text": [
      "Organization IndieWire already exists!\n",
      "Cuba and the Cameraman movie already exists in the Database\n",
      "David Ehrlich critic already exists in the database!\n",
      "Cuba and the Cameraman\n",
      "adding review\n",
      "The Breadwinner movie already exists in the Database\n",
      "David Ehrlich critic already exists in the database!\n",
      "The Breadwinner\n",
      "adding review\n",
      "Star Wars: The Last Jedi movie already exists in the Database\n",
      "Eric Kohn critic already exists in the database!\n",
      "Star Wars: The Last Jedi\n",
      "adding review\n",
      "Pitch Perfect 3 movie already exists in the Database\n",
      "Kate Erbland critic already exists in the database!\n",
      "Pitch Perfect 3\n",
      "adding review\n",
      "Voyeur movie already exists in the Database\n",
      "David Ehrlich critic already exists in the database!\n",
      "Voyeur\n",
      "adding review\n",
      "Jumanji: Welcome to the Jungle movie already exists in the Database\n",
      "David Ehrlich critic already exists in the database!\n",
      "Jumanji: Welcome to the Jungle\n",
      "adding review\n",
      "Justice League movie already exists in the Database\n",
      "Eric Kohn critic already exists in the database!\n",
      "Justice League\n",
      "adding review\n",
      "All the Money in the World movie already exists in the Database\n",
      "Eric Kohn critic already exists in the database!\n",
      "All the Money in the World\n",
      "adding review\n",
      "The Post movie already exists in the Database\n",
      "David Ehrlich critic already exists in the database!\n",
      "The Post\n",
      "adding review\n",
      "Birdboy: The Forgotten Children movie already exists in the Database\n",
      "David Ehrlich critic already exists in the database!\n",
      "Birdboy: The Forgotten Children\n",
      "adding review\n",
      "Brimstone & Glory movie already exists in the Database\n",
      "David Ehrlich critic already exists in the database!\n",
      "Brimstone & Glory\n",
      "adding review\n",
      "Phantom Thread movie already exists in the Database\n",
      "Eric Kohn critic already exists in the database!\n",
      "Phantom Thread\n",
      "adding review\n"
     ]
    }
   ],
   "source": [
    "a=reviewsDictToDatabase(iw,'IndieWire')"
   ]
  },
  {
   "cell_type": "code",
   "execution_count": 111,
   "metadata": {},
   "outputs": [
    {
     "data": {
      "text/plain": [
       "<Movie: Phantom Thread>"
      ]
     },
     "execution_count": 111,
     "metadata": {},
     "output_type": "execute_result"
    }
   ],
   "source": [
    "a.movie"
   ]
  },
  {
   "cell_type": "code",
   "execution_count": 115,
   "metadata": {
    "collapsed": true
   },
   "outputs": [],
   "source": [
    "mypath = \"/home/ubuntu/cv/aerial/DeepNetsEO/DeepNetsForEO/nlp/site/src/utils/scrape_critics\"\n"
   ]
  },
  {
   "cell_type": "code",
   "execution_count": 116,
   "metadata": {},
   "outputs": [],
   "source": [
    "from os import listdir\n",
    "from os.path import isfile, join\n",
    "onlyfiles = [f for f in listdir(mypath) if isfile(join(mypath, f))]"
   ]
  },
  {
   "cell_type": "code",
   "execution_count": 118,
   "metadata": {},
   "outputs": [],
   "source": [
    "onlyfiles.remove('__init__.py')"
   ]
  },
  {
   "cell_type": "code",
   "execution_count": 120,
   "metadata": {},
   "outputs": [],
   "source": [
    "onlyfiles.remove('scraper_functions.py')\n",
    "onlyfiles.remove('run_all_movie_scrapers.py')\n",
    "onlyfiles.remove('scraper_functions.pyc')"
   ]
  },
  {
   "cell_type": "code",
   "execution_count": 121,
   "metadata": {},
   "outputs": [
    {
     "data": {
      "text/plain": [
       "['NYT.py', 'variety.py', 'hollywood_reporter.py', 'indiewire.py']"
      ]
     },
     "execution_count": 121,
     "metadata": {},
     "output_type": "execute_result"
    }
   ],
   "source": [
    "onlyfiles"
   ]
  },
  {
   "cell_type": "code",
   "execution_count": 124,
   "metadata": {},
   "outputs": [
    {
     "name": "stdout",
     "output_type": "stream",
     "text": [
      "/home/ubuntu/cv/aerial/DeepNetsEO/DeepNetsForEO/nlp/site/src/utils/scrape_critics\n"
     ]
    }
   ],
   "source": [
    "cd utils/scrape_critics/"
   ]
  },
  {
   "cell_type": "code",
   "execution_count": 126,
   "metadata": {},
   "outputs": [],
   "source": [
    "from NYT import *"
   ]
  },
  {
   "cell_type": "code",
   "execution_count": 127,
   "metadata": {},
   "outputs": [
    {
     "name": "stdout",
     "output_type": "stream",
     "text": [
      "20\n"
     ]
    }
   ],
   "source": [
    "Dict = scrapeNYTMovie()"
   ]
  },
  {
   "cell_type": "code",
   "execution_count": 130,
   "metadata": {},
   "outputs": [
    {
     "name": "stdout",
     "output_type": "stream",
     "text": [
      "A.O. Scott already exists! \n",
      "Quest already exists!\n",
      "review of Quest from NYT already exists!\n",
      "Jeannette Catsoulis already exists! \n",
      "The Rape of Recy Taylor already exists!\n",
      "review of The Rape of Recy Taylor from NYT already exists!\n",
      "Manohla Dargis already exists! \n",
      "Star Wars: The Last Jedi already exists!\n",
      "review of Star Wars: The Last Jedi from NYT already exists!\n",
      "A.O. Scott already exists! \n",
      "Wormwood already exists!\n",
      "review of Wormwood from NYT already exists!\n",
      "Glenn Kenny already exists! \n",
      "Beyond Skyline already exists!\n",
      "review of Beyond Skyline from NYT already exists!\n",
      "Ben Kenigsberg already exists! \n",
      "Killing for Love already exists!\n",
      "review of Killing for Love from NYT already exists!\n",
      "Ben Kenigsberg already exists! \n",
      "Bullet Head already exists!\n",
      "review of Bullet Head from NYT already exists!\n",
      "Glenn Kenny already exists! \n",
      "Youth already exists!\n",
      "review of Youth from NYT already exists!\n",
      "Andy Webster already exists! \n",
      "Sundowners already exists!\n",
      "review of Sundowners from NYT already exists!\n",
      "Glenn Kenny already exists! \n",
      "Jumanji: Welcome to the Jungle already exists!\n",
      "review of Jumanji: Welcome to the Jungle from NYT already exists!\n",
      "Glenn Kenny already exists! \n",
      "Permanent already exists!\n",
      "review of Permanent from NYT already exists!\n",
      "Andy Webster already exists! \n",
      "Soufra already exists!\n",
      "review of Soufra from NYT already exists!\n",
      "A.O. Scott already exists! \n",
      "Just Getting Started already exists!\n",
      "review of Just Getting Started from NYT already exists!\n",
      "A.O. Scott already exists! \n",
      "Birdboy: The Forgotten Children already exists!\n",
      "review of Birdboy: The Forgotten Children from NYT already exists!\n",
      "Ben Kenigsberg already exists! \n",
      "Miss Kiet's Children already exists!\n",
      "review of Miss Kiet's Children from NYT already exists!\n",
      "Ben Kenigsberg already exists! \n",
      "Ferdinand already exists!\n",
      "review of Ferdinand from NYT already exists!\n",
      "Manohla Dargis already exists! \n",
      "The Ballad of Lefty Brown already exists!\n",
      "review of The Ballad of Lefty Brown from NYT already exists!\n",
      "Monica Castillo already exists! \n",
      "Hollow in the Land already exists!\n",
      "review of Hollow in the Land from NYT already exists!\n",
      "Jeannette Catsoulis already exists! \n",
      "Desolation already exists!\n",
      "review of Desolation from NYT already exists!\n",
      "Manohla Dargis already exists! \n",
      "Foxtrot already exists!\n",
      "review of Foxtrot from NYT already exists!\n"
     ]
    }
   ],
   "source": [
    "dictToDB(Dict)"
   ]
  },
  {
   "cell_type": "code",
   "execution_count": null,
   "metadata": {
    "collapsed": true
   },
   "outputs": [],
   "source": []
  }
 ],
 "metadata": {
  "kernelspec": {
   "display_name": "Django Shell-Plus",
   "language": "python",
   "name": "django_extensions"
  },
  "language_info": {
   "codemirror_mode": {
    "name": "ipython",
    "version": 2
   },
   "file_extension": ".py",
   "mimetype": "text/x-python",
   "name": "python",
   "nbconvert_exporter": "python",
   "pygments_lexer": "ipython2",
   "version": "2.7.13"
  }
 },
 "nbformat": 4,
 "nbformat_minor": 2
}
