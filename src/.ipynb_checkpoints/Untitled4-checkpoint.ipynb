{
 "cells": [
  {
   "cell_type": "code",
   "execution_count": 1,
   "metadata": {
    "collapsed": true
   },
   "outputs": [],
   "source": [
    "import os, errno, sys\n",
    "from bs4 import BeautifulSoup\n",
    "from requests import get\n",
    "from textblob import TextBlob\n",
    "import pandas as pd\n",
    "from pyteaser import Summarize\n",
    "\n",
    "proj_path = \"/home/ubuntu/cv/aerial/DeepNetsEO/DeepNetsForEO/nlp/site/src/\"\n",
    "# This is so Django knows where to find stuff.\n",
    "os.environ.setdefault(\"DJANGO_SETTINGS_MODULE\", \"manatwee.settings\")\n",
    "sys.path.append(proj_path)\n",
    "\n",
    "# This is so my local_settings.py gets loaded.\n",
    "os.chdir(proj_path)\n",
    "\n",
    "# This is so models get loaded.\n",
    "from django.core.wsgi import get_wsgi_application\n",
    "application = get_wsgi_application()\n",
    "\n",
    "from twttr.models import *\n",
    "from critic.models import *"
   ]
  },
  {
   "cell_type": "code",
   "execution_count": 2,
   "metadata": {
    "collapsed": true
   },
   "outputs": [],
   "source": [
    "NYTOrg = Organization.objects.get(name='NYT')\n",
    "def scrapeNYTMovie():\n",
    "    review_dict = {}\n",
    "    url = 'https://www.nytimes.com/reviews/movies'\n",
    "    html_soup=BeautifulSoup(get(url).text,'html.parser')\n",
    "    movie_length = len(html_soup.find_all('a',class_='story-link'))\n",
    "    print movie_length\n",
    "    for i in range(movie_length):\n",
    "        souplet = html_soup.find_all('a',class_='story-link')[i]\n",
    "        r_url = 'https://www.nytimes.com/'+souplet['href']\n",
    "        r_name = souplet.h2.text.strip()\n",
    "        r_get = get(r_url)\n",
    "        r_soup = BeautifulSoup(r_get.text,'html.parser')\n",
    "        review_text = \"\"\n",
    "        chunk_count = len(r_soup.find_all('p',class_='story-body-text story-content'))\n",
    "        author = r_soup.find_all('meta',attrs={\"name\":\"author\"})[0]['content']\n",
    "        for i in range(chunk_count):\n",
    "            review_text += r_soup.find_all('p',class_='story-body-text story-content')[i].text\n",
    "        review_sentiment = TextBlob(review_text).sentiment\n",
    "        review_polarity=review_sentiment[0]\n",
    "        review_subjectivity=review_sentiment[1]\n",
    "        r_thumbsup= 'Positive' if review_polarity > 0 else 'Negative'\n",
    "        summary = Summarize(r_name,review_text)\n",
    "        r_blurb = ' '.join(summary)\n",
    "        review_dict[souplet.h2.text.strip()] = {'thumbsup':r_thumbsup,'blurb':r_blurb,'name':r_name,'link':r_url,'text':review_text,'review_subjectivity':review_subjectivity,'critic':author,'organization':'NYT','review_polarity':review_polarity}\n",
    "    return review_dict"
   ]
  },
  {
   "cell_type": "code",
   "execution_count": 4,
   "metadata": {},
   "outputs": [],
   "source": [
    "review_dict = {}\n",
    "url = 'https://www.nytimes.com/reviews/movies'\n",
    "html_soup=BeautifulSoup(get(url).text,'html.parser')"
   ]
  },
  {
   "cell_type": "code",
   "execution_count": 5,
   "metadata": {
    "collapsed": true
   },
   "outputs": [],
   "source": [
    "movie_length = len(html_soup.find_all('a',class_='story-link'))\n"
   ]
  },
  {
   "cell_type": "code",
   "execution_count": 8,
   "metadata": {},
   "outputs": [],
   "source": [
    "souplet = html_soup.find_all('a',class_='story-link')[0]"
   ]
  },
  {
   "cell_type": "code",
   "execution_count": null,
   "metadata": {
    "collapsed": true
   },
   "outputs": [],
   "source": []
  }
 ],
 "metadata": {
  "kernelspec": {
   "display_name": "Django Shell-Plus",
   "language": "python",
   "name": "django_extensions"
  },
  "language_info": {
   "codemirror_mode": {
    "name": "ipython",
    "version": 2
   },
   "file_extension": ".py",
   "mimetype": "text/x-python",
   "name": "python",
   "nbconvert_exporter": "python",
   "pygments_lexer": "ipython2",
   "version": "2.7.13"
  }
 },
 "nbformat": 4,
 "nbformat_minor": 2
}
