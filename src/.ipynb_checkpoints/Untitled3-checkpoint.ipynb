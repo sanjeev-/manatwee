{
 "cells": [
  {
   "cell_type": "code",
   "execution_count": 5,
   "metadata": {},
   "outputs": [
    {
     "name": "stdout",
     "output_type": "stream",
     "text": [
      "/home/ubuntu/cv/aerial/DeepNetsEO/DeepNetsForEO/nlp/site/src/utils/scrape_critics\n"
     ]
    }
   ],
   "source": [
    "cd utils/scrape_critics"
   ]
  },
  {
   "cell_type": "code",
   "execution_count": 9,
   "metadata": {},
   "outputs": [],
   "source": [
    "from scraper_functions import *"
   ]
  },
  {
   "cell_type": "code",
   "execution_count": 11,
   "metadata": {},
   "outputs": [],
   "source": [
    "import os, errno, sys\n",
    "from bs4 import BeautifulSoup\n",
    "from requests import get\n",
    "from textblob import TextBlob\n",
    "import pandas as pd\n",
    "from pyteaser import Summarize\n",
    "from django.utils.encoding import smart_str, smart_unicode"
   ]
  },
  {
   "cell_type": "code",
   "execution_count": 12,
   "metadata": {
    "collapsed": true
   },
   "outputs": [],
   "source": [
    "IW_URL = 'http://www.indiewire.com/t/reviews/'"
   ]
  },
  {
   "cell_type": "code",
   "execution_count": 14,
   "metadata": {},
   "outputs": [],
   "source": [
    "IWSoup = BeautifulSoup(get(IW_URL).text,'html.parser')"
   ]
  },
  {
   "cell_type": "code",
   "execution_count": 26,
   "metadata": {},
   "outputs": [
    {
     "data": {
      "text/plain": [
       "u'http://www.indiewire.com/2017/12/pitch-perfect-3-review-anna-kendrick-trish-sie-1201908606/'"
      ]
     },
     "execution_count": 26,
     "metadata": {},
     "output_type": "execute_result"
    }
   ],
   "source": [
    "IWSoup.find_all('header',class_='entry-header')[0].a['href']"
   ]
  },
  {
   "cell_type": "code",
   "execution_count": 37,
   "metadata": {},
   "outputs": [],
   "source": [
    "name_str = IWSoup.find_all('header',class_='entry-header')[2].text"
   ]
  },
  {
   "cell_type": "code",
   "execution_count": 45,
   "metadata": {},
   "outputs": [
    {
     "data": {
      "text/plain": [
       "u'Star Wars: The Last Jedi'"
      ]
     },
     "execution_count": 45,
     "metadata": {},
     "output_type": "execute_result"
    }
   ],
   "source": [
    "name_str[2:name_str.find('Review')-2]"
   ]
  },
  {
   "cell_type": "code",
   "execution_count": null,
   "metadata": {
    "collapsed": true
   },
   "outputs": [],
   "source": []
  },
  {
   "cell_type": "code",
   "execution_count": 54,
   "metadata": {
    "collapsed": true
   },
   "outputs": [],
   "source": [
    "def IW():\n",
    "    IW_URL = 'http://www.indiewire.com/t/reviews/'\n",
    "    IWSoup = BeautifulSoup(get(IW_URL).text,'html.parser')\n",
    "    iw_dict = {}\n",
    "    for entry in IWSoup.find_all('header',class_='entry-header'):\n",
    "        r_dict = {}\n",
    "        name_str = entry.text\n",
    "        name = name_str[2:name_str.find('Review')-2]\n",
    "        \n",
    "        r_dict['name'] = name\n",
    "        link = entry.a['href']\n",
    "        r_dict['link'] = link\n",
    "        \n",
    "        r_soup = BeautifulSoup(get(link).text,'html.parser')\n",
    "        r_critic = r_soup.find_all('meta',attrs={'name':'author'})[0]['content']\n",
    "        \n",
    "        \n",
    "        iw_dict[name] = r_dict\n",
    "        \n",
    "    return iw_dict\n",
    "    \n",
    "    "
   ]
  },
  {
   "cell_type": "code",
   "execution_count": 55,
   "metadata": {
    "scrolled": true
   },
   "outputs": [
    {
     "data": {
      "text/plain": [
       "{u'Birdboy: The Forgotten Children': {'link': u'http://www.indiewire.com/2017/12/birdboy-forgotten-children-review-alberto-vazquez-psychonauts-1201907704/',\n",
       "  'name': u'Birdboy: The Forgotten Children'},\n",
       " u'Brimstone & Glory': {'link': u'http://www.indiewire.com/2017/11/brimstone-and-glory-review-fireworks-1201898788/',\n",
       "  'name': u'Brimstone & Glory'},\n",
       " u'Cuba and the Cameraman': {'link': u'http://www.indiewire.com/2017/11/cuba-and-the-cameraman-review-jon-alpert-netflix-1201900078/',\n",
       "  'name': u'Cuba and the Cameraman'},\n",
       " u'Jumanji: Welcome to the Jungle': {'link': u'http://www.indiewire.com/2017/12/jumanji-welcome-to-the-jungle-review-dwayne-johnson-jack-black-kevin-hart-karen-gillan-1201904969/',\n",
       "  'name': u'Jumanji: Welcome to the Jungle'},\n",
       " u'Justice\\xa0League': {'link': u'http://www.indiewire.com/2017/11/justice-league-review-zack-snyder-joss-whedon-avengers-1201897286/',\n",
       "  'name': u'Justice\\xa0League'},\n",
       " u'Mr. Roosevelt': {'link': u'http://www.indiewire.com/2017/11/mr-roosevelt-review-noel-wells-1201897335/',\n",
       "  'name': u'Mr. Roosevelt'},\n",
       " u'Phantom Thread': {'link': u'http://www.indiewire.com/2017/12/phantom-thread-review-paul-thomas-anderson-daniel-day-lewis-1201903991/',\n",
       "  'name': u'Phantom Thread'},\n",
       " u'Pitch Perfect 3': {'link': u'http://www.indiewire.com/2017/12/pitch-perfect-3-review-anna-kendrick-trish-sie-1201908606/',\n",
       "  'name': u'Pitch Perfect 3'},\n",
       " u'Star Wars: The Last Jedi': {'link': u'http://www.indiewire.com/2017/12/star-wars-the-last-jedi-review-episode-8-1201906685/',\n",
       "  'name': u'Star Wars: The Last Jedi'},\n",
       " u'The Breadwinner': {'link': u'http://www.indiewire.com/2017/11/the-breadwinner-review-angelina-jolie-cartoon-saloon-1201898516/',\n",
       "  'name': u'The Breadwinner'},\n",
       " u'The Post': {'link': u'http://www.indiewire.com/2017/12/the-post-review-steven-spielberg-meryl-streep-tom-hanks-1201901378/',\n",
       "  'name': u'The Post'},\n",
       " u'Voyeur': {'link': u'http://www.indiewire.com/2017/11/voyeur-review-netflix-documentary-gay-talese-1201902064/',\n",
       "  'name': u'Voyeur'}}"
      ]
     },
     "execution_count": 55,
     "metadata": {},
     "output_type": "execute_result"
    }
   ],
   "source": [
    "IW()"
   ]
  },
  {
   "cell_type": "code",
   "execution_count": 56,
   "metadata": {
    "collapsed": true
   },
   "outputs": [],
   "source": [
    "pitch_soup = BeautifulSoup(get('http://www.indiewire.com/2017/12/pitch-perfect-3-review-anna-kendrick-trish-sie-1201908606/').text,'html.parser')"
   ]
  },
  {
   "cell_type": "code",
   "execution_count": 64,
   "metadata": {},
   "outputs": [
    {
     "data": {
      "text/plain": [
       "u'Kate Erbland'"
      ]
     },
     "execution_count": 64,
     "metadata": {},
     "output_type": "execute_result"
    }
   ],
   "source": [
    "pitch_soup.find_all('meta',attrs={'name':'author'})[0]['content']"
   ]
  },
  {
   "cell_type": "code",
   "execution_count": null,
   "metadata": {
    "collapsed": true
   },
   "outputs": [],
   "source": []
  }
 ],
 "metadata": {
  "kernelspec": {
   "display_name": "Django Shell-Plus",
   "language": "python",
   "name": "django_extensions"
  },
  "language_info": {
   "codemirror_mode": {
    "name": "ipython",
    "version": 2
   },
   "file_extension": ".py",
   "mimetype": "text/x-python",
   "name": "python",
   "nbconvert_exporter": "python",
   "pygments_lexer": "ipython2",
   "version": "2.7.13"
  }
 },
 "nbformat": 4,
 "nbformat_minor": 2
}
