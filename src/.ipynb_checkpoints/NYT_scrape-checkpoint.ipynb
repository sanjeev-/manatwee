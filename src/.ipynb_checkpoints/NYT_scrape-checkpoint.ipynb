{
 "cells": [
  {
   "cell_type": "code",
   "execution_count": 25,
   "metadata": {
    "collapsed": true
   },
   "outputs": [],
   "source": [
    "import pandas as pd\n",
    "from bs4 import BeautifulSoup\n",
    "from requests import get\n",
    "from textblob import TextBlob\n",
    "from critic.models import *"
   ]
  },
  {
   "cell_type": "code",
   "execution_count": 26,
   "metadata": {
    "collapsed": true
   },
   "outputs": [],
   "source": [
    "def scrapeNYTMovie():\n",
    "    review_dict = {}\n",
    "    url = 'https://www.nytimes.com/reviews/movies'\n",
    "    html_soup=BeautifulSoup(get(url).text,'html.parser')\n",
    "    movie_length = len(html_soup.find_all('a',class_='story-link'))\n",
    "    print movie_length\n",
    "    for i in range(movie_length):\n",
    "        souplet = html_soup.find_all('a',class_='story-link')[i]\n",
    "        r_url = 'https://www.nytimes.com/'+souplet['href']\n",
    "        r_name = souplet.h2.text.strip()\n",
    "        r_get = get(r_url)\n",
    "        r_soup = BeautifulSoup(r_get.text,'html.parser')\n",
    "        review_text = \"\"\n",
    "        chunk_count = len(r_soup.find_all('p',class_='story-body-text story-content'))\n",
    "        author = r_soup.find_all('meta',attrs={\"name\":\"author\"})[0]['content']\n",
    "        for i in range(chunk_count):\n",
    "            review_text += r_soup.find_all('p',class_='story-body-text story-content')[i].text\n",
    "        review_sentiment = TextBlob(review_text).sentiment\n",
    "        review_dict[souplet.h2.text.strip()] = {'name':r_name,'link':r_url,'text':review_text,'sentiment':review_sentiment,'critic':author,'organization':'NYT'}\n",
    "    return review_dict"
   ]
  },
  {
   "cell_type": "code",
   "execution_count": 27,
   "metadata": {},
   "outputs": [
    {
     "name": "stdout",
     "output_type": "stream",
     "text": [
      "20\n"
     ]
    }
   ],
   "source": [
    "A=scrapeNYTMovie()"
   ]
  },
  {
   "cell_type": "code",
   "execution_count": null,
   "metadata": {
    "collapsed": true
   },
   "outputs": [],
   "source": [
    "Organization.objects.all()"
   ]
  },
  {
   "cell_type": "code",
   "execution_count": null,
   "metadata": {
    "collapsed": true
   },
   "outputs": [],
   "source": [
    "nyt = Organization(name='NYT')\n",
    "nyt.save()"
   ]
  },
  {
   "cell_type": "code",
   "execution_count": null,
   "metadata": {
    "collapsed": true
   },
   "outputs": [],
   "source": [
    "for key in A:\n",
    "    critic= A[key]['critic']\n",
    "    critic\n",
    "    org = Organization.objects.filter(name='NYT')[0]\n",
    "    if Critic.objects.filter(name=critic).exists()==False:\n",
    "        newCritic = Critic(name=critic,organization=org)\n",
    "        newCritic.save()\n",
    "        print '%s was saved to database!' % (critic)\n",
    "    else:\n",
    "        print '%s already exists' % (critic)"
   ]
  },
  {
   "cell_type": "code",
   "execution_count": null,
   "metadata": {
    "collapsed": true
   },
   "outputs": [],
   "source": [
    "Critic.objects.all()"
   ]
  },
  {
   "cell_type": "code",
   "execution_count": null,
   "metadata": {
    "collapsed": true
   },
   "outputs": [],
   "source": [
    "url = 'https://www.nytimes.com/reviews/movies'\n",
    "html_soup=BeautifulSoup(get(url).text,'html.parser')\n",
    "story = html_soup.find_all('a',class_='story-link')"
   ]
  },
  {
   "cell_type": "code",
   "execution_count": null,
   "metadata": {
    "collapsed": true
   },
   "outputs": [],
   "source": [
    "newurl = 'https://www.nytimes.com/'+story[0]['href']"
   ]
  },
  {
   "cell_type": "code",
   "execution_count": null,
   "metadata": {
    "collapsed": true
   },
   "outputs": [],
   "source": [
    "soup=BeautifulSoup(get(newurl).text,'html.parser')"
   ]
  },
  {
   "cell_type": "code",
   "execution_count": null,
   "metadata": {
    "collapsed": true
   },
   "outputs": [],
   "source": [
    "soup.find_all('meta',attrs={\"name\":\"author\"})[0]['content']"
   ]
  },
  {
   "cell_type": "code",
   "execution_count": null,
   "metadata": {
    "collapsed": true
   },
   "outputs": [],
   "source": [
    "for key in A:\n",
    "    print A[key]['name']"
   ]
  },
  {
   "cell_type": "code",
   "execution_count": null,
   "metadata": {
    "collapsed": true
   },
   "outputs": [],
   "source": [
    "director_dict = {'The Dancer':'Stéphanie Di Giusto',\n",
    "'Big Time':'Chris Blum',\n",
    "\"Naples '44\":'Francesco Patierno',\n",
    "'Bill Frisell: A Portrait':'Emma Franz',\n",
    "'Bombshell: The Hedy Lamarr Story':'Alexandra Dean',\n",
    "'The Disaster Artist':'James Franco',\n",
    "'Cuba and the Cameraman':'Jon Alpert',\n",
    "'Loveless':'Andrey Zvyagintsev',\n",
    "'Voyeur':'Myles Kane',\n",
    "'The Tribes of Palos Verdes':'Bredan Malloy',\n",
    "'The New Radical':'Adam Bhala Lough',\n",
    "\"32 Pills: My Sister's Suicide\":'Hope Litoff',\n",
    "\"Love Beats Rhymes\":'RZA',\n",
    "\"Rosa Chumbe\":'Jonatan Relayze',\n",
    "\"The Shape of Water\":'Guillermo del Toro',\n",
    "\"The Other Side of Hope\":'Aki Kaurismäki',\n",
    "\"Sins of the Flesh\":'Khaled El Hagar',\n",
    "\"Shadowman\":'Oren Jacoby',\n",
    "\"Wonder Wheel\":'Woody Allen',\n",
    "\"Eric Clapton: Life in 12 Bars\":'Lili Fini Zanuck'}"
   ]
  },
  {
   "cell_type": "code",
   "execution_count": null,
   "metadata": {
    "collapsed": true
   },
   "outputs": [],
   "source": [
    "Director.objects.all()"
   ]
  },
  {
   "cell_type": "code",
   "execution_count": null,
   "metadata": {
    "collapsed": true
   },
   "outputs": [],
   "source": [
    "for key in director_dict:\n",
    "    dirx = director_dict[key]\n",
    "    newDir = Director(name=dirx)\n",
    "    newDir.save()"
   ]
  },
  {
   "cell_type": "code",
   "execution_count": null,
   "metadata": {
    "collapsed": true
   },
   "outputs": [],
   "source": [
    "qs=Director.objects"
   ]
  },
  {
   "cell_type": "code",
   "execution_count": null,
   "metadata": {
    "collapsed": true
   },
   "outputs": [],
   "source": [
    "criticqs = Critic.objects"
   ]
  },
  {
   "cell_type": "code",
   "execution_count": null,
   "metadata": {
    "collapsed": true
   },
   "outputs": [],
   "source": [
    "qs.get(name='Chris Blum')"
   ]
  },
  {
   "cell_type": "code",
   "execution_count": null,
   "metadata": {
    "collapsed": true
   },
   "outputs": [],
   "source": [
    "for key in A:\n",
    "    movie_title = A[key]['name']\n",
    "    dirx = director_dict[movie_title]\n",
    "    dir_object = qs.get(name=dirx)\n",
    "    newMovie=Movie(name=movie_title,director=dir_object)\n",
    "    newMovie.save()"
   ]
  },
  {
   "cell_type": "code",
   "execution_count": null,
   "metadata": {
    "collapsed": true
   },
   "outputs": [],
   "source": [
    "movieqs = Movie.objects"
   ]
  },
  {
   "cell_type": "code",
   "execution_count": null,
   "metadata": {
    "collapsed": true
   },
   "outputs": [],
   "source": [
    "for key in A:\n",
    "    polarity= A[key]['sentiment'][0]\n",
    "    subjectivity = A[key]['sentiment'][1]\n",
    "    critic = criticqs.get(name=A[key]['critic'])\n",
    "    url = A[key]['link']\n",
    "    movie = movieqs.get(name=A[key]['name'])\n",
    "    text = A[key]['text']\n",
    "    newReview = Reviews(movie=movie,review_url=url,review_polarity=polarity,review_subjectivity=sentiment,text=text,critic=critic)\n",
    "    newReview.save()\n",
    "    "
   ]
  },
  {
   "cell_type": "code",
   "execution_count": null,
   "metadata": {
    "collapsed": true
   },
   "outputs": [],
   "source": [
    "Reviews.objects.all()[0].review_polarity"
   ]
  },
  {
   "cell_type": "code",
   "execution_count": null,
   "metadata": {
    "collapsed": true
   },
   "outputs": [],
   "source": [
    "qs = Movie.objects.all()"
   ]
  },
  {
   "cell_type": "code",
   "execution_count": null,
   "metadata": {
    "collapsed": true
   },
   "outputs": [],
   "source": [
    "from twttr.utils import unique_slug_generator"
   ]
  },
  {
   "cell_type": "code",
   "execution_count": null,
   "metadata": {
    "collapsed": true
   },
   "outputs": [],
   "source": [
    "unique_slug_generator(qs[0])"
   ]
  },
  {
   "cell_type": "code",
   "execution_count": null,
   "metadata": {
    "collapsed": true
   },
   "outputs": [],
   "source": [
    "for movie in qs:\n",
    "    movie.slug = unique_slug_generator(movie)\n",
    "    movie.save()"
   ]
  },
  {
   "cell_type": "code",
   "execution_count": null,
   "metadata": {
    "collapsed": true
   },
   "outputs": [],
   "source": [
    "qs = Movie.objects.all()"
   ]
  },
  {
   "cell_type": "code",
   "execution_count": null,
   "metadata": {
    "collapsed": true
   },
   "outputs": [],
   "source": [
    "len(qs)"
   ]
  },
  {
   "cell_type": "code",
   "execution_count": null,
   "metadata": {
    "collapsed": true
   },
   "outputs": [],
   "source": [
    "qs=Reviews.objects.all()"
   ]
  },
  {
   "cell_type": "code",
   "execution_count": null,
   "metadata": {
    "collapsed": true
   },
   "outputs": [],
   "source": [
    "qs[0]"
   ]
  },
  {
   "cell_type": "code",
   "execution_count": null,
   "metadata": {
    "collapsed": true
   },
   "outputs": [],
   "source": [
    "slug = 'big-time'"
   ]
  },
  {
   "cell_type": "code",
   "execution_count": null,
   "metadata": {
    "collapsed": true
   },
   "outputs": [],
   "source": [
    "mymov=Movie.objects.get(slug__iexact=slug)"
   ]
  },
  {
   "cell_type": "code",
   "execution_count": null,
   "metadata": {
    "collapsed": true
   },
   "outputs": [],
   "source": [
    "from django.db.models import Q"
   ]
  },
  {
   "cell_type": "code",
   "execution_count": null,
   "metadata": {
    "collapsed": true
   },
   "outputs": [],
   "source": [
    "reviews = Reviews.objects.filter(movie=mymov)"
   ]
  },
  {
   "cell_type": "code",
   "execution_count": null,
   "metadata": {
    "collapsed": true
   },
   "outputs": [],
   "source": [
    "for item in reviews:\n",
    "    print item.critic\n",
    "    print item.review_polarity\n",
    "    print Critic.objects.get(name=item.critic).organization.name"
   ]
  },
  {
   "cell_type": "code",
   "execution_count": null,
   "metadata": {
    "collapsed": true
   },
   "outputs": [],
   "source": [
    "Critic.objects.get(name=reviews[0].critic).organization.name"
   ]
  },
  {
   "cell_type": "code",
   "execution_count": null,
   "metadata": {
    "collapsed": true
   },
   "outputs": [],
   "source": [
    "#datetime stuff\n",
    "from datetime import datetime\n",
    "from dateutil import parser\n",
    "import pickle"
   ]
  },
  {
   "cell_type": "code",
   "execution_count": null,
   "metadata": {
    "collapsed": true
   },
   "outputs": [],
   "source": [
    "last_run = parser.parse(\"12-04-2017\")"
   ]
  },
  {
   "cell_type": "code",
   "execution_count": null,
   "metadata": {
    "collapsed": true
   },
   "outputs": [],
   "source": [
    "with open('/home/ubuntu/cv/aerial/DeepNetsEO/DeepNetsForEO/nlp/site/src/utils/picklejar/last_run.pickle', 'wb') as handle:\n",
    "    pickle.dump(last_run, handle, protocol=pickle.HIGHEST_PROTOCOL)"
   ]
  },
  {
   "cell_type": "code",
   "execution_count": null,
   "metadata": {
    "collapsed": true
   },
   "outputs": [],
   "source": [
    "file = open('/home/ubuntu/cv/aerial/DeepNetsEO/DeepNetsForEO/nlp/site/src/utils/picklejar/last_run.pickle','rb')\n",
    "last_run_date = pickle.load(file)"
   ]
  },
  {
   "cell_type": "code",
   "execution_count": null,
   "metadata": {
    "collapsed": true
   },
   "outputs": [],
   "source": [
    "new_run"
   ]
  },
  {
   "cell_type": "code",
   "execution_count": null,
   "metadata": {
    "collapsed": true
   },
   "outputs": [],
   "source": [
    "datetime.now().strftime('%Y-%m-%d')"
   ]
  },
  {
   "cell_type": "code",
   "execution_count": null,
   "metadata": {
    "collapsed": true
   },
   "outputs": [],
   "source": [
    "ntwkdict = {n.name: n for n in Network.objects.all() }"
   ]
  },
  {
   "cell_type": "code",
   "execution_count": 4,
   "metadata": {
    "collapsed": true
   },
   "outputs": [],
   "source": [
    "slug = 'the-shape-of-water'"
   ]
  },
  {
   "cell_type": "code",
   "execution_count": 5,
   "metadata": {
    "collapsed": true
   },
   "outputs": [],
   "source": [
    "mymov = Movie.objects.get(slug__iexact=slug)"
   ]
  },
  {
   "cell_type": "code",
   "execution_count": 6,
   "metadata": {
    "collapsed": true
   },
   "outputs": [],
   "source": [
    "reviews = Reviews.objects.filter(movie=mymov)"
   ]
  },
  {
   "cell_type": "code",
   "execution_count": null,
   "metadata": {
    "collapsed": true
   },
   "outputs": [],
   "source": [
    "a={n.critic.name: critics.get(name=reviews[0].critic).organization.name for n in reviews }"
   ]
  },
  {
   "cell_type": "code",
   "execution_count": null,
   "metadata": {
    "collapsed": true
   },
   "outputs": [],
   "source": [
    "orgs = Organization.objects.all()"
   ]
  },
  {
   "cell_type": "code",
   "execution_count": 7,
   "metadata": {},
   "outputs": [
    {
     "data": {
      "text/plain": [
       "u'A.O. Scott'"
      ]
     },
     "execution_count": 7,
     "metadata": {},
     "output_type": "execute_result"
    }
   ],
   "source": [
    "reviews[0].critic.name"
   ]
  },
  {
   "cell_type": "code",
   "execution_count": null,
   "metadata": {
    "collapsed": true
   },
   "outputs": [],
   "source": [
    "critics = Critic.objects.all()"
   ]
  },
  {
   "cell_type": "code",
   "execution_count": null,
   "metadata": {
    "collapsed": true
   },
   "outputs": [],
   "source": []
  },
  {
   "cell_type": "code",
   "execution_count": 8,
   "metadata": {
    "scrolled": true
   },
   "outputs": [
    {
     "data": {
      "text/plain": [
       "u'\\u201cThe Shape of Water\\u201d is partly a code-scrambled fairy tale, partly a genetically modified monster movie, and altogether wonderful. Guillermo del Toro, the writer and director, is a passionate genre geek. Sometimes his enthusiasm can get the better of his discipline, producing misshapen (but never completely uninteresting) movies like \\u201cPacific Rim\\u201d and \\u201cCrimson Peak.\\u201d At his best, though \\u2014 in \\u201cThe Devil\\u2019s Backbone,\\u201d \\u201cPan\\u2019s Labyrinth\\u201d and now, at last, again \\u2014 he fuses a fan\\u2019s ardor with a romantic sensibility that is startling in its sincerity. He draws on old movies, comic books, mythic archetypes and his own restless visual imagination to create movies that seem less made than discovered, as if he had plucked them from the cultural ether and given them color, voice and form.The most obvious reference point for \\u201cThe Shape of Water\\u201d is \\u201cCreature From the Black Lagoon,\\u201d a Cold War-era camp-horror classic about a strange beast, quasi-fish and sort-of human, discovered in the rain forests of the Amazon. In Mr. del Toro\\u2019s update, such a creature is brought to Baltimore in the early 1960s and kept in a tank at a government research lab, where he is subjected to brutal torture in the name of science and national security.\\u201cThe Asset,\\u201d as his minders call him, poses no threat to anyone. He is, as wild things tend to be in movies nowadays, an innocent at the mercy of a ruthlessly predatory species, which is to say us. His particular nemesis is Richard Strickland, a government-issue, square-jawed square played with reliable menace by Michael Shannon. Strickland lives in a suburban split-level with his wife and two kids, drives a Cadillac, reads \\u201cThe Power of Positive Thinking\\u201d and is into mechanical missionary sex (and workplace sexual harassment). His favorite accessory is an electric cattle prod, a detail that links him to the Southern sheriffs occasionally shown terrorizing civil rights demonstrators on television.A caricature? Maybe. But also a perfectly plausible villain, and in his diabolical all-American normalcy a necessary foil for the film\\u2019s loose rebel coalition, a band of misfits who come to the Asset\\u2019s defense. The most important of these is Elisa (Sally Hawkins), a member of the laboratory\\u2019s nighttime cleaning staff, who plays jazz records for the piscine captive, feeds him hard-boiled eggs and before long falls in love with him.You may marvel at just how far Mr. del Toro takes this interspecies romance \\u2014 all the way, basically \\u2014 and also at how natural, how un-creepy, how pure and right he makes it seem. And why not? Folklore is full of frog princes, beauties and beasts. Classical mythology has its satyrs and centaurs, its shape-shifting gods and metamorphosing nymphs, whose commingling and canoodling is part of the human heritage.Elisa\\u2019s interest is stirred less by curiosity than by recognition. Because of her muteness, she is looked at by others \\u2014 and sometimes regards herself \\u2014 as \\u201cincomplete,\\u201d something less than fully human. Her two best friends are Zelda (Octavia Spencer), an African-American woman who works with her, and Giles (Richard Jenkins), a gay man who lives next door. The understated, intuitive sympathy among these outcasts gives this fable some political bite.Bigotry and meanness flow through every moment like an underground stream, but kindness is always possible, and so is beauty. \\u201cThe Shape of Water\\u201d is made of vivid colors and deep shadows; it\\u2019s as gaudy as a musical (and briefly turns into one), bright as a cartoon and murky as a film noir. (The cinematographer is Dan Laustsen. The score is by Alexandre Desplat.) Its busy plot moves swiftly \\u2014 the presence of Russian spies never hurts, especially when one is played by Michael Stuhlbarg \\u2014 except when Mr. del Toro lingers over a moment of tenderness, a delicate joke or an eruption of grace.Ms. Hawkins and Doug Jones, soulful and gorgeous beneath his shimmering carapace of blue-green scales, supply most of those. Since neither Elisa nor the Asset possesses the power of speech, they communicate through gestures and, since both can hear, through music. Ms. Hawkins, giving a silent performance in a sound film, will perhaps inevitably evoke Charlie Chaplin, and she moves her body and her facial features with Chaplinesque elegance, narrowing the distance between acting and dancing, turning physical comedy into corporeal poetry.Mr. del Toro, though he has dabbled in large-scale, franchise-ready filmmaking, has never succumbed to the authoritarian aesthetic of the Hollywood blockbuster. He is a reflexive democrat whose underdog sympathies haven\\u2019t curdled into glum superhero self-pity. The most welcome and notable thing about \\u201cThe Shape of Water\\u201d is its generosity of spirit, which extends beyond the central couple. Zelda and Giles, an artist whose advertising career has been derailed, are not just supporting players. They have miniature movies of their own, as does Mr. Stuhlbarg\\u2019s scientist-cum-spook. And so, for that matter, does Strickland, though it isn\\u2019t a movie anyone else would want to be in, not least because it feels the closest to reality.In Mr. del Toro\\u2019s world, though, reality is the domain of rules and responsibilities, and realism is a crabbed, literal-minded view of things that can be opposed only by the forces of imagination. This will never be a fair or symmetrical fight, and the most important reason to make movies like this one \\u2014 or, for that matter, to watch them \\u2014 is to even the odds.'"
      ]
     },
     "execution_count": 8,
     "metadata": {},
     "output_type": "execute_result"
    }
   ],
   "source": [
    "reviews[0].text"
   ]
  },
  {
   "cell_type": "code",
   "execution_count": 3,
   "metadata": {
    "collapsed": true
   },
   "outputs": [],
   "source": [
    "from pyteaser import Summarize"
   ]
  },
  {
   "cell_type": "code",
   "execution_count": 22,
   "metadata": {
    "collapsed": true
   },
   "outputs": [],
   "source": [
    "for item in reviews:\n",
    "    summary = Summarize(item.movie.name,item.text)\n",
    "    blurb = ' '.join(summary)\n",
    "    item.blurb = blurb\n",
    "    item.save()\n",
    "\n"
   ]
  },
  {
   "cell_type": "code",
   "execution_count": 23,
   "metadata": {
    "collapsed": true
   },
   "outputs": [],
   "source": [
    "reviews = Reviews.objects.all()"
   ]
  },
  {
   "cell_type": "code",
   "execution_count": 17,
   "metadata": {},
   "outputs": [
    {
     "data": {
      "text/plain": [
       "u'\\u201cThe Shape of Water\\u201d is partly a code-scrambled fairy tale, partly a genetically modified monster movie, and altogether wonderful. The most welcome and notable thing about \\u201cThe Shape of Water\\u201d is its generosity of spirit, which extends beyond the central couple. Guillermo del Toro, the writer and director, is a passionate genre geek. His particular nemesis is Richard Strickland, a government-issue, square-jawed square played with reliable menace by Michael Shannon. Because of her muteness, she is looked at by others \\u2014 and sometimes regards herself \\u2014 as \\u201cincomplete,\\u201d something less than fully human.'"
      ]
     },
     "execution_count": 17,
     "metadata": {},
     "output_type": "execute_result"
    }
   ],
   "source": [
    "' '.join(summary)"
   ]
  },
  {
   "cell_type": "code",
   "execution_count": null,
   "metadata": {
    "collapsed": true
   },
   "outputs": [],
   "source": []
  },
  {
   "cell_type": "code",
   "execution_count": 77,
   "metadata": {
    "collapsed": true
   },
   "outputs": [],
   "source": [
    "#same thing but for HWR\n",
    "HWR_URL = 'https://www.hollywoodreporter.com/topic/movie-reviews'\n",
    "hwr_soup = html_soup=BeautifulSoup(get(HWR_URL).text,'html.parser')\n"
   ]
  },
  {
   "cell_type": "code",
   "execution_count": 78,
   "metadata": {
    "collapsed": true
   },
   "outputs": [],
   "source": [
    "hwr_dict = {}\n",
    "for noodle in hwr_soup.find_all('a',class_='topic-card__link'):\n",
    "    a=str(noodle['title']).replace(\"'\",'')\n",
    "    a=a[:a.find(': Film Review')]\n",
    "    hwr_dict[a]=noodle['href']\n",
    "    \n"
   ]
  },
  {
   "cell_type": "code",
   "execution_count": 79,
   "metadata": {},
   "outputs": [
    {
     "data": {
      "text/plain": [
       "{'Asphyxia': u'https://www.hollywoodreporter.com/review/asphyxia-review-1063770',\n",
       " 'Bullet Head': u'https://www.hollywoodreporter.com/review/bullet-head-1065103',\n",
       " 'Ferdinand': u'https://www.hollywoodreporter.com/review/ferdinand-review-1065283',\n",
       " 'From the Ground Up': u'https://www.hollywoodreporter.com/review/ground-up-1065118',\n",
       " 'Naples 44': u'https://www.hollywoodreporter.com/review/naples-44-1065016',\n",
       " 'Over the Limit': u'https://www.hollywoodreporter.com/review/limit-1063350',\n",
       " 'Phantom Thread': u'https://www.hollywoodreporter.com/review/phantom-thread-review-1063279',\n",
       " 'The Gangsters Daughter': u'https://www.hollywoodreporter.com/review/gangsters-daughter-1063405',\n",
       " 'The Post': u'https://www.hollywoodreporter.com/review/post-review-1062153',\n",
       " 'The Strange Ones': u'https://www.hollywoodreporter.com/review/strange-1063554'}"
      ]
     },
     "execution_count": 79,
     "metadata": {},
     "output_type": "execute_result"
    }
   ],
   "source": [
    "hwr_dict"
   ]
  },
  {
   "cell_type": "code",
   "execution_count": null,
   "metadata": {
    "collapsed": true
   },
   "outputs": [],
   "source": []
  },
  {
   "cell_type": "code",
   "execution_count": 80,
   "metadata": {
    "collapsed": true
   },
   "outputs": [],
   "source": [
    "movie_soup=BeautifulSoup(get(hwr_dict['Phantom Thread']).text,'html.parser')"
   ]
  },
  {
   "cell_type": "code",
   "execution_count": 111,
   "metadata": {
    "collapsed": true
   },
   "outputs": [],
   "source": [
    "review_text = \"\"\n",
    "for item in movie_soup.find_all('p',style='margin-bottom: 0in;'):\n",
    "    review_text +=item.text\n",
    "review_sentiment = TextBlob(review_text).sentiment\n",
    "r_author=movie_soup.find_all('meta',attrs={\"name\":\"sailthru.author\"})[0]['content']\n",
    "summary = Summarize('Phantom Thread',review_text)\n",
    "r_blurb = ' '.join(summary)\n",
    "r_subjectivity = review_sentiment[1]\n",
    "r_polarity = review_sentiment[0]\n",
    "r_thumbsup = 'Positive' if r_polarity>0 else 'Negative'"
   ]
  },
  {
   "cell_type": "code",
   "execution_count": 110,
   "metadata": {},
   "outputs": [
    {
     "data": {
      "text/plain": [
       "u'The post-World War II financial stress felt by most Britons seems not to have encroached upon the exalted enclave of high fashion and neurotic self-concern inhabited by dashing middle-aged clothing designer Reynolds Woodcock (Day-Lewis).  As with the film itself, it leaves you wondering: \"Where on Earth did this come from?\"Opens: December 25 (Focus Features) Woodcock\\'s conversational approach with her is far from normal, but he\\'s funny, disarmingly frank without actually revealing anything \\u2014 a seductive odd duck. Any initial resemblance between Cyril and Judith Anderson\\'s controlling Mrs. It\\'s my job to keep you so,\\u201d disputing her belief that she\\'s too flat-chested.'"
      ]
     },
     "execution_count": 110,
     "metadata": {},
     "output_type": "execute_result"
    }
   ],
   "source": [
    "r_blurb"
   ]
  },
  {
   "cell_type": "code",
   "execution_count": 263,
   "metadata": {
    "collapsed": true
   },
   "outputs": [],
   "source": [
    "defaultDir = Director.objects.all()[0]\n",
    "HWRorg = Organization.objects.get(name='The Hollywood Reporter')\n",
    "reviews_toadd= []\n",
    "rtext_list=[]\n",
    "def scrapeHWR():\n",
    "    HWR_URL = 'https://www.hollywoodreporter.com/topic/movie-reviews'\n",
    "    hwr_soup =BeautifulSoup(get(HWR_URL).text,'html.parser')\n",
    "    for noodle in hwr_soup.find_all('a',class_='topic-card__link'):\n",
    "        a=str(noodle['title']).replace(\"'\",'')\n",
    "        a=a[:a.find(': Film Review')]\n",
    "        hwr_dict[a]=noodle['href']\n",
    "    for key in hwr_dict:\n",
    "        if Movie.objects.filter(name=key).exists():\n",
    "            print '%s already exists' % (key)\n",
    "        else:\n",
    "            print '%s ...adding this movie' % (key)\n",
    "            newMovie = Movie(name=key,director=defaultDir)\n",
    "            newMovie.save()\n",
    "    for key in hwr_dict:\n",
    "        review_soup = BeautifulSoup(get(hwr_dict[key]).text,'html.parser')\n",
    "        r_author=review_soup.find_all('meta',attrs={\"name\":\"sailthru.author\"})[0]['content']\n",
    "        if Critic.objects.filter(name=r_author).exists():\n",
    "            print '%s already exists!' % (r_author)\n",
    "        else:\n",
    "            newCritic = Critic(name=r_author,organization=HWRorg)\n",
    "            print 'adding %s' % (newCritic)\n",
    "            newCritic.save()\n",
    "        review_text = \"\"\n",
    "        for item in review_soup.find_all('p',style='margin-bottom: 0in;'):\n",
    "            review_text +=item.text\n",
    "        if len(review_text) == 0:\n",
    "            for item in review_soup.find_all('p'):\n",
    "                review_text += item.text\n",
    "        review_sentiment = TextBlob(review_text).sentiment\n",
    "        summary = Summarize(key,review_text)\n",
    "        r_blurb = ' '.join(summary)\n",
    "        #print r_blurb\n",
    "        rtext_list.append(review_text)\n",
    "        r_subjectivity = review_sentiment[1]\n",
    "        r_polarity = review_sentiment[0]\n",
    "        r_thumbsup = 'Positive' if r_polarity>0 else 'Negative'\n",
    "        r_url = hwr_dict[key]\n",
    "        newReviews = Reviews(movie=Movie.objects.get(name=key),review_url=r_url,review_polarity=r_polarity,review_subjectivity=r_subjectivity,thumbsup=r_thumbsup,blurb=r_blurb,text=review_text,critic=Critic.objects.get(name=r_author),organization=HWRorg)\n",
    "        if Reviews.objects.filter(movie=Movie.objects.get(name=key),organization=HWRorg).exists():\n",
    "            print 'This review already exists'\n",
    "        else:\n",
    "            print 'adding review'\n",
    "            reviews_toadd.append(newReviews)\n",
    "            #newReviews.save()\n",
    "        \n",
    "        \n",
    "        \n",
    "            \n",
    "    "
   ]
  },
  {
   "cell_type": "code",
   "execution_count": 344,
   "metadata": {
    "collapsed": true
   },
   "outputs": [],
   "source": [
    "defaultDir = Director.objects.all()[0]\n",
    "def scrapeVariety():\n",
    "    VAR_URL = 'http://variety.com/v/film/reviews/'\n",
    "    variety_soup = BeautifulSoup(get(VAR_URL).text,'html.parser')\n",
    "    "
   ]
  },
  {
   "cell_type": "code",
   "execution_count": 345,
   "metadata": {
    "collapsed": true
   },
   "outputs": [],
   "source": [
    "VAR_URL = 'http://variety.com/v/film/reviews/'\n",
    "variety_soup = BeautifulSoup(get(VAR_URL).text,'html.parser')\n"
   ]
  },
  {
   "cell_type": "code",
   "execution_count": 508,
   "metadata": {},
   "outputs": [],
   "source": [
    "varietydict = {}\n",
    "VAR_URL = 'http://variety.com/v/film/reviews/'\n",
    "variety_soup = BeautifulSoup(get(VAR_URL).text,'html.parser')\n",
    "#for noodle in variety_soup.find_all('div',class_='l-river__content')[0].find_all('a')[0].img['alt']\n",
    "for noodle in variety_soup.find_all('div',class_='l-river__content')[0].find_all('a'):\n",
    "    if len(noodle.text)>4:\n",
    "        r_dict = {}\n",
    "        name = noodle.text\n",
    "        name=name[13:].replace(\"'\",'')\n",
    "        r_url = noodle['href']\n",
    "        r_dict['link'] = url\n",
    "        r_dict['movie'] = name\n",
    "        r_soup = BeautifulSoup(get(r_url).text,'html.parser')\n",
    "        r_author = r_soup.find_all('meta',attrs={'name':'author'})[0]['content']\n",
    "        r_dict['critic'] = r_author\n",
    "        for beefchunk in soup.find_all('meta',attrs={'class':'swiftype'})[0].find_all('meta',attrs={'class':'swiftype'}):\n",
    "            if len(beefchunk['content'])>140:\n",
    "                r_text = beefchunk['content']\n",
    "        r_dict['text'] = r_text\n",
    "        r_sentiment = TextBlob(r_text).sentiment\n",
    "        r_polarity = r_sentiment[0]\n",
    "        r_subjectivity = r_sentiment[1]\n",
    "        summary = Summarize(name,r_text)\n",
    "        r_blurb = ' '.join(summary)\n",
    "        r_dict['review_subjectivity'] = r_subjectivity\n",
    "        r_dict['review_polarity'] = r_polarity\n",
    "        r_thumbsup = 'Positive' if r_polarity >0 else 'Negative'\n",
    "        r_dict['thumbsup'] = r_thumbsup\n",
    "        r_dict['blurb'] = r_blurb\n",
    "        varietydict[name] = r_dict"
   ]
  },
  {
   "cell_type": "code",
   "execution_count": null,
   "metadata": {},
   "outputs": [],
   "source": []
  },
  {
   "cell_type": "code",
   "execution_count": 509,
   "metadata": {
    "scrolled": true
   },
   "outputs": [
    {
     "data": {
      "text/plain": [
       "{u'Agatha Christies Crooked House': {'blurb': [u'Will \"Phantom Thread\" turn out to be the story of a man who falls for his fetishistic design of a woman?',\n",
       "   u'After having dinner with Alma, Reynolds drives her over to his country studio, where she models for him, and he makes her a dress.',\n",
       "   u'\"Phantom Thread\" comes on, for a good long stretch, like Anderson\\u2019s sprawling version of \"Rebecca\" or \"Suspicion\": a romantic suspense thriller coursing with dread.',\n",
       "   u'He remains a filmmaking wizard, and \"Phantom Thread\" sweeps you up and carries you along, much more, to my mind, than \"The Master\" did.',\n",
       "   u'Will he eat his asparagus with butter the way she\\u2019s prepared it?'],\n",
       "  'critic': u'Peter Debruge',\n",
       "  'link': u'http://variety.com/2017/film/reviews/a-thought-of-ecstasy-review-1202627473/',\n",
       "  'movie': u'Agatha Christies Crooked House',\n",
       "  'review_polarity': 0.12364497051504925,\n",
       "  'review_subjectivity': 0.5116930838190682,\n",
       "  'text': u'Reynolds Woodcock (Daniel Day-Lewis), the svelte and smoldering middle-aged British fashion designer at the heart of Paul Thomas Anderson\\u2019s \"Phantom Thread,\" is a man who seems to have everything he wants. He lives in a splendid five-story London townhouse with walls the color of cream, and he works there too, starting early, sitting with his tea and pastries as he does the day\\u2019s sketches, already possessed by his reverent labor. He\\u2019s a dressmaker who works with the fervor of an artist \\u2014 dreaming, obsessing, perfecting. At night he sips martinis at parties and restaurants, rubbing shoulders with the countesses and wealthy London ladies who are his clients, and he\\u2019s also a devoted serial womanizer who falls for \\u2014 and discards \\u2014 one comely model muse after another. (As the film opens, his current flame is flickering out.) \"Phantom Thread\" is set in 1955, but Reynolds, in his posh and pampered upper-crust way, has the air of a highly contempo bachelor hedonist. The world is his oyster, and it\\u2019s also his man-cave.\\r\\n\\r\\nOne weekend, he drives his sporty maroon roadster \\u2014 at top speed, of course \\u2014\\xa0out to his country getaway, arriving at dawn and ordering breakfast in the restaurant of a seaside hotel. The young woman who waits on him, Alma (Vickey Krieps), has a melting warm smile, come-hither eyes locked in a glow of adoration, and a mild accent. (It\\u2019s never specified where she\\u2019s from, but the 34-year-old actress Vicky Krieps hails from Luxembourg.) As soon as she takes his order for Welsh rarebit with a poached egg on top, a pot of lapsang tea, jam (not strawberry!), and an order of sausages, she can tell that this is a man whose appetite for life matches her own.\\r\\n\\r\\nDaniel Day-Lewis has spent enough time behind the fa\\xe7ade of concocted voices and elaborate hair that it\\u2019s always a bit of an ironic shock to see him head back into the skin of his own look and personality. In the early scenes of \"Phantom Thread,\" he\\u2019s urbane and inviting and demurely British, with his black-and-gray hair swept back; he\\'s so gentlemanly in his flirtation that he reminds you of someone like George Martin. After having dinner with Alma, Reynolds drives her over to his country studio, where she models for him, and he makes her a dress. It\\u2019s love at first stitch.\\r\\n\\r\\nBut, of course, we\\'re all too aware that something ominous has to be lurking in the shadows. There wouldn\\u2019t be a movie otherwise, and the plangent pull of Jonny Greenwood\\u2019s musical score, rapturous with longing and anxiety, summons an unmistakable \\'50s-Hitchcock vibe. So does Anderson\\u2019s meticulous filmmaking. Reynolds is presented as a feverish artisan of fashion, sketching and sewing his way to a vision of the feminine ideal. He courts Alma by using her as a human mannequin, and it\\u2019s therefore hard not to get intimations of a movie like \"Vertigo,\" or maybe a super-kinky \"Pygmalion.\" Will \"Phantom Thread\" turn out to be the story of a man who falls for his fetishistic design of a woman?\\r\\n\\r\\nThe film\\u2019s dilemma, as it happens, isn\\u2019t nearly that spectacularly perverse. Reynolds comes under Alma\\u2019s spell, and since he\\u2019s a severely handsome and well-known designer, and she\\u2019s an expatriate nobody waiting tables in a country hotel, it doesn\\u2019t take higher math to see where this power imbalance is heading. Alma returns to London with Reynolds and becomes his new model and muse. He moves her into the bedroom upstairs \\u2014 right next to his, as if conferring some great privilege, though it already sounds like he\\u2019s talking about a birdcage.\\r\\n\\r\\nDo they sleep together? The movie doesn\\'t show that kind of thing (the oblique implication is yes), but their problems start at breakfast, where Alma butters her toast, and pours her tea, in a disarmingly noisy manner, which skews Reynolds\\u2019 train of thought. A little later, she makes the mistake of challenging one of his choices of fabrics, which leads to a back-and-forth verbal volley worthy of a screwball comedy, only Reynolds doesn\\u2019t want feisty rejoinders \\u2014 he wants to be obeyed. (Just when the exchange is starting to sizzle, he shouts, \"Enough!\") Did I mention that Reynolds\\u2019 sister, Cyril (Lesley Manville), is sitting there during every one of these encounters? She\\u2019s his business partner, and also, apparently, his eternal companion (along with the ghost of his dead mother). Reynolds and Cyril are close in a way that suggests something warm, loyal, and a little unseemly. She\\u2019s like the housekeeper in Hitchcock\\u2019s \"Rebecca,\" creepy and a touch macabre, always hovering, except that the great Lesley Manville, her eyes like black lasers, her hair piled into a short stacked \\u2018do, plays her like the Judi Dench version of a John Waters character: a badass in dowager\\u2019s clothing.\\r\\n\\r\\nAnderson, who didn\\'t just write and direct \"Phantom Thread\" but shot it himself (uncredited), stages the movie as a lavishly suspenseful piece of wealth porn. His camera travels up and down the stairways of the townhouse, and he lingers on Reynolds\\u2019 work as a designer, swathing us in the physicality of the fabrics \\u2014 the 16th-century Flemish lace out of which he makes Alma a gorgeous lavender dress, or a stunning royal silky number with pink diamonds on the breast. Anderson, in making the film, drew on the careers of several British designers of the period (like Charles James), and the essential exotic element for the audience is that this is the pre-couture world, where fashion, at least in Britain, had yet to enter its postmodern dream phase. That was just starting in France, and Reynolds, at one point, spits out the word \"chic\" as if it were a vile obscenity.\\r\\n\\r\\nFor all the attention it lavishes on Reynolds\\u2019 designs, and on the daily swirl of his existence, where he\\'s surrounded by a flurry of seamstresses, \"Phantom Thread\" isn\\'t, at heart, a tale of artistic passion. It\\u2019s a parable of toxic masculinity. Reynolds\\u2019 last name, Woodcock, can sound like it was invented to reduce Beavis and Butt-Head to a state of grunting hysterics \\u2014 but, in fact, the meaning of the name is exactly that. Day-Lewis\\u2019s Woodcock is a stiff, a hard virile puppet of a man \\u2014 a selfish vessel of male desire. He has invited Alma to fall in love with him, and she does, but all that means to Reynolds is that he wants to go on with his life as is (the work, the parties, the routine), with Alma as the girl utensil he takes down from the shelf whenever he feels like it. The movie is constructed as a kind of suspenseful showdown: Will Reynolds the elegant tyrant of fake romance, with his Woodcock coldness, break her down? Or will she turn the tables?\\r\\n\\r\\n\"Phantom Thread\" is seductive and absorbing, but it\\u2019s also emotionally remote. The film is framed as a love story, but it never swoons, and it\\'s enough to make you wonder: Why does Anderson, whose work back in the late \\'90s (the transcendent \"Boogie Nights,\" the enraptured \"Magnolia\") pulsated with off-kilter humanity, now make dramas that are essentially didactic studies of fantastically cold brutes? He remains a filmmaking wizard, and \"Phantom Thread\" sweeps you up and carries you along, much more, to my mind, than \"The Master\" did. Yet it\\u2019s a thesis movie: the story of a bullying narcissist who lacks the ability to have a relationship, and the outrageous way he\\'s schooled into becoming a human being. It\\u2019s the story of a control freak made by a control freak.\\r\\n\\r\\nDid all of this start with \"Raging Bull\"? In \"Phantom Thread,\" Daniel Day-Lewis, who has declared that this will be his last screen performance, seems to be relishing the chance to play another flamboyant emotional fascist, and the movie asks the audience to chortle along, notably in the sequence where Alma tries to assert her place in the scheme of things by making an intimate dinner for herself and Reynolds. She has to shoo everyone out of the townhouse as if she were clearing Buckingham Palace, and when Reynolds walks in, he acts like he\\u2019s been ambushed. Will he eat his asparagus with butter the way she\\u2019s prepared it? Why should he? He likes them with oil and salt!\\r\\n\\r\\nThe sequence plays like the \"Masterpiece Theatre\" version of \"There Will Be Blood,\" with Krieps, as Alma, asserting her radiant devotion in the face of Reynolds\\u2019 stone-cold rejection. It\\u2019s at that moment that she decides to go to extremes \\u2014 a twist out of a thriller that\\u2019s also a dark joke. It certainly plays (at least the first time), but it\\u2019s hard to shake the feeling that Day-Lewis, along with Anderson, has confused misanthropy with art. The actor plays Reynolds with a winning puckish gleam that turns sinister, but I can\\u2019t say that he goes out with a great performance.\\r\\n\\r\\n\"Phantom Thread\" comes on, for a good long stretch, like Anderson\\u2019s sprawling version of \"Rebecca\" or \"Suspicion\": a romantic suspense thriller coursing with dread. I wish it had stayed on that track, but Anderson isn\\u2019t content to make a black-hearted retro genre film. He\\u2019s too ambitious, and once Alma exacts her revenge, the movie does something a little bizarre: It goes back to square one, so that Reynolds, even after proposing to Alma, turns out to be the same old dick he always was. The film, in what should have been its culminating passages, loses steams and grows repetitive, building toward the scene in which Reynolds eats an omelette, colluding \\u2014 knowingly \\u2014 in his own punishment and reform. It\\u2019s supposed to be the film\\u2019s capstone of perversity: toxic masculinity toxifying itself. But it just made me wish that Paul Thomas Anderson would stop making movies about people who are so stunted that he can\\u2019t help adoring them for it.',\n",
       "  'thumbsup': 'Positive'},\n",
       " u'Bullet Head': {'blurb': [u'Will \"Phantom Thread\" turn out to be the story of a man who falls for his fetishistic design of a woman?',\n",
       "   u'After having dinner with Alma, Reynolds drives her over to his country studio, where she models for him, and he makes her a dress.',\n",
       "   u'\"Phantom Thread\" comes on, for a good long stretch, like Anderson\\u2019s sprawling version of \"Rebecca\" or \"Suspicion\": a romantic suspense thriller coursing with dread.',\n",
       "   u'He remains a filmmaking wizard, and \"Phantom Thread\" sweeps you up and carries you along, much more, to my mind, than \"The Master\" did.',\n",
       "   u'Will he eat his asparagus with butter the way she\\u2019s prepared it?'],\n",
       "  'critic': u'Dennis Harvey',\n",
       "  'link': u'http://variety.com/2017/film/reviews/a-thought-of-ecstasy-review-1202627473/',\n",
       "  'movie': u'Bullet Head',\n",
       "  'review_polarity': 0.12364497051504925,\n",
       "  'review_subjectivity': 0.5116930838190682,\n",
       "  'text': u'Reynolds Woodcock (Daniel Day-Lewis), the svelte and smoldering middle-aged British fashion designer at the heart of Paul Thomas Anderson\\u2019s \"Phantom Thread,\" is a man who seems to have everything he wants. He lives in a splendid five-story London townhouse with walls the color of cream, and he works there too, starting early, sitting with his tea and pastries as he does the day\\u2019s sketches, already possessed by his reverent labor. He\\u2019s a dressmaker who works with the fervor of an artist \\u2014 dreaming, obsessing, perfecting. At night he sips martinis at parties and restaurants, rubbing shoulders with the countesses and wealthy London ladies who are his clients, and he\\u2019s also a devoted serial womanizer who falls for \\u2014 and discards \\u2014 one comely model muse after another. (As the film opens, his current flame is flickering out.) \"Phantom Thread\" is set in 1955, but Reynolds, in his posh and pampered upper-crust way, has the air of a highly contempo bachelor hedonist. The world is his oyster, and it\\u2019s also his man-cave.\\r\\n\\r\\nOne weekend, he drives his sporty maroon roadster \\u2014 at top speed, of course \\u2014\\xa0out to his country getaway, arriving at dawn and ordering breakfast in the restaurant of a seaside hotel. The young woman who waits on him, Alma (Vickey Krieps), has a melting warm smile, come-hither eyes locked in a glow of adoration, and a mild accent. (It\\u2019s never specified where she\\u2019s from, but the 34-year-old actress Vicky Krieps hails from Luxembourg.) As soon as she takes his order for Welsh rarebit with a poached egg on top, a pot of lapsang tea, jam (not strawberry!), and an order of sausages, she can tell that this is a man whose appetite for life matches her own.\\r\\n\\r\\nDaniel Day-Lewis has spent enough time behind the fa\\xe7ade of concocted voices and elaborate hair that it\\u2019s always a bit of an ironic shock to see him head back into the skin of his own look and personality. In the early scenes of \"Phantom Thread,\" he\\u2019s urbane and inviting and demurely British, with his black-and-gray hair swept back; he\\'s so gentlemanly in his flirtation that he reminds you of someone like George Martin. After having dinner with Alma, Reynolds drives her over to his country studio, where she models for him, and he makes her a dress. It\\u2019s love at first stitch.\\r\\n\\r\\nBut, of course, we\\'re all too aware that something ominous has to be lurking in the shadows. There wouldn\\u2019t be a movie otherwise, and the plangent pull of Jonny Greenwood\\u2019s musical score, rapturous with longing and anxiety, summons an unmistakable \\'50s-Hitchcock vibe. So does Anderson\\u2019s meticulous filmmaking. Reynolds is presented as a feverish artisan of fashion, sketching and sewing his way to a vision of the feminine ideal. He courts Alma by using her as a human mannequin, and it\\u2019s therefore hard not to get intimations of a movie like \"Vertigo,\" or maybe a super-kinky \"Pygmalion.\" Will \"Phantom Thread\" turn out to be the story of a man who falls for his fetishistic design of a woman?\\r\\n\\r\\nThe film\\u2019s dilemma, as it happens, isn\\u2019t nearly that spectacularly perverse. Reynolds comes under Alma\\u2019s spell, and since he\\u2019s a severely handsome and well-known designer, and she\\u2019s an expatriate nobody waiting tables in a country hotel, it doesn\\u2019t take higher math to see where this power imbalance is heading. Alma returns to London with Reynolds and becomes his new model and muse. He moves her into the bedroom upstairs \\u2014 right next to his, as if conferring some great privilege, though it already sounds like he\\u2019s talking about a birdcage.\\r\\n\\r\\nDo they sleep together? The movie doesn\\'t show that kind of thing (the oblique implication is yes), but their problems start at breakfast, where Alma butters her toast, and pours her tea, in a disarmingly noisy manner, which skews Reynolds\\u2019 train of thought. A little later, she makes the mistake of challenging one of his choices of fabrics, which leads to a back-and-forth verbal volley worthy of a screwball comedy, only Reynolds doesn\\u2019t want feisty rejoinders \\u2014 he wants to be obeyed. (Just when the exchange is starting to sizzle, he shouts, \"Enough!\") Did I mention that Reynolds\\u2019 sister, Cyril (Lesley Manville), is sitting there during every one of these encounters? She\\u2019s his business partner, and also, apparently, his eternal companion (along with the ghost of his dead mother). Reynolds and Cyril are close in a way that suggests something warm, loyal, and a little unseemly. She\\u2019s like the housekeeper in Hitchcock\\u2019s \"Rebecca,\" creepy and a touch macabre, always hovering, except that the great Lesley Manville, her eyes like black lasers, her hair piled into a short stacked \\u2018do, plays her like the Judi Dench version of a John Waters character: a badass in dowager\\u2019s clothing.\\r\\n\\r\\nAnderson, who didn\\'t just write and direct \"Phantom Thread\" but shot it himself (uncredited), stages the movie as a lavishly suspenseful piece of wealth porn. His camera travels up and down the stairways of the townhouse, and he lingers on Reynolds\\u2019 work as a designer, swathing us in the physicality of the fabrics \\u2014 the 16th-century Flemish lace out of which he makes Alma a gorgeous lavender dress, or a stunning royal silky number with pink diamonds on the breast. Anderson, in making the film, drew on the careers of several British designers of the period (like Charles James), and the essential exotic element for the audience is that this is the pre-couture world, where fashion, at least in Britain, had yet to enter its postmodern dream phase. That was just starting in France, and Reynolds, at one point, spits out the word \"chic\" as if it were a vile obscenity.\\r\\n\\r\\nFor all the attention it lavishes on Reynolds\\u2019 designs, and on the daily swirl of his existence, where he\\'s surrounded by a flurry of seamstresses, \"Phantom Thread\" isn\\'t, at heart, a tale of artistic passion. It\\u2019s a parable of toxic masculinity. Reynolds\\u2019 last name, Woodcock, can sound like it was invented to reduce Beavis and Butt-Head to a state of grunting hysterics \\u2014 but, in fact, the meaning of the name is exactly that. Day-Lewis\\u2019s Woodcock is a stiff, a hard virile puppet of a man \\u2014 a selfish vessel of male desire. He has invited Alma to fall in love with him, and she does, but all that means to Reynolds is that he wants to go on with his life as is (the work, the parties, the routine), with Alma as the girl utensil he takes down from the shelf whenever he feels like it. The movie is constructed as a kind of suspenseful showdown: Will Reynolds the elegant tyrant of fake romance, with his Woodcock coldness, break her down? Or will she turn the tables?\\r\\n\\r\\n\"Phantom Thread\" is seductive and absorbing, but it\\u2019s also emotionally remote. The film is framed as a love story, but it never swoons, and it\\'s enough to make you wonder: Why does Anderson, whose work back in the late \\'90s (the transcendent \"Boogie Nights,\" the enraptured \"Magnolia\") pulsated with off-kilter humanity, now make dramas that are essentially didactic studies of fantastically cold brutes? He remains a filmmaking wizard, and \"Phantom Thread\" sweeps you up and carries you along, much more, to my mind, than \"The Master\" did. Yet it\\u2019s a thesis movie: the story of a bullying narcissist who lacks the ability to have a relationship, and the outrageous way he\\'s schooled into becoming a human being. It\\u2019s the story of a control freak made by a control freak.\\r\\n\\r\\nDid all of this start with \"Raging Bull\"? In \"Phantom Thread,\" Daniel Day-Lewis, who has declared that this will be his last screen performance, seems to be relishing the chance to play another flamboyant emotional fascist, and the movie asks the audience to chortle along, notably in the sequence where Alma tries to assert her place in the scheme of things by making an intimate dinner for herself and Reynolds. She has to shoo everyone out of the townhouse as if she were clearing Buckingham Palace, and when Reynolds walks in, he acts like he\\u2019s been ambushed. Will he eat his asparagus with butter the way she\\u2019s prepared it? Why should he? He likes them with oil and salt!\\r\\n\\r\\nThe sequence plays like the \"Masterpiece Theatre\" version of \"There Will Be Blood,\" with Krieps, as Alma, asserting her radiant devotion in the face of Reynolds\\u2019 stone-cold rejection. It\\u2019s at that moment that she decides to go to extremes \\u2014 a twist out of a thriller that\\u2019s also a dark joke. It certainly plays (at least the first time), but it\\u2019s hard to shake the feeling that Day-Lewis, along with Anderson, has confused misanthropy with art. The actor plays Reynolds with a winning puckish gleam that turns sinister, but I can\\u2019t say that he goes out with a great performance.\\r\\n\\r\\n\"Phantom Thread\" comes on, for a good long stretch, like Anderson\\u2019s sprawling version of \"Rebecca\" or \"Suspicion\": a romantic suspense thriller coursing with dread. I wish it had stayed on that track, but Anderson isn\\u2019t content to make a black-hearted retro genre film. He\\u2019s too ambitious, and once Alma exacts her revenge, the movie does something a little bizarre: It goes back to square one, so that Reynolds, even after proposing to Alma, turns out to be the same old dick he always was. The film, in what should have been its culminating passages, loses steams and grows repetitive, building toward the scene in which Reynolds eats an omelette, colluding \\u2014 knowingly \\u2014 in his own punishment and reform. It\\u2019s supposed to be the film\\u2019s capstone of perversity: toxic masculinity toxifying itself. But it just made me wish that Paul Thomas Anderson would stop making movies about people who are so stunted that he can\\u2019t help adoring them for it.',\n",
       "  'thumbsup': 'Positive'},\n",
       " u'D-love': {'blurb': [u'Will \"Phantom Thread\" turn out to be the story of a man who falls for his fetishistic design of a woman?',\n",
       "   u'After having dinner with Alma, Reynolds drives her over to his country studio, where she models for him, and he makes her a dress.',\n",
       "   u'\"Phantom Thread\" comes on, for a good long stretch, like Anderson\\u2019s sprawling version of \"Rebecca\" or \"Suspicion\": a romantic suspense thriller coursing with dread.',\n",
       "   u'He remains a filmmaking wizard, and \"Phantom Thread\" sweeps you up and carries you along, much more, to my mind, than \"The Master\" did.',\n",
       "   u'Will he eat his asparagus with butter the way she\\u2019s prepared it?'],\n",
       "  'critic': u'Nick Schager',\n",
       "  'link': u'http://variety.com/2017/film/reviews/a-thought-of-ecstasy-review-1202627473/',\n",
       "  'movie': u'D-love',\n",
       "  'review_polarity': 0.12364497051504925,\n",
       "  'review_subjectivity': 0.5116930838190682,\n",
       "  'text': u'Reynolds Woodcock (Daniel Day-Lewis), the svelte and smoldering middle-aged British fashion designer at the heart of Paul Thomas Anderson\\u2019s \"Phantom Thread,\" is a man who seems to have everything he wants. He lives in a splendid five-story London townhouse with walls the color of cream, and he works there too, starting early, sitting with his tea and pastries as he does the day\\u2019s sketches, already possessed by his reverent labor. He\\u2019s a dressmaker who works with the fervor of an artist \\u2014 dreaming, obsessing, perfecting. At night he sips martinis at parties and restaurants, rubbing shoulders with the countesses and wealthy London ladies who are his clients, and he\\u2019s also a devoted serial womanizer who falls for \\u2014 and discards \\u2014 one comely model muse after another. (As the film opens, his current flame is flickering out.) \"Phantom Thread\" is set in 1955, but Reynolds, in his posh and pampered upper-crust way, has the air of a highly contempo bachelor hedonist. The world is his oyster, and it\\u2019s also his man-cave.\\r\\n\\r\\nOne weekend, he drives his sporty maroon roadster \\u2014 at top speed, of course \\u2014\\xa0out to his country getaway, arriving at dawn and ordering breakfast in the restaurant of a seaside hotel. The young woman who waits on him, Alma (Vickey Krieps), has a melting warm smile, come-hither eyes locked in a glow of adoration, and a mild accent. (It\\u2019s never specified where she\\u2019s from, but the 34-year-old actress Vicky Krieps hails from Luxembourg.) As soon as she takes his order for Welsh rarebit with a poached egg on top, a pot of lapsang tea, jam (not strawberry!), and an order of sausages, she can tell that this is a man whose appetite for life matches her own.\\r\\n\\r\\nDaniel Day-Lewis has spent enough time behind the fa\\xe7ade of concocted voices and elaborate hair that it\\u2019s always a bit of an ironic shock to see him head back into the skin of his own look and personality. In the early scenes of \"Phantom Thread,\" he\\u2019s urbane and inviting and demurely British, with his black-and-gray hair swept back; he\\'s so gentlemanly in his flirtation that he reminds you of someone like George Martin. After having dinner with Alma, Reynolds drives her over to his country studio, where she models for him, and he makes her a dress. It\\u2019s love at first stitch.\\r\\n\\r\\nBut, of course, we\\'re all too aware that something ominous has to be lurking in the shadows. There wouldn\\u2019t be a movie otherwise, and the plangent pull of Jonny Greenwood\\u2019s musical score, rapturous with longing and anxiety, summons an unmistakable \\'50s-Hitchcock vibe. So does Anderson\\u2019s meticulous filmmaking. Reynolds is presented as a feverish artisan of fashion, sketching and sewing his way to a vision of the feminine ideal. He courts Alma by using her as a human mannequin, and it\\u2019s therefore hard not to get intimations of a movie like \"Vertigo,\" or maybe a super-kinky \"Pygmalion.\" Will \"Phantom Thread\" turn out to be the story of a man who falls for his fetishistic design of a woman?\\r\\n\\r\\nThe film\\u2019s dilemma, as it happens, isn\\u2019t nearly that spectacularly perverse. Reynolds comes under Alma\\u2019s spell, and since he\\u2019s a severely handsome and well-known designer, and she\\u2019s an expatriate nobody waiting tables in a country hotel, it doesn\\u2019t take higher math to see where this power imbalance is heading. Alma returns to London with Reynolds and becomes his new model and muse. He moves her into the bedroom upstairs \\u2014 right next to his, as if conferring some great privilege, though it already sounds like he\\u2019s talking about a birdcage.\\r\\n\\r\\nDo they sleep together? The movie doesn\\'t show that kind of thing (the oblique implication is yes), but their problems start at breakfast, where Alma butters her toast, and pours her tea, in a disarmingly noisy manner, which skews Reynolds\\u2019 train of thought. A little later, she makes the mistake of challenging one of his choices of fabrics, which leads to a back-and-forth verbal volley worthy of a screwball comedy, only Reynolds doesn\\u2019t want feisty rejoinders \\u2014 he wants to be obeyed. (Just when the exchange is starting to sizzle, he shouts, \"Enough!\") Did I mention that Reynolds\\u2019 sister, Cyril (Lesley Manville), is sitting there during every one of these encounters? She\\u2019s his business partner, and also, apparently, his eternal companion (along with the ghost of his dead mother). Reynolds and Cyril are close in a way that suggests something warm, loyal, and a little unseemly. She\\u2019s like the housekeeper in Hitchcock\\u2019s \"Rebecca,\" creepy and a touch macabre, always hovering, except that the great Lesley Manville, her eyes like black lasers, her hair piled into a short stacked \\u2018do, plays her like the Judi Dench version of a John Waters character: a badass in dowager\\u2019s clothing.\\r\\n\\r\\nAnderson, who didn\\'t just write and direct \"Phantom Thread\" but shot it himself (uncredited), stages the movie as a lavishly suspenseful piece of wealth porn. His camera travels up and down the stairways of the townhouse, and he lingers on Reynolds\\u2019 work as a designer, swathing us in the physicality of the fabrics \\u2014 the 16th-century Flemish lace out of which he makes Alma a gorgeous lavender dress, or a stunning royal silky number with pink diamonds on the breast. Anderson, in making the film, drew on the careers of several British designers of the period (like Charles James), and the essential exotic element for the audience is that this is the pre-couture world, where fashion, at least in Britain, had yet to enter its postmodern dream phase. That was just starting in France, and Reynolds, at one point, spits out the word \"chic\" as if it were a vile obscenity.\\r\\n\\r\\nFor all the attention it lavishes on Reynolds\\u2019 designs, and on the daily swirl of his existence, where he\\'s surrounded by a flurry of seamstresses, \"Phantom Thread\" isn\\'t, at heart, a tale of artistic passion. It\\u2019s a parable of toxic masculinity. Reynolds\\u2019 last name, Woodcock, can sound like it was invented to reduce Beavis and Butt-Head to a state of grunting hysterics \\u2014 but, in fact, the meaning of the name is exactly that. Day-Lewis\\u2019s Woodcock is a stiff, a hard virile puppet of a man \\u2014 a selfish vessel of male desire. He has invited Alma to fall in love with him, and she does, but all that means to Reynolds is that he wants to go on with his life as is (the work, the parties, the routine), with Alma as the girl utensil he takes down from the shelf whenever he feels like it. The movie is constructed as a kind of suspenseful showdown: Will Reynolds the elegant tyrant of fake romance, with his Woodcock coldness, break her down? Or will she turn the tables?\\r\\n\\r\\n\"Phantom Thread\" is seductive and absorbing, but it\\u2019s also emotionally remote. The film is framed as a love story, but it never swoons, and it\\'s enough to make you wonder: Why does Anderson, whose work back in the late \\'90s (the transcendent \"Boogie Nights,\" the enraptured \"Magnolia\") pulsated with off-kilter humanity, now make dramas that are essentially didactic studies of fantastically cold brutes? He remains a filmmaking wizard, and \"Phantom Thread\" sweeps you up and carries you along, much more, to my mind, than \"The Master\" did. Yet it\\u2019s a thesis movie: the story of a bullying narcissist who lacks the ability to have a relationship, and the outrageous way he\\'s schooled into becoming a human being. It\\u2019s the story of a control freak made by a control freak.\\r\\n\\r\\nDid all of this start with \"Raging Bull\"? In \"Phantom Thread,\" Daniel Day-Lewis, who has declared that this will be his last screen performance, seems to be relishing the chance to play another flamboyant emotional fascist, and the movie asks the audience to chortle along, notably in the sequence where Alma tries to assert her place in the scheme of things by making an intimate dinner for herself and Reynolds. She has to shoo everyone out of the townhouse as if she were clearing Buckingham Palace, and when Reynolds walks in, he acts like he\\u2019s been ambushed. Will he eat his asparagus with butter the way she\\u2019s prepared it? Why should he? He likes them with oil and salt!\\r\\n\\r\\nThe sequence plays like the \"Masterpiece Theatre\" version of \"There Will Be Blood,\" with Krieps, as Alma, asserting her radiant devotion in the face of Reynolds\\u2019 stone-cold rejection. It\\u2019s at that moment that she decides to go to extremes \\u2014 a twist out of a thriller that\\u2019s also a dark joke. It certainly plays (at least the first time), but it\\u2019s hard to shake the feeling that Day-Lewis, along with Anderson, has confused misanthropy with art. The actor plays Reynolds with a winning puckish gleam that turns sinister, but I can\\u2019t say that he goes out with a great performance.\\r\\n\\r\\n\"Phantom Thread\" comes on, for a good long stretch, like Anderson\\u2019s sprawling version of \"Rebecca\" or \"Suspicion\": a romantic suspense thriller coursing with dread. I wish it had stayed on that track, but Anderson isn\\u2019t content to make a black-hearted retro genre film. He\\u2019s too ambitious, and once Alma exacts her revenge, the movie does something a little bizarre: It goes back to square one, so that Reynolds, even after proposing to Alma, turns out to be the same old dick he always was. The film, in what should have been its culminating passages, loses steams and grows repetitive, building toward the scene in which Reynolds eats an omelette, colluding \\u2014 knowingly \\u2014 in his own punishment and reform. It\\u2019s supposed to be the film\\u2019s capstone of perversity: toxic masculinity toxifying itself. But it just made me wish that Paul Thomas Anderson would stop making movies about people who are so stunted that he can\\u2019t help adoring them for it.',\n",
       "  'thumbsup': 'Positive'},\n",
       " u'Gangster Land': {'blurb': [u'Will \"Phantom Thread\" turn out to be the story of a man who falls for his fetishistic design of a woman?',\n",
       "   u'After having dinner with Alma, Reynolds drives her over to his country studio, where she models for him, and he makes her a dress.',\n",
       "   u'\"Phantom Thread\" comes on, for a good long stretch, like Anderson\\u2019s sprawling version of \"Rebecca\" or \"Suspicion\": a romantic suspense thriller coursing with dread.',\n",
       "   u'He remains a filmmaking wizard, and \"Phantom Thread\" sweeps you up and carries you along, much more, to my mind, than \"The Master\" did.',\n",
       "   u'Will he eat his asparagus with butter the way she\\u2019s prepared it?'],\n",
       "  'critic': u'Dennis Harvey',\n",
       "  'link': u'http://variety.com/2017/film/reviews/a-thought-of-ecstasy-review-1202627473/',\n",
       "  'movie': u'Gangster Land',\n",
       "  'review_polarity': 0.12364497051504925,\n",
       "  'review_subjectivity': 0.5116930838190682,\n",
       "  'text': u'Reynolds Woodcock (Daniel Day-Lewis), the svelte and smoldering middle-aged British fashion designer at the heart of Paul Thomas Anderson\\u2019s \"Phantom Thread,\" is a man who seems to have everything he wants. He lives in a splendid five-story London townhouse with walls the color of cream, and he works there too, starting early, sitting with his tea and pastries as he does the day\\u2019s sketches, already possessed by his reverent labor. He\\u2019s a dressmaker who works with the fervor of an artist \\u2014 dreaming, obsessing, perfecting. At night he sips martinis at parties and restaurants, rubbing shoulders with the countesses and wealthy London ladies who are his clients, and he\\u2019s also a devoted serial womanizer who falls for \\u2014 and discards \\u2014 one comely model muse after another. (As the film opens, his current flame is flickering out.) \"Phantom Thread\" is set in 1955, but Reynolds, in his posh and pampered upper-crust way, has the air of a highly contempo bachelor hedonist. The world is his oyster, and it\\u2019s also his man-cave.\\r\\n\\r\\nOne weekend, he drives his sporty maroon roadster \\u2014 at top speed, of course \\u2014\\xa0out to his country getaway, arriving at dawn and ordering breakfast in the restaurant of a seaside hotel. The young woman who waits on him, Alma (Vickey Krieps), has a melting warm smile, come-hither eyes locked in a glow of adoration, and a mild accent. (It\\u2019s never specified where she\\u2019s from, but the 34-year-old actress Vicky Krieps hails from Luxembourg.) As soon as she takes his order for Welsh rarebit with a poached egg on top, a pot of lapsang tea, jam (not strawberry!), and an order of sausages, she can tell that this is a man whose appetite for life matches her own.\\r\\n\\r\\nDaniel Day-Lewis has spent enough time behind the fa\\xe7ade of concocted voices and elaborate hair that it\\u2019s always a bit of an ironic shock to see him head back into the skin of his own look and personality. In the early scenes of \"Phantom Thread,\" he\\u2019s urbane and inviting and demurely British, with his black-and-gray hair swept back; he\\'s so gentlemanly in his flirtation that he reminds you of someone like George Martin. After having dinner with Alma, Reynolds drives her over to his country studio, where she models for him, and he makes her a dress. It\\u2019s love at first stitch.\\r\\n\\r\\nBut, of course, we\\'re all too aware that something ominous has to be lurking in the shadows. There wouldn\\u2019t be a movie otherwise, and the plangent pull of Jonny Greenwood\\u2019s musical score, rapturous with longing and anxiety, summons an unmistakable \\'50s-Hitchcock vibe. So does Anderson\\u2019s meticulous filmmaking. Reynolds is presented as a feverish artisan of fashion, sketching and sewing his way to a vision of the feminine ideal. He courts Alma by using her as a human mannequin, and it\\u2019s therefore hard not to get intimations of a movie like \"Vertigo,\" or maybe a super-kinky \"Pygmalion.\" Will \"Phantom Thread\" turn out to be the story of a man who falls for his fetishistic design of a woman?\\r\\n\\r\\nThe film\\u2019s dilemma, as it happens, isn\\u2019t nearly that spectacularly perverse. Reynolds comes under Alma\\u2019s spell, and since he\\u2019s a severely handsome and well-known designer, and she\\u2019s an expatriate nobody waiting tables in a country hotel, it doesn\\u2019t take higher math to see where this power imbalance is heading. Alma returns to London with Reynolds and becomes his new model and muse. He moves her into the bedroom upstairs \\u2014 right next to his, as if conferring some great privilege, though it already sounds like he\\u2019s talking about a birdcage.\\r\\n\\r\\nDo they sleep together? The movie doesn\\'t show that kind of thing (the oblique implication is yes), but their problems start at breakfast, where Alma butters her toast, and pours her tea, in a disarmingly noisy manner, which skews Reynolds\\u2019 train of thought. A little later, she makes the mistake of challenging one of his choices of fabrics, which leads to a back-and-forth verbal volley worthy of a screwball comedy, only Reynolds doesn\\u2019t want feisty rejoinders \\u2014 he wants to be obeyed. (Just when the exchange is starting to sizzle, he shouts, \"Enough!\") Did I mention that Reynolds\\u2019 sister, Cyril (Lesley Manville), is sitting there during every one of these encounters? She\\u2019s his business partner, and also, apparently, his eternal companion (along with the ghost of his dead mother). Reynolds and Cyril are close in a way that suggests something warm, loyal, and a little unseemly. She\\u2019s like the housekeeper in Hitchcock\\u2019s \"Rebecca,\" creepy and a touch macabre, always hovering, except that the great Lesley Manville, her eyes like black lasers, her hair piled into a short stacked \\u2018do, plays her like the Judi Dench version of a John Waters character: a badass in dowager\\u2019s clothing.\\r\\n\\r\\nAnderson, who didn\\'t just write and direct \"Phantom Thread\" but shot it himself (uncredited), stages the movie as a lavishly suspenseful piece of wealth porn. His camera travels up and down the stairways of the townhouse, and he lingers on Reynolds\\u2019 work as a designer, swathing us in the physicality of the fabrics \\u2014 the 16th-century Flemish lace out of which he makes Alma a gorgeous lavender dress, or a stunning royal silky number with pink diamonds on the breast. Anderson, in making the film, drew on the careers of several British designers of the period (like Charles James), and the essential exotic element for the audience is that this is the pre-couture world, where fashion, at least in Britain, had yet to enter its postmodern dream phase. That was just starting in France, and Reynolds, at one point, spits out the word \"chic\" as if it were a vile obscenity.\\r\\n\\r\\nFor all the attention it lavishes on Reynolds\\u2019 designs, and on the daily swirl of his existence, where he\\'s surrounded by a flurry of seamstresses, \"Phantom Thread\" isn\\'t, at heart, a tale of artistic passion. It\\u2019s a parable of toxic masculinity. Reynolds\\u2019 last name, Woodcock, can sound like it was invented to reduce Beavis and Butt-Head to a state of grunting hysterics \\u2014 but, in fact, the meaning of the name is exactly that. Day-Lewis\\u2019s Woodcock is a stiff, a hard virile puppet of a man \\u2014 a selfish vessel of male desire. He has invited Alma to fall in love with him, and she does, but all that means to Reynolds is that he wants to go on with his life as is (the work, the parties, the routine), with Alma as the girl utensil he takes down from the shelf whenever he feels like it. The movie is constructed as a kind of suspenseful showdown: Will Reynolds the elegant tyrant of fake romance, with his Woodcock coldness, break her down? Or will she turn the tables?\\r\\n\\r\\n\"Phantom Thread\" is seductive and absorbing, but it\\u2019s also emotionally remote. The film is framed as a love story, but it never swoons, and it\\'s enough to make you wonder: Why does Anderson, whose work back in the late \\'90s (the transcendent \"Boogie Nights,\" the enraptured \"Magnolia\") pulsated with off-kilter humanity, now make dramas that are essentially didactic studies of fantastically cold brutes? He remains a filmmaking wizard, and \"Phantom Thread\" sweeps you up and carries you along, much more, to my mind, than \"The Master\" did. Yet it\\u2019s a thesis movie: the story of a bullying narcissist who lacks the ability to have a relationship, and the outrageous way he\\'s schooled into becoming a human being. It\\u2019s the story of a control freak made by a control freak.\\r\\n\\r\\nDid all of this start with \"Raging Bull\"? In \"Phantom Thread,\" Daniel Day-Lewis, who has declared that this will be his last screen performance, seems to be relishing the chance to play another flamboyant emotional fascist, and the movie asks the audience to chortle along, notably in the sequence where Alma tries to assert her place in the scheme of things by making an intimate dinner for herself and Reynolds. She has to shoo everyone out of the townhouse as if she were clearing Buckingham Palace, and when Reynolds walks in, he acts like he\\u2019s been ambushed. Will he eat his asparagus with butter the way she\\u2019s prepared it? Why should he? He likes them with oil and salt!\\r\\n\\r\\nThe sequence plays like the \"Masterpiece Theatre\" version of \"There Will Be Blood,\" with Krieps, as Alma, asserting her radiant devotion in the face of Reynolds\\u2019 stone-cold rejection. It\\u2019s at that moment that she decides to go to extremes \\u2014 a twist out of a thriller that\\u2019s also a dark joke. It certainly plays (at least the first time), but it\\u2019s hard to shake the feeling that Day-Lewis, along with Anderson, has confused misanthropy with art. The actor plays Reynolds with a winning puckish gleam that turns sinister, but I can\\u2019t say that he goes out with a great performance.\\r\\n\\r\\n\"Phantom Thread\" comes on, for a good long stretch, like Anderson\\u2019s sprawling version of \"Rebecca\" or \"Suspicion\": a romantic suspense thriller coursing with dread. I wish it had stayed on that track, but Anderson isn\\u2019t content to make a black-hearted retro genre film. He\\u2019s too ambitious, and once Alma exacts her revenge, the movie does something a little bizarre: It goes back to square one, so that Reynolds, even after proposing to Alma, turns out to be the same old dick he always was. The film, in what should have been its culminating passages, loses steams and grows repetitive, building toward the scene in which Reynolds eats an omelette, colluding \\u2014 knowingly \\u2014 in his own punishment and reform. It\\u2019s supposed to be the film\\u2019s capstone of perversity: toxic masculinity toxifying itself. But it just made me wish that Paul Thomas Anderson would stop making movies about people who are so stunted that he can\\u2019t help adoring them for it.',\n",
       "  'thumbsup': 'Positive'},\n",
       " u'John Cena in Ferdinand': {'blurb': [u'Will \"Phantom Thread\" turn out to be the story of a man who falls for his fetishistic design of a woman?',\n",
       "   u'After having dinner with Alma, Reynolds drives her over to his country studio, where she models for him, and he makes her a dress.',\n",
       "   u'\"Phantom Thread\" comes on, for a good long stretch, like Anderson\\u2019s sprawling version of \"Rebecca\" or \"Suspicion\": a romantic suspense thriller coursing with dread.',\n",
       "   u'He remains a filmmaking wizard, and \"Phantom Thread\" sweeps you up and carries you along, much more, to my mind, than \"The Master\" did.',\n",
       "   u'Will he eat his asparagus with butter the way she\\u2019s prepared it?'],\n",
       "  'critic': u'Peter Debruge',\n",
       "  'link': u'http://variety.com/2017/film/reviews/a-thought-of-ecstasy-review-1202627473/',\n",
       "  'movie': u'John Cena in Ferdinand',\n",
       "  'review_polarity': 0.12364497051504925,\n",
       "  'review_subjectivity': 0.5116930838190682,\n",
       "  'text': u'Reynolds Woodcock (Daniel Day-Lewis), the svelte and smoldering middle-aged British fashion designer at the heart of Paul Thomas Anderson\\u2019s \"Phantom Thread,\" is a man who seems to have everything he wants. He lives in a splendid five-story London townhouse with walls the color of cream, and he works there too, starting early, sitting with his tea and pastries as he does the day\\u2019s sketches, already possessed by his reverent labor. He\\u2019s a dressmaker who works with the fervor of an artist \\u2014 dreaming, obsessing, perfecting. At night he sips martinis at parties and restaurants, rubbing shoulders with the countesses and wealthy London ladies who are his clients, and he\\u2019s also a devoted serial womanizer who falls for \\u2014 and discards \\u2014 one comely model muse after another. (As the film opens, his current flame is flickering out.) \"Phantom Thread\" is set in 1955, but Reynolds, in his posh and pampered upper-crust way, has the air of a highly contempo bachelor hedonist. The world is his oyster, and it\\u2019s also his man-cave.\\r\\n\\r\\nOne weekend, he drives his sporty maroon roadster \\u2014 at top speed, of course \\u2014\\xa0out to his country getaway, arriving at dawn and ordering breakfast in the restaurant of a seaside hotel. The young woman who waits on him, Alma (Vickey Krieps), has a melting warm smile, come-hither eyes locked in a glow of adoration, and a mild accent. (It\\u2019s never specified where she\\u2019s from, but the 34-year-old actress Vicky Krieps hails from Luxembourg.) As soon as she takes his order for Welsh rarebit with a poached egg on top, a pot of lapsang tea, jam (not strawberry!), and an order of sausages, she can tell that this is a man whose appetite for life matches her own.\\r\\n\\r\\nDaniel Day-Lewis has spent enough time behind the fa\\xe7ade of concocted voices and elaborate hair that it\\u2019s always a bit of an ironic shock to see him head back into the skin of his own look and personality. In the early scenes of \"Phantom Thread,\" he\\u2019s urbane and inviting and demurely British, with his black-and-gray hair swept back; he\\'s so gentlemanly in his flirtation that he reminds you of someone like George Martin. After having dinner with Alma, Reynolds drives her over to his country studio, where she models for him, and he makes her a dress. It\\u2019s love at first stitch.\\r\\n\\r\\nBut, of course, we\\'re all too aware that something ominous has to be lurking in the shadows. There wouldn\\u2019t be a movie otherwise, and the plangent pull of Jonny Greenwood\\u2019s musical score, rapturous with longing and anxiety, summons an unmistakable \\'50s-Hitchcock vibe. So does Anderson\\u2019s meticulous filmmaking. Reynolds is presented as a feverish artisan of fashion, sketching and sewing his way to a vision of the feminine ideal. He courts Alma by using her as a human mannequin, and it\\u2019s therefore hard not to get intimations of a movie like \"Vertigo,\" or maybe a super-kinky \"Pygmalion.\" Will \"Phantom Thread\" turn out to be the story of a man who falls for his fetishistic design of a woman?\\r\\n\\r\\nThe film\\u2019s dilemma, as it happens, isn\\u2019t nearly that spectacularly perverse. Reynolds comes under Alma\\u2019s spell, and since he\\u2019s a severely handsome and well-known designer, and she\\u2019s an expatriate nobody waiting tables in a country hotel, it doesn\\u2019t take higher math to see where this power imbalance is heading. Alma returns to London with Reynolds and becomes his new model and muse. He moves her into the bedroom upstairs \\u2014 right next to his, as if conferring some great privilege, though it already sounds like he\\u2019s talking about a birdcage.\\r\\n\\r\\nDo they sleep together? The movie doesn\\'t show that kind of thing (the oblique implication is yes), but their problems start at breakfast, where Alma butters her toast, and pours her tea, in a disarmingly noisy manner, which skews Reynolds\\u2019 train of thought. A little later, she makes the mistake of challenging one of his choices of fabrics, which leads to a back-and-forth verbal volley worthy of a screwball comedy, only Reynolds doesn\\u2019t want feisty rejoinders \\u2014 he wants to be obeyed. (Just when the exchange is starting to sizzle, he shouts, \"Enough!\") Did I mention that Reynolds\\u2019 sister, Cyril (Lesley Manville), is sitting there during every one of these encounters? She\\u2019s his business partner, and also, apparently, his eternal companion (along with the ghost of his dead mother). Reynolds and Cyril are close in a way that suggests something warm, loyal, and a little unseemly. She\\u2019s like the housekeeper in Hitchcock\\u2019s \"Rebecca,\" creepy and a touch macabre, always hovering, except that the great Lesley Manville, her eyes like black lasers, her hair piled into a short stacked \\u2018do, plays her like the Judi Dench version of a John Waters character: a badass in dowager\\u2019s clothing.\\r\\n\\r\\nAnderson, who didn\\'t just write and direct \"Phantom Thread\" but shot it himself (uncredited), stages the movie as a lavishly suspenseful piece of wealth porn. His camera travels up and down the stairways of the townhouse, and he lingers on Reynolds\\u2019 work as a designer, swathing us in the physicality of the fabrics \\u2014 the 16th-century Flemish lace out of which he makes Alma a gorgeous lavender dress, or a stunning royal silky number with pink diamonds on the breast. Anderson, in making the film, drew on the careers of several British designers of the period (like Charles James), and the essential exotic element for the audience is that this is the pre-couture world, where fashion, at least in Britain, had yet to enter its postmodern dream phase. That was just starting in France, and Reynolds, at one point, spits out the word \"chic\" as if it were a vile obscenity.\\r\\n\\r\\nFor all the attention it lavishes on Reynolds\\u2019 designs, and on the daily swirl of his existence, where he\\'s surrounded by a flurry of seamstresses, \"Phantom Thread\" isn\\'t, at heart, a tale of artistic passion. It\\u2019s a parable of toxic masculinity. Reynolds\\u2019 last name, Woodcock, can sound like it was invented to reduce Beavis and Butt-Head to a state of grunting hysterics \\u2014 but, in fact, the meaning of the name is exactly that. Day-Lewis\\u2019s Woodcock is a stiff, a hard virile puppet of a man \\u2014 a selfish vessel of male desire. He has invited Alma to fall in love with him, and she does, but all that means to Reynolds is that he wants to go on with his life as is (the work, the parties, the routine), with Alma as the girl utensil he takes down from the shelf whenever he feels like it. The movie is constructed as a kind of suspenseful showdown: Will Reynolds the elegant tyrant of fake romance, with his Woodcock coldness, break her down? Or will she turn the tables?\\r\\n\\r\\n\"Phantom Thread\" is seductive and absorbing, but it\\u2019s also emotionally remote. The film is framed as a love story, but it never swoons, and it\\'s enough to make you wonder: Why does Anderson, whose work back in the late \\'90s (the transcendent \"Boogie Nights,\" the enraptured \"Magnolia\") pulsated with off-kilter humanity, now make dramas that are essentially didactic studies of fantastically cold brutes? He remains a filmmaking wizard, and \"Phantom Thread\" sweeps you up and carries you along, much more, to my mind, than \"The Master\" did. Yet it\\u2019s a thesis movie: the story of a bullying narcissist who lacks the ability to have a relationship, and the outrageous way he\\'s schooled into becoming a human being. It\\u2019s the story of a control freak made by a control freak.\\r\\n\\r\\nDid all of this start with \"Raging Bull\"? In \"Phantom Thread,\" Daniel Day-Lewis, who has declared that this will be his last screen performance, seems to be relishing the chance to play another flamboyant emotional fascist, and the movie asks the audience to chortle along, notably in the sequence where Alma tries to assert her place in the scheme of things by making an intimate dinner for herself and Reynolds. She has to shoo everyone out of the townhouse as if she were clearing Buckingham Palace, and when Reynolds walks in, he acts like he\\u2019s been ambushed. Will he eat his asparagus with butter the way she\\u2019s prepared it? Why should he? He likes them with oil and salt!\\r\\n\\r\\nThe sequence plays like the \"Masterpiece Theatre\" version of \"There Will Be Blood,\" with Krieps, as Alma, asserting her radiant devotion in the face of Reynolds\\u2019 stone-cold rejection. It\\u2019s at that moment that she decides to go to extremes \\u2014 a twist out of a thriller that\\u2019s also a dark joke. It certainly plays (at least the first time), but it\\u2019s hard to shake the feeling that Day-Lewis, along with Anderson, has confused misanthropy with art. The actor plays Reynolds with a winning puckish gleam that turns sinister, but I can\\u2019t say that he goes out with a great performance.\\r\\n\\r\\n\"Phantom Thread\" comes on, for a good long stretch, like Anderson\\u2019s sprawling version of \"Rebecca\" or \"Suspicion\": a romantic suspense thriller coursing with dread. I wish it had stayed on that track, but Anderson isn\\u2019t content to make a black-hearted retro genre film. He\\u2019s too ambitious, and once Alma exacts her revenge, the movie does something a little bizarre: It goes back to square one, so that Reynolds, even after proposing to Alma, turns out to be the same old dick he always was. The film, in what should have been its culminating passages, loses steams and grows repetitive, building toward the scene in which Reynolds eats an omelette, colluding \\u2014 knowingly \\u2014 in his own punishment and reform. It\\u2019s supposed to be the film\\u2019s capstone of perversity: toxic masculinity toxifying itself. But it just made me wish that Paul Thomas Anderson would stop making movies about people who are so stunted that he can\\u2019t help adoring them for it.',\n",
       "  'thumbsup': 'Positive'},\n",
       " u'Jumanji: Welcome to the Jungle': {'blurb': [u'Will \"Phantom Thread\" turn out to be the story of a man who falls for his fetishistic design of a woman?',\n",
       "   u'After having dinner with Alma, Reynolds drives her over to his country studio, where she models for him, and he makes her a dress.',\n",
       "   u'\"Phantom Thread\" comes on, for a good long stretch, like Anderson\\u2019s sprawling version of \"Rebecca\" or \"Suspicion\": a romantic suspense thriller coursing with dread.',\n",
       "   u'He remains a filmmaking wizard, and \"Phantom Thread\" sweeps you up and carries you along, much more, to my mind, than \"The Master\" did.',\n",
       "   u'Will he eat his asparagus with butter the way she\\u2019s prepared it?'],\n",
       "  'critic': u'Owen Gleiberman',\n",
       "  'link': u'http://variety.com/2017/film/reviews/a-thought-of-ecstasy-review-1202627473/',\n",
       "  'movie': u'Jumanji: Welcome to the Jungle',\n",
       "  'review_polarity': 0.12364497051504925,\n",
       "  'review_subjectivity': 0.5116930838190682,\n",
       "  'text': u'Reynolds Woodcock (Daniel Day-Lewis), the svelte and smoldering middle-aged British fashion designer at the heart of Paul Thomas Anderson\\u2019s \"Phantom Thread,\" is a man who seems to have everything he wants. He lives in a splendid five-story London townhouse with walls the color of cream, and he works there too, starting early, sitting with his tea and pastries as he does the day\\u2019s sketches, already possessed by his reverent labor. He\\u2019s a dressmaker who works with the fervor of an artist \\u2014 dreaming, obsessing, perfecting. At night he sips martinis at parties and restaurants, rubbing shoulders with the countesses and wealthy London ladies who are his clients, and he\\u2019s also a devoted serial womanizer who falls for \\u2014 and discards \\u2014 one comely model muse after another. (As the film opens, his current flame is flickering out.) \"Phantom Thread\" is set in 1955, but Reynolds, in his posh and pampered upper-crust way, has the air of a highly contempo bachelor hedonist. The world is his oyster, and it\\u2019s also his man-cave.\\r\\n\\r\\nOne weekend, he drives his sporty maroon roadster \\u2014 at top speed, of course \\u2014\\xa0out to his country getaway, arriving at dawn and ordering breakfast in the restaurant of a seaside hotel. The young woman who waits on him, Alma (Vickey Krieps), has a melting warm smile, come-hither eyes locked in a glow of adoration, and a mild accent. (It\\u2019s never specified where she\\u2019s from, but the 34-year-old actress Vicky Krieps hails from Luxembourg.) As soon as she takes his order for Welsh rarebit with a poached egg on top, a pot of lapsang tea, jam (not strawberry!), and an order of sausages, she can tell that this is a man whose appetite for life matches her own.\\r\\n\\r\\nDaniel Day-Lewis has spent enough time behind the fa\\xe7ade of concocted voices and elaborate hair that it\\u2019s always a bit of an ironic shock to see him head back into the skin of his own look and personality. In the early scenes of \"Phantom Thread,\" he\\u2019s urbane and inviting and demurely British, with his black-and-gray hair swept back; he\\'s so gentlemanly in his flirtation that he reminds you of someone like George Martin. After having dinner with Alma, Reynolds drives her over to his country studio, where she models for him, and he makes her a dress. It\\u2019s love at first stitch.\\r\\n\\r\\nBut, of course, we\\'re all too aware that something ominous has to be lurking in the shadows. There wouldn\\u2019t be a movie otherwise, and the plangent pull of Jonny Greenwood\\u2019s musical score, rapturous with longing and anxiety, summons an unmistakable \\'50s-Hitchcock vibe. So does Anderson\\u2019s meticulous filmmaking. Reynolds is presented as a feverish artisan of fashion, sketching and sewing his way to a vision of the feminine ideal. He courts Alma by using her as a human mannequin, and it\\u2019s therefore hard not to get intimations of a movie like \"Vertigo,\" or maybe a super-kinky \"Pygmalion.\" Will \"Phantom Thread\" turn out to be the story of a man who falls for his fetishistic design of a woman?\\r\\n\\r\\nThe film\\u2019s dilemma, as it happens, isn\\u2019t nearly that spectacularly perverse. Reynolds comes under Alma\\u2019s spell, and since he\\u2019s a severely handsome and well-known designer, and she\\u2019s an expatriate nobody waiting tables in a country hotel, it doesn\\u2019t take higher math to see where this power imbalance is heading. Alma returns to London with Reynolds and becomes his new model and muse. He moves her into the bedroom upstairs \\u2014 right next to his, as if conferring some great privilege, though it already sounds like he\\u2019s talking about a birdcage.\\r\\n\\r\\nDo they sleep together? The movie doesn\\'t show that kind of thing (the oblique implication is yes), but their problems start at breakfast, where Alma butters her toast, and pours her tea, in a disarmingly noisy manner, which skews Reynolds\\u2019 train of thought. A little later, she makes the mistake of challenging one of his choices of fabrics, which leads to a back-and-forth verbal volley worthy of a screwball comedy, only Reynolds doesn\\u2019t want feisty rejoinders \\u2014 he wants to be obeyed. (Just when the exchange is starting to sizzle, he shouts, \"Enough!\") Did I mention that Reynolds\\u2019 sister, Cyril (Lesley Manville), is sitting there during every one of these encounters? She\\u2019s his business partner, and also, apparently, his eternal companion (along with the ghost of his dead mother). Reynolds and Cyril are close in a way that suggests something warm, loyal, and a little unseemly. She\\u2019s like the housekeeper in Hitchcock\\u2019s \"Rebecca,\" creepy and a touch macabre, always hovering, except that the great Lesley Manville, her eyes like black lasers, her hair piled into a short stacked \\u2018do, plays her like the Judi Dench version of a John Waters character: a badass in dowager\\u2019s clothing.\\r\\n\\r\\nAnderson, who didn\\'t just write and direct \"Phantom Thread\" but shot it himself (uncredited), stages the movie as a lavishly suspenseful piece of wealth porn. His camera travels up and down the stairways of the townhouse, and he lingers on Reynolds\\u2019 work as a designer, swathing us in the physicality of the fabrics \\u2014 the 16th-century Flemish lace out of which he makes Alma a gorgeous lavender dress, or a stunning royal silky number with pink diamonds on the breast. Anderson, in making the film, drew on the careers of several British designers of the period (like Charles James), and the essential exotic element for the audience is that this is the pre-couture world, where fashion, at least in Britain, had yet to enter its postmodern dream phase. That was just starting in France, and Reynolds, at one point, spits out the word \"chic\" as if it were a vile obscenity.\\r\\n\\r\\nFor all the attention it lavishes on Reynolds\\u2019 designs, and on the daily swirl of his existence, where he\\'s surrounded by a flurry of seamstresses, \"Phantom Thread\" isn\\'t, at heart, a tale of artistic passion. It\\u2019s a parable of toxic masculinity. Reynolds\\u2019 last name, Woodcock, can sound like it was invented to reduce Beavis and Butt-Head to a state of grunting hysterics \\u2014 but, in fact, the meaning of the name is exactly that. Day-Lewis\\u2019s Woodcock is a stiff, a hard virile puppet of a man \\u2014 a selfish vessel of male desire. He has invited Alma to fall in love with him, and she does, but all that means to Reynolds is that he wants to go on with his life as is (the work, the parties, the routine), with Alma as the girl utensil he takes down from the shelf whenever he feels like it. The movie is constructed as a kind of suspenseful showdown: Will Reynolds the elegant tyrant of fake romance, with his Woodcock coldness, break her down? Or will she turn the tables?\\r\\n\\r\\n\"Phantom Thread\" is seductive and absorbing, but it\\u2019s also emotionally remote. The film is framed as a love story, but it never swoons, and it\\'s enough to make you wonder: Why does Anderson, whose work back in the late \\'90s (the transcendent \"Boogie Nights,\" the enraptured \"Magnolia\") pulsated with off-kilter humanity, now make dramas that are essentially didactic studies of fantastically cold brutes? He remains a filmmaking wizard, and \"Phantom Thread\" sweeps you up and carries you along, much more, to my mind, than \"The Master\" did. Yet it\\u2019s a thesis movie: the story of a bullying narcissist who lacks the ability to have a relationship, and the outrageous way he\\'s schooled into becoming a human being. It\\u2019s the story of a control freak made by a control freak.\\r\\n\\r\\nDid all of this start with \"Raging Bull\"? In \"Phantom Thread,\" Daniel Day-Lewis, who has declared that this will be his last screen performance, seems to be relishing the chance to play another flamboyant emotional fascist, and the movie asks the audience to chortle along, notably in the sequence where Alma tries to assert her place in the scheme of things by making an intimate dinner for herself and Reynolds. She has to shoo everyone out of the townhouse as if she were clearing Buckingham Palace, and when Reynolds walks in, he acts like he\\u2019s been ambushed. Will he eat his asparagus with butter the way she\\u2019s prepared it? Why should he? He likes them with oil and salt!\\r\\n\\r\\nThe sequence plays like the \"Masterpiece Theatre\" version of \"There Will Be Blood,\" with Krieps, as Alma, asserting her radiant devotion in the face of Reynolds\\u2019 stone-cold rejection. It\\u2019s at that moment that she decides to go to extremes \\u2014 a twist out of a thriller that\\u2019s also a dark joke. It certainly plays (at least the first time), but it\\u2019s hard to shake the feeling that Day-Lewis, along with Anderson, has confused misanthropy with art. The actor plays Reynolds with a winning puckish gleam that turns sinister, but I can\\u2019t say that he goes out with a great performance.\\r\\n\\r\\n\"Phantom Thread\" comes on, for a good long stretch, like Anderson\\u2019s sprawling version of \"Rebecca\" or \"Suspicion\": a romantic suspense thriller coursing with dread. I wish it had stayed on that track, but Anderson isn\\u2019t content to make a black-hearted retro genre film. He\\u2019s too ambitious, and once Alma exacts her revenge, the movie does something a little bizarre: It goes back to square one, so that Reynolds, even after proposing to Alma, turns out to be the same old dick he always was. The film, in what should have been its culminating passages, loses steams and grows repetitive, building toward the scene in which Reynolds eats an omelette, colluding \\u2014 knowingly \\u2014 in his own punishment and reform. It\\u2019s supposed to be the film\\u2019s capstone of perversity: toxic masculinity toxifying itself. But it just made me wish that Paul Thomas Anderson would stop making movies about people who are so stunted that he can\\u2019t help adoring them for it.',\n",
       "  'thumbsup': 'Positive'},\n",
       " u'Just Getting Started': {'blurb': [u'Will \"Phantom Thread\" turn out to be the story of a man who falls for his fetishistic design of a woman?',\n",
       "   u'After having dinner with Alma, Reynolds drives her over to his country studio, where she models for him, and he makes her a dress.',\n",
       "   u'\"Phantom Thread\" comes on, for a good long stretch, like Anderson\\u2019s sprawling version of \"Rebecca\" or \"Suspicion\": a romantic suspense thriller coursing with dread.',\n",
       "   u'He remains a filmmaking wizard, and \"Phantom Thread\" sweeps you up and carries you along, much more, to my mind, than \"The Master\" did.',\n",
       "   u'Will he eat his asparagus with butter the way she\\u2019s prepared it?'],\n",
       "  'critic': u'Joe Leydon',\n",
       "  'link': u'http://variety.com/2017/film/reviews/a-thought-of-ecstasy-review-1202627473/',\n",
       "  'movie': u'Just Getting Started',\n",
       "  'review_polarity': 0.12364497051504925,\n",
       "  'review_subjectivity': 0.5116930838190682,\n",
       "  'text': u'Reynolds Woodcock (Daniel Day-Lewis), the svelte and smoldering middle-aged British fashion designer at the heart of Paul Thomas Anderson\\u2019s \"Phantom Thread,\" is a man who seems to have everything he wants. He lives in a splendid five-story London townhouse with walls the color of cream, and he works there too, starting early, sitting with his tea and pastries as he does the day\\u2019s sketches, already possessed by his reverent labor. He\\u2019s a dressmaker who works with the fervor of an artist \\u2014 dreaming, obsessing, perfecting. At night he sips martinis at parties and restaurants, rubbing shoulders with the countesses and wealthy London ladies who are his clients, and he\\u2019s also a devoted serial womanizer who falls for \\u2014 and discards \\u2014 one comely model muse after another. (As the film opens, his current flame is flickering out.) \"Phantom Thread\" is set in 1955, but Reynolds, in his posh and pampered upper-crust way, has the air of a highly contempo bachelor hedonist. The world is his oyster, and it\\u2019s also his man-cave.\\r\\n\\r\\nOne weekend, he drives his sporty maroon roadster \\u2014 at top speed, of course \\u2014\\xa0out to his country getaway, arriving at dawn and ordering breakfast in the restaurant of a seaside hotel. The young woman who waits on him, Alma (Vickey Krieps), has a melting warm smile, come-hither eyes locked in a glow of adoration, and a mild accent. (It\\u2019s never specified where she\\u2019s from, but the 34-year-old actress Vicky Krieps hails from Luxembourg.) As soon as she takes his order for Welsh rarebit with a poached egg on top, a pot of lapsang tea, jam (not strawberry!), and an order of sausages, she can tell that this is a man whose appetite for life matches her own.\\r\\n\\r\\nDaniel Day-Lewis has spent enough time behind the fa\\xe7ade of concocted voices and elaborate hair that it\\u2019s always a bit of an ironic shock to see him head back into the skin of his own look and personality. In the early scenes of \"Phantom Thread,\" he\\u2019s urbane and inviting and demurely British, with his black-and-gray hair swept back; he\\'s so gentlemanly in his flirtation that he reminds you of someone like George Martin. After having dinner with Alma, Reynolds drives her over to his country studio, where she models for him, and he makes her a dress. It\\u2019s love at first stitch.\\r\\n\\r\\nBut, of course, we\\'re all too aware that something ominous has to be lurking in the shadows. There wouldn\\u2019t be a movie otherwise, and the plangent pull of Jonny Greenwood\\u2019s musical score, rapturous with longing and anxiety, summons an unmistakable \\'50s-Hitchcock vibe. So does Anderson\\u2019s meticulous filmmaking. Reynolds is presented as a feverish artisan of fashion, sketching and sewing his way to a vision of the feminine ideal. He courts Alma by using her as a human mannequin, and it\\u2019s therefore hard not to get intimations of a movie like \"Vertigo,\" or maybe a super-kinky \"Pygmalion.\" Will \"Phantom Thread\" turn out to be the story of a man who falls for his fetishistic design of a woman?\\r\\n\\r\\nThe film\\u2019s dilemma, as it happens, isn\\u2019t nearly that spectacularly perverse. Reynolds comes under Alma\\u2019s spell, and since he\\u2019s a severely handsome and well-known designer, and she\\u2019s an expatriate nobody waiting tables in a country hotel, it doesn\\u2019t take higher math to see where this power imbalance is heading. Alma returns to London with Reynolds and becomes his new model and muse. He moves her into the bedroom upstairs \\u2014 right next to his, as if conferring some great privilege, though it already sounds like he\\u2019s talking about a birdcage.\\r\\n\\r\\nDo they sleep together? The movie doesn\\'t show that kind of thing (the oblique implication is yes), but their problems start at breakfast, where Alma butters her toast, and pours her tea, in a disarmingly noisy manner, which skews Reynolds\\u2019 train of thought. A little later, she makes the mistake of challenging one of his choices of fabrics, which leads to a back-and-forth verbal volley worthy of a screwball comedy, only Reynolds doesn\\u2019t want feisty rejoinders \\u2014 he wants to be obeyed. (Just when the exchange is starting to sizzle, he shouts, \"Enough!\") Did I mention that Reynolds\\u2019 sister, Cyril (Lesley Manville), is sitting there during every one of these encounters? She\\u2019s his business partner, and also, apparently, his eternal companion (along with the ghost of his dead mother). Reynolds and Cyril are close in a way that suggests something warm, loyal, and a little unseemly. She\\u2019s like the housekeeper in Hitchcock\\u2019s \"Rebecca,\" creepy and a touch macabre, always hovering, except that the great Lesley Manville, her eyes like black lasers, her hair piled into a short stacked \\u2018do, plays her like the Judi Dench version of a John Waters character: a badass in dowager\\u2019s clothing.\\r\\n\\r\\nAnderson, who didn\\'t just write and direct \"Phantom Thread\" but shot it himself (uncredited), stages the movie as a lavishly suspenseful piece of wealth porn. His camera travels up and down the stairways of the townhouse, and he lingers on Reynolds\\u2019 work as a designer, swathing us in the physicality of the fabrics \\u2014 the 16th-century Flemish lace out of which he makes Alma a gorgeous lavender dress, or a stunning royal silky number with pink diamonds on the breast. Anderson, in making the film, drew on the careers of several British designers of the period (like Charles James), and the essential exotic element for the audience is that this is the pre-couture world, where fashion, at least in Britain, had yet to enter its postmodern dream phase. That was just starting in France, and Reynolds, at one point, spits out the word \"chic\" as if it were a vile obscenity.\\r\\n\\r\\nFor all the attention it lavishes on Reynolds\\u2019 designs, and on the daily swirl of his existence, where he\\'s surrounded by a flurry of seamstresses, \"Phantom Thread\" isn\\'t, at heart, a tale of artistic passion. It\\u2019s a parable of toxic masculinity. Reynolds\\u2019 last name, Woodcock, can sound like it was invented to reduce Beavis and Butt-Head to a state of grunting hysterics \\u2014 but, in fact, the meaning of the name is exactly that. Day-Lewis\\u2019s Woodcock is a stiff, a hard virile puppet of a man \\u2014 a selfish vessel of male desire. He has invited Alma to fall in love with him, and she does, but all that means to Reynolds is that he wants to go on with his life as is (the work, the parties, the routine), with Alma as the girl utensil he takes down from the shelf whenever he feels like it. The movie is constructed as a kind of suspenseful showdown: Will Reynolds the elegant tyrant of fake romance, with his Woodcock coldness, break her down? Or will she turn the tables?\\r\\n\\r\\n\"Phantom Thread\" is seductive and absorbing, but it\\u2019s also emotionally remote. The film is framed as a love story, but it never swoons, and it\\'s enough to make you wonder: Why does Anderson, whose work back in the late \\'90s (the transcendent \"Boogie Nights,\" the enraptured \"Magnolia\") pulsated with off-kilter humanity, now make dramas that are essentially didactic studies of fantastically cold brutes? He remains a filmmaking wizard, and \"Phantom Thread\" sweeps you up and carries you along, much more, to my mind, than \"The Master\" did. Yet it\\u2019s a thesis movie: the story of a bullying narcissist who lacks the ability to have a relationship, and the outrageous way he\\'s schooled into becoming a human being. It\\u2019s the story of a control freak made by a control freak.\\r\\n\\r\\nDid all of this start with \"Raging Bull\"? In \"Phantom Thread,\" Daniel Day-Lewis, who has declared that this will be his last screen performance, seems to be relishing the chance to play another flamboyant emotional fascist, and the movie asks the audience to chortle along, notably in the sequence where Alma tries to assert her place in the scheme of things by making an intimate dinner for herself and Reynolds. She has to shoo everyone out of the townhouse as if she were clearing Buckingham Palace, and when Reynolds walks in, he acts like he\\u2019s been ambushed. Will he eat his asparagus with butter the way she\\u2019s prepared it? Why should he? He likes them with oil and salt!\\r\\n\\r\\nThe sequence plays like the \"Masterpiece Theatre\" version of \"There Will Be Blood,\" with Krieps, as Alma, asserting her radiant devotion in the face of Reynolds\\u2019 stone-cold rejection. It\\u2019s at that moment that she decides to go to extremes \\u2014 a twist out of a thriller that\\u2019s also a dark joke. It certainly plays (at least the first time), but it\\u2019s hard to shake the feeling that Day-Lewis, along with Anderson, has confused misanthropy with art. The actor plays Reynolds with a winning puckish gleam that turns sinister, but I can\\u2019t say that he goes out with a great performance.\\r\\n\\r\\n\"Phantom Thread\" comes on, for a good long stretch, like Anderson\\u2019s sprawling version of \"Rebecca\" or \"Suspicion\": a romantic suspense thriller coursing with dread. I wish it had stayed on that track, but Anderson isn\\u2019t content to make a black-hearted retro genre film. He\\u2019s too ambitious, and once Alma exacts her revenge, the movie does something a little bizarre: It goes back to square one, so that Reynolds, even after proposing to Alma, turns out to be the same old dick he always was. The film, in what should have been its culminating passages, loses steams and grows repetitive, building toward the scene in which Reynolds eats an omelette, colluding \\u2014 knowingly \\u2014 in his own punishment and reform. It\\u2019s supposed to be the film\\u2019s capstone of perversity: toxic masculinity toxifying itself. But it just made me wish that Paul Thomas Anderson would stop making movies about people who are so stunted that he can\\u2019t help adoring them for it.',\n",
       "  'thumbsup': 'Positive'},\n",
       " u'November Criminals': {'blurb': [u'Will \"Phantom Thread\" turn out to be the story of a man who falls for his fetishistic design of a woman?',\n",
       "   u'After having dinner with Alma, Reynolds drives her over to his country studio, where she models for him, and he makes her a dress.',\n",
       "   u'\"Phantom Thread\" comes on, for a good long stretch, like Anderson\\u2019s sprawling version of \"Rebecca\" or \"Suspicion\": a romantic suspense thriller coursing with dread.',\n",
       "   u'He remains a filmmaking wizard, and \"Phantom Thread\" sweeps you up and carries you along, much more, to my mind, than \"The Master\" did.',\n",
       "   u'Will he eat his asparagus with butter the way she\\u2019s prepared it?'],\n",
       "  'critic': u'Owen Gleiberman',\n",
       "  'link': u'http://variety.com/2017/film/reviews/a-thought-of-ecstasy-review-1202627473/',\n",
       "  'movie': u'November Criminals',\n",
       "  'review_polarity': 0.12364497051504925,\n",
       "  'review_subjectivity': 0.5116930838190682,\n",
       "  'text': u'Reynolds Woodcock (Daniel Day-Lewis), the svelte and smoldering middle-aged British fashion designer at the heart of Paul Thomas Anderson\\u2019s \"Phantom Thread,\" is a man who seems to have everything he wants. He lives in a splendid five-story London townhouse with walls the color of cream, and he works there too, starting early, sitting with his tea and pastries as he does the day\\u2019s sketches, already possessed by his reverent labor. He\\u2019s a dressmaker who works with the fervor of an artist \\u2014 dreaming, obsessing, perfecting. At night he sips martinis at parties and restaurants, rubbing shoulders with the countesses and wealthy London ladies who are his clients, and he\\u2019s also a devoted serial womanizer who falls for \\u2014 and discards \\u2014 one comely model muse after another. (As the film opens, his current flame is flickering out.) \"Phantom Thread\" is set in 1955, but Reynolds, in his posh and pampered upper-crust way, has the air of a highly contempo bachelor hedonist. The world is his oyster, and it\\u2019s also his man-cave.\\r\\n\\r\\nOne weekend, he drives his sporty maroon roadster \\u2014 at top speed, of course \\u2014\\xa0out to his country getaway, arriving at dawn and ordering breakfast in the restaurant of a seaside hotel. The young woman who waits on him, Alma (Vickey Krieps), has a melting warm smile, come-hither eyes locked in a glow of adoration, and a mild accent. (It\\u2019s never specified where she\\u2019s from, but the 34-year-old actress Vicky Krieps hails from Luxembourg.) As soon as she takes his order for Welsh rarebit with a poached egg on top, a pot of lapsang tea, jam (not strawberry!), and an order of sausages, she can tell that this is a man whose appetite for life matches her own.\\r\\n\\r\\nDaniel Day-Lewis has spent enough time behind the fa\\xe7ade of concocted voices and elaborate hair that it\\u2019s always a bit of an ironic shock to see him head back into the skin of his own look and personality. In the early scenes of \"Phantom Thread,\" he\\u2019s urbane and inviting and demurely British, with his black-and-gray hair swept back; he\\'s so gentlemanly in his flirtation that he reminds you of someone like George Martin. After having dinner with Alma, Reynolds drives her over to his country studio, where she models for him, and he makes her a dress. It\\u2019s love at first stitch.\\r\\n\\r\\nBut, of course, we\\'re all too aware that something ominous has to be lurking in the shadows. There wouldn\\u2019t be a movie otherwise, and the plangent pull of Jonny Greenwood\\u2019s musical score, rapturous with longing and anxiety, summons an unmistakable \\'50s-Hitchcock vibe. So does Anderson\\u2019s meticulous filmmaking. Reynolds is presented as a feverish artisan of fashion, sketching and sewing his way to a vision of the feminine ideal. He courts Alma by using her as a human mannequin, and it\\u2019s therefore hard not to get intimations of a movie like \"Vertigo,\" or maybe a super-kinky \"Pygmalion.\" Will \"Phantom Thread\" turn out to be the story of a man who falls for his fetishistic design of a woman?\\r\\n\\r\\nThe film\\u2019s dilemma, as it happens, isn\\u2019t nearly that spectacularly perverse. Reynolds comes under Alma\\u2019s spell, and since he\\u2019s a severely handsome and well-known designer, and she\\u2019s an expatriate nobody waiting tables in a country hotel, it doesn\\u2019t take higher math to see where this power imbalance is heading. Alma returns to London with Reynolds and becomes his new model and muse. He moves her into the bedroom upstairs \\u2014 right next to his, as if conferring some great privilege, though it already sounds like he\\u2019s talking about a birdcage.\\r\\n\\r\\nDo they sleep together? The movie doesn\\'t show that kind of thing (the oblique implication is yes), but their problems start at breakfast, where Alma butters her toast, and pours her tea, in a disarmingly noisy manner, which skews Reynolds\\u2019 train of thought. A little later, she makes the mistake of challenging one of his choices of fabrics, which leads to a back-and-forth verbal volley worthy of a screwball comedy, only Reynolds doesn\\u2019t want feisty rejoinders \\u2014 he wants to be obeyed. (Just when the exchange is starting to sizzle, he shouts, \"Enough!\") Did I mention that Reynolds\\u2019 sister, Cyril (Lesley Manville), is sitting there during every one of these encounters? She\\u2019s his business partner, and also, apparently, his eternal companion (along with the ghost of his dead mother). Reynolds and Cyril are close in a way that suggests something warm, loyal, and a little unseemly. She\\u2019s like the housekeeper in Hitchcock\\u2019s \"Rebecca,\" creepy and a touch macabre, always hovering, except that the great Lesley Manville, her eyes like black lasers, her hair piled into a short stacked \\u2018do, plays her like the Judi Dench version of a John Waters character: a badass in dowager\\u2019s clothing.\\r\\n\\r\\nAnderson, who didn\\'t just write and direct \"Phantom Thread\" but shot it himself (uncredited), stages the movie as a lavishly suspenseful piece of wealth porn. His camera travels up and down the stairways of the townhouse, and he lingers on Reynolds\\u2019 work as a designer, swathing us in the physicality of the fabrics \\u2014 the 16th-century Flemish lace out of which he makes Alma a gorgeous lavender dress, or a stunning royal silky number with pink diamonds on the breast. Anderson, in making the film, drew on the careers of several British designers of the period (like Charles James), and the essential exotic element for the audience is that this is the pre-couture world, where fashion, at least in Britain, had yet to enter its postmodern dream phase. That was just starting in France, and Reynolds, at one point, spits out the word \"chic\" as if it were a vile obscenity.\\r\\n\\r\\nFor all the attention it lavishes on Reynolds\\u2019 designs, and on the daily swirl of his existence, where he\\'s surrounded by a flurry of seamstresses, \"Phantom Thread\" isn\\'t, at heart, a tale of artistic passion. It\\u2019s a parable of toxic masculinity. Reynolds\\u2019 last name, Woodcock, can sound like it was invented to reduce Beavis and Butt-Head to a state of grunting hysterics \\u2014 but, in fact, the meaning of the name is exactly that. Day-Lewis\\u2019s Woodcock is a stiff, a hard virile puppet of a man \\u2014 a selfish vessel of male desire. He has invited Alma to fall in love with him, and she does, but all that means to Reynolds is that he wants to go on with his life as is (the work, the parties, the routine), with Alma as the girl utensil he takes down from the shelf whenever he feels like it. The movie is constructed as a kind of suspenseful showdown: Will Reynolds the elegant tyrant of fake romance, with his Woodcock coldness, break her down? Or will she turn the tables?\\r\\n\\r\\n\"Phantom Thread\" is seductive and absorbing, but it\\u2019s also emotionally remote. The film is framed as a love story, but it never swoons, and it\\'s enough to make you wonder: Why does Anderson, whose work back in the late \\'90s (the transcendent \"Boogie Nights,\" the enraptured \"Magnolia\") pulsated with off-kilter humanity, now make dramas that are essentially didactic studies of fantastically cold brutes? He remains a filmmaking wizard, and \"Phantom Thread\" sweeps you up and carries you along, much more, to my mind, than \"The Master\" did. Yet it\\u2019s a thesis movie: the story of a bullying narcissist who lacks the ability to have a relationship, and the outrageous way he\\'s schooled into becoming a human being. It\\u2019s the story of a control freak made by a control freak.\\r\\n\\r\\nDid all of this start with \"Raging Bull\"? In \"Phantom Thread,\" Daniel Day-Lewis, who has declared that this will be his last screen performance, seems to be relishing the chance to play another flamboyant emotional fascist, and the movie asks the audience to chortle along, notably in the sequence where Alma tries to assert her place in the scheme of things by making an intimate dinner for herself and Reynolds. She has to shoo everyone out of the townhouse as if she were clearing Buckingham Palace, and when Reynolds walks in, he acts like he\\u2019s been ambushed. Will he eat his asparagus with butter the way she\\u2019s prepared it? Why should he? He likes them with oil and salt!\\r\\n\\r\\nThe sequence plays like the \"Masterpiece Theatre\" version of \"There Will Be Blood,\" with Krieps, as Alma, asserting her radiant devotion in the face of Reynolds\\u2019 stone-cold rejection. It\\u2019s at that moment that she decides to go to extremes \\u2014 a twist out of a thriller that\\u2019s also a dark joke. It certainly plays (at least the first time), but it\\u2019s hard to shake the feeling that Day-Lewis, along with Anderson, has confused misanthropy with art. The actor plays Reynolds with a winning puckish gleam that turns sinister, but I can\\u2019t say that he goes out with a great performance.\\r\\n\\r\\n\"Phantom Thread\" comes on, for a good long stretch, like Anderson\\u2019s sprawling version of \"Rebecca\" or \"Suspicion\": a romantic suspense thriller coursing with dread. I wish it had stayed on that track, but Anderson isn\\u2019t content to make a black-hearted retro genre film. He\\u2019s too ambitious, and once Alma exacts her revenge, the movie does something a little bizarre: It goes back to square one, so that Reynolds, even after proposing to Alma, turns out to be the same old dick he always was. The film, in what should have been its culminating passages, loses steams and grows repetitive, building toward the scene in which Reynolds eats an omelette, colluding \\u2014 knowingly \\u2014 in his own punishment and reform. It\\u2019s supposed to be the film\\u2019s capstone of perversity: toxic masculinity toxifying itself. But it just made me wish that Paul Thomas Anderson would stop making movies about people who are so stunted that he can\\u2019t help adoring them for it.',\n",
       "  'thumbsup': 'Positive'},\n",
       " u'Phantom Thread': {'blurb': [u'Will \"Phantom Thread\" turn out to be the story of a man who falls for his fetishistic design of a woman?',\n",
       "   u'\"Phantom Thread\" comes on, for a good long stretch, like Anderson\\u2019s sprawling version of \"Rebecca\" or \"Suspicion\": a romantic suspense thriller coursing with dread.',\n",
       "   u'He remains a filmmaking wizard, and \"Phantom Thread\" sweeps you up and carries you along, much more, to my mind, than \"The Master\" did.',\n",
       "   u'\"Phantom Thread\" is seductive and absorbing, but it\\u2019s also emotionally remote.',\n",
       "   u'In the early scenes of \"Phantom Thread,\" he\\u2019s urbane and inviting and demurely British, with his black-and-gray hair swept back; he\\'s so gentlemanly in his flirtation that he reminds you of someone like George Martin.'],\n",
       "  'critic': u'Owen Gleiberman',\n",
       "  'link': u'http://variety.com/2017/film/reviews/a-thought-of-ecstasy-review-1202627473/',\n",
       "  'movie': u'Phantom Thread',\n",
       "  'review_polarity': 0.12364497051504925,\n",
       "  'review_subjectivity': 0.5116930838190682,\n",
       "  'text': u'Reynolds Woodcock (Daniel Day-Lewis), the svelte and smoldering middle-aged British fashion designer at the heart of Paul Thomas Anderson\\u2019s \"Phantom Thread,\" is a man who seems to have everything he wants. He lives in a splendid five-story London townhouse with walls the color of cream, and he works there too, starting early, sitting with his tea and pastries as he does the day\\u2019s sketches, already possessed by his reverent labor. He\\u2019s a dressmaker who works with the fervor of an artist \\u2014 dreaming, obsessing, perfecting. At night he sips martinis at parties and restaurants, rubbing shoulders with the countesses and wealthy London ladies who are his clients, and he\\u2019s also a devoted serial womanizer who falls for \\u2014 and discards \\u2014 one comely model muse after another. (As the film opens, his current flame is flickering out.) \"Phantom Thread\" is set in 1955, but Reynolds, in his posh and pampered upper-crust way, has the air of a highly contempo bachelor hedonist. The world is his oyster, and it\\u2019s also his man-cave.\\r\\n\\r\\nOne weekend, he drives his sporty maroon roadster \\u2014 at top speed, of course \\u2014\\xa0out to his country getaway, arriving at dawn and ordering breakfast in the restaurant of a seaside hotel. The young woman who waits on him, Alma (Vickey Krieps), has a melting warm smile, come-hither eyes locked in a glow of adoration, and a mild accent. (It\\u2019s never specified where she\\u2019s from, but the 34-year-old actress Vicky Krieps hails from Luxembourg.) As soon as she takes his order for Welsh rarebit with a poached egg on top, a pot of lapsang tea, jam (not strawberry!), and an order of sausages, she can tell that this is a man whose appetite for life matches her own.\\r\\n\\r\\nDaniel Day-Lewis has spent enough time behind the fa\\xe7ade of concocted voices and elaborate hair that it\\u2019s always a bit of an ironic shock to see him head back into the skin of his own look and personality. In the early scenes of \"Phantom Thread,\" he\\u2019s urbane and inviting and demurely British, with his black-and-gray hair swept back; he\\'s so gentlemanly in his flirtation that he reminds you of someone like George Martin. After having dinner with Alma, Reynolds drives her over to his country studio, where she models for him, and he makes her a dress. It\\u2019s love at first stitch.\\r\\n\\r\\nBut, of course, we\\'re all too aware that something ominous has to be lurking in the shadows. There wouldn\\u2019t be a movie otherwise, and the plangent pull of Jonny Greenwood\\u2019s musical score, rapturous with longing and anxiety, summons an unmistakable \\'50s-Hitchcock vibe. So does Anderson\\u2019s meticulous filmmaking. Reynolds is presented as a feverish artisan of fashion, sketching and sewing his way to a vision of the feminine ideal. He courts Alma by using her as a human mannequin, and it\\u2019s therefore hard not to get intimations of a movie like \"Vertigo,\" or maybe a super-kinky \"Pygmalion.\" Will \"Phantom Thread\" turn out to be the story of a man who falls for his fetishistic design of a woman?\\r\\n\\r\\nThe film\\u2019s dilemma, as it happens, isn\\u2019t nearly that spectacularly perverse. Reynolds comes under Alma\\u2019s spell, and since he\\u2019s a severely handsome and well-known designer, and she\\u2019s an expatriate nobody waiting tables in a country hotel, it doesn\\u2019t take higher math to see where this power imbalance is heading. Alma returns to London with Reynolds and becomes his new model and muse. He moves her into the bedroom upstairs \\u2014 right next to his, as if conferring some great privilege, though it already sounds like he\\u2019s talking about a birdcage.\\r\\n\\r\\nDo they sleep together? The movie doesn\\'t show that kind of thing (the oblique implication is yes), but their problems start at breakfast, where Alma butters her toast, and pours her tea, in a disarmingly noisy manner, which skews Reynolds\\u2019 train of thought. A little later, she makes the mistake of challenging one of his choices of fabrics, which leads to a back-and-forth verbal volley worthy of a screwball comedy, only Reynolds doesn\\u2019t want feisty rejoinders \\u2014 he wants to be obeyed. (Just when the exchange is starting to sizzle, he shouts, \"Enough!\") Did I mention that Reynolds\\u2019 sister, Cyril (Lesley Manville), is sitting there during every one of these encounters? She\\u2019s his business partner, and also, apparently, his eternal companion (along with the ghost of his dead mother). Reynolds and Cyril are close in a way that suggests something warm, loyal, and a little unseemly. She\\u2019s like the housekeeper in Hitchcock\\u2019s \"Rebecca,\" creepy and a touch macabre, always hovering, except that the great Lesley Manville, her eyes like black lasers, her hair piled into a short stacked \\u2018do, plays her like the Judi Dench version of a John Waters character: a badass in dowager\\u2019s clothing.\\r\\n\\r\\nAnderson, who didn\\'t just write and direct \"Phantom Thread\" but shot it himself (uncredited), stages the movie as a lavishly suspenseful piece of wealth porn. His camera travels up and down the stairways of the townhouse, and he lingers on Reynolds\\u2019 work as a designer, swathing us in the physicality of the fabrics \\u2014 the 16th-century Flemish lace out of which he makes Alma a gorgeous lavender dress, or a stunning royal silky number with pink diamonds on the breast. Anderson, in making the film, drew on the careers of several British designers of the period (like Charles James), and the essential exotic element for the audience is that this is the pre-couture world, where fashion, at least in Britain, had yet to enter its postmodern dream phase. That was just starting in France, and Reynolds, at one point, spits out the word \"chic\" as if it were a vile obscenity.\\r\\n\\r\\nFor all the attention it lavishes on Reynolds\\u2019 designs, and on the daily swirl of his existence, where he\\'s surrounded by a flurry of seamstresses, \"Phantom Thread\" isn\\'t, at heart, a tale of artistic passion. It\\u2019s a parable of toxic masculinity. Reynolds\\u2019 last name, Woodcock, can sound like it was invented to reduce Beavis and Butt-Head to a state of grunting hysterics \\u2014 but, in fact, the meaning of the name is exactly that. Day-Lewis\\u2019s Woodcock is a stiff, a hard virile puppet of a man \\u2014 a selfish vessel of male desire. He has invited Alma to fall in love with him, and she does, but all that means to Reynolds is that he wants to go on with his life as is (the work, the parties, the routine), with Alma as the girl utensil he takes down from the shelf whenever he feels like it. The movie is constructed as a kind of suspenseful showdown: Will Reynolds the elegant tyrant of fake romance, with his Woodcock coldness, break her down? Or will she turn the tables?\\r\\n\\r\\n\"Phantom Thread\" is seductive and absorbing, but it\\u2019s also emotionally remote. The film is framed as a love story, but it never swoons, and it\\'s enough to make you wonder: Why does Anderson, whose work back in the late \\'90s (the transcendent \"Boogie Nights,\" the enraptured \"Magnolia\") pulsated with off-kilter humanity, now make dramas that are essentially didactic studies of fantastically cold brutes? He remains a filmmaking wizard, and \"Phantom Thread\" sweeps you up and carries you along, much more, to my mind, than \"The Master\" did. Yet it\\u2019s a thesis movie: the story of a bullying narcissist who lacks the ability to have a relationship, and the outrageous way he\\'s schooled into becoming a human being. It\\u2019s the story of a control freak made by a control freak.\\r\\n\\r\\nDid all of this start with \"Raging Bull\"? In \"Phantom Thread,\" Daniel Day-Lewis, who has declared that this will be his last screen performance, seems to be relishing the chance to play another flamboyant emotional fascist, and the movie asks the audience to chortle along, notably in the sequence where Alma tries to assert her place in the scheme of things by making an intimate dinner for herself and Reynolds. She has to shoo everyone out of the townhouse as if she were clearing Buckingham Palace, and when Reynolds walks in, he acts like he\\u2019s been ambushed. Will he eat his asparagus with butter the way she\\u2019s prepared it? Why should he? He likes them with oil and salt!\\r\\n\\r\\nThe sequence plays like the \"Masterpiece Theatre\" version of \"There Will Be Blood,\" with Krieps, as Alma, asserting her radiant devotion in the face of Reynolds\\u2019 stone-cold rejection. It\\u2019s at that moment that she decides to go to extremes \\u2014 a twist out of a thriller that\\u2019s also a dark joke. It certainly plays (at least the first time), but it\\u2019s hard to shake the feeling that Day-Lewis, along with Anderson, has confused misanthropy with art. The actor plays Reynolds with a winning puckish gleam that turns sinister, but I can\\u2019t say that he goes out with a great performance.\\r\\n\\r\\n\"Phantom Thread\" comes on, for a good long stretch, like Anderson\\u2019s sprawling version of \"Rebecca\" or \"Suspicion\": a romantic suspense thriller coursing with dread. I wish it had stayed on that track, but Anderson isn\\u2019t content to make a black-hearted retro genre film. He\\u2019s too ambitious, and once Alma exacts her revenge, the movie does something a little bizarre: It goes back to square one, so that Reynolds, even after proposing to Alma, turns out to be the same old dick he always was. The film, in what should have been its culminating passages, loses steams and grows repetitive, building toward the scene in which Reynolds eats an omelette, colluding \\u2014 knowingly \\u2014 in his own punishment and reform. It\\u2019s supposed to be the film\\u2019s capstone of perversity: toxic masculinity toxifying itself. But it just made me wish that Paul Thomas Anderson would stop making movies about people who are so stunted that he can\\u2019t help adoring them for it.',\n",
       "  'thumbsup': 'Positive'},\n",
       " u'Review: A Thought of Ecstasy': {'blurb': [u'Will \"Phantom Thread\" turn out to be the story of a man who falls for his fetishistic design of a woman?',\n",
       "   u'After having dinner with Alma, Reynolds drives her over to his country studio, where she models for him, and he makes her a dress.',\n",
       "   u'\"Phantom Thread\" comes on, for a good long stretch, like Anderson\\u2019s sprawling version of \"Rebecca\" or \"Suspicion\": a romantic suspense thriller coursing with dread.',\n",
       "   u'He remains a filmmaking wizard, and \"Phantom Thread\" sweeps you up and carries you along, much more, to my mind, than \"The Master\" did.',\n",
       "   u'Will he eat his asparagus with butter the way she\\u2019s prepared it?'],\n",
       "  'critic': u'Jessica Kiang',\n",
       "  'link': u'http://variety.com/2017/film/reviews/a-thought-of-ecstasy-review-1202627473/',\n",
       "  'movie': u'Review: A Thought of Ecstasy',\n",
       "  'review_polarity': 0.12364497051504925,\n",
       "  'review_subjectivity': 0.5116930838190682,\n",
       "  'text': u'Reynolds Woodcock (Daniel Day-Lewis), the svelte and smoldering middle-aged British fashion designer at the heart of Paul Thomas Anderson\\u2019s \"Phantom Thread,\" is a man who seems to have everything he wants. He lives in a splendid five-story London townhouse with walls the color of cream, and he works there too, starting early, sitting with his tea and pastries as he does the day\\u2019s sketches, already possessed by his reverent labor. He\\u2019s a dressmaker who works with the fervor of an artist \\u2014 dreaming, obsessing, perfecting. At night he sips martinis at parties and restaurants, rubbing shoulders with the countesses and wealthy London ladies who are his clients, and he\\u2019s also a devoted serial womanizer who falls for \\u2014 and discards \\u2014 one comely model muse after another. (As the film opens, his current flame is flickering out.) \"Phantom Thread\" is set in 1955, but Reynolds, in his posh and pampered upper-crust way, has the air of a highly contempo bachelor hedonist. The world is his oyster, and it\\u2019s also his man-cave.\\r\\n\\r\\nOne weekend, he drives his sporty maroon roadster \\u2014 at top speed, of course \\u2014\\xa0out to his country getaway, arriving at dawn and ordering breakfast in the restaurant of a seaside hotel. The young woman who waits on him, Alma (Vickey Krieps), has a melting warm smile, come-hither eyes locked in a glow of adoration, and a mild accent. (It\\u2019s never specified where she\\u2019s from, but the 34-year-old actress Vicky Krieps hails from Luxembourg.) As soon as she takes his order for Welsh rarebit with a poached egg on top, a pot of lapsang tea, jam (not strawberry!), and an order of sausages, she can tell that this is a man whose appetite for life matches her own.\\r\\n\\r\\nDaniel Day-Lewis has spent enough time behind the fa\\xe7ade of concocted voices and elaborate hair that it\\u2019s always a bit of an ironic shock to see him head back into the skin of his own look and personality. In the early scenes of \"Phantom Thread,\" he\\u2019s urbane and inviting and demurely British, with his black-and-gray hair swept back; he\\'s so gentlemanly in his flirtation that he reminds you of someone like George Martin. After having dinner with Alma, Reynolds drives her over to his country studio, where she models for him, and he makes her a dress. It\\u2019s love at first stitch.\\r\\n\\r\\nBut, of course, we\\'re all too aware that something ominous has to be lurking in the shadows. There wouldn\\u2019t be a movie otherwise, and the plangent pull of Jonny Greenwood\\u2019s musical score, rapturous with longing and anxiety, summons an unmistakable \\'50s-Hitchcock vibe. So does Anderson\\u2019s meticulous filmmaking. Reynolds is presented as a feverish artisan of fashion, sketching and sewing his way to a vision of the feminine ideal. He courts Alma by using her as a human mannequin, and it\\u2019s therefore hard not to get intimations of a movie like \"Vertigo,\" or maybe a super-kinky \"Pygmalion.\" Will \"Phantom Thread\" turn out to be the story of a man who falls for his fetishistic design of a woman?\\r\\n\\r\\nThe film\\u2019s dilemma, as it happens, isn\\u2019t nearly that spectacularly perverse. Reynolds comes under Alma\\u2019s spell, and since he\\u2019s a severely handsome and well-known designer, and she\\u2019s an expatriate nobody waiting tables in a country hotel, it doesn\\u2019t take higher math to see where this power imbalance is heading. Alma returns to London with Reynolds and becomes his new model and muse. He moves her into the bedroom upstairs \\u2014 right next to his, as if conferring some great privilege, though it already sounds like he\\u2019s talking about a birdcage.\\r\\n\\r\\nDo they sleep together? The movie doesn\\'t show that kind of thing (the oblique implication is yes), but their problems start at breakfast, where Alma butters her toast, and pours her tea, in a disarmingly noisy manner, which skews Reynolds\\u2019 train of thought. A little later, she makes the mistake of challenging one of his choices of fabrics, which leads to a back-and-forth verbal volley worthy of a screwball comedy, only Reynolds doesn\\u2019t want feisty rejoinders \\u2014 he wants to be obeyed. (Just when the exchange is starting to sizzle, he shouts, \"Enough!\") Did I mention that Reynolds\\u2019 sister, Cyril (Lesley Manville), is sitting there during every one of these encounters? She\\u2019s his business partner, and also, apparently, his eternal companion (along with the ghost of his dead mother). Reynolds and Cyril are close in a way that suggests something warm, loyal, and a little unseemly. She\\u2019s like the housekeeper in Hitchcock\\u2019s \"Rebecca,\" creepy and a touch macabre, always hovering, except that the great Lesley Manville, her eyes like black lasers, her hair piled into a short stacked \\u2018do, plays her like the Judi Dench version of a John Waters character: a badass in dowager\\u2019s clothing.\\r\\n\\r\\nAnderson, who didn\\'t just write and direct \"Phantom Thread\" but shot it himself (uncredited), stages the movie as a lavishly suspenseful piece of wealth porn. His camera travels up and down the stairways of the townhouse, and he lingers on Reynolds\\u2019 work as a designer, swathing us in the physicality of the fabrics \\u2014 the 16th-century Flemish lace out of which he makes Alma a gorgeous lavender dress, or a stunning royal silky number with pink diamonds on the breast. Anderson, in making the film, drew on the careers of several British designers of the period (like Charles James), and the essential exotic element for the audience is that this is the pre-couture world, where fashion, at least in Britain, had yet to enter its postmodern dream phase. That was just starting in France, and Reynolds, at one point, spits out the word \"chic\" as if it were a vile obscenity.\\r\\n\\r\\nFor all the attention it lavishes on Reynolds\\u2019 designs, and on the daily swirl of his existence, where he\\'s surrounded by a flurry of seamstresses, \"Phantom Thread\" isn\\'t, at heart, a tale of artistic passion. It\\u2019s a parable of toxic masculinity. Reynolds\\u2019 last name, Woodcock, can sound like it was invented to reduce Beavis and Butt-Head to a state of grunting hysterics \\u2014 but, in fact, the meaning of the name is exactly that. Day-Lewis\\u2019s Woodcock is a stiff, a hard virile puppet of a man \\u2014 a selfish vessel of male desire. He has invited Alma to fall in love with him, and she does, but all that means to Reynolds is that he wants to go on with his life as is (the work, the parties, the routine), with Alma as the girl utensil he takes down from the shelf whenever he feels like it. The movie is constructed as a kind of suspenseful showdown: Will Reynolds the elegant tyrant of fake romance, with his Woodcock coldness, break her down? Or will she turn the tables?\\r\\n\\r\\n\"Phantom Thread\" is seductive and absorbing, but it\\u2019s also emotionally remote. The film is framed as a love story, but it never swoons, and it\\'s enough to make you wonder: Why does Anderson, whose work back in the late \\'90s (the transcendent \"Boogie Nights,\" the enraptured \"Magnolia\") pulsated with off-kilter humanity, now make dramas that are essentially didactic studies of fantastically cold brutes? He remains a filmmaking wizard, and \"Phantom Thread\" sweeps you up and carries you along, much more, to my mind, than \"The Master\" did. Yet it\\u2019s a thesis movie: the story of a bullying narcissist who lacks the ability to have a relationship, and the outrageous way he\\'s schooled into becoming a human being. It\\u2019s the story of a control freak made by a control freak.\\r\\n\\r\\nDid all of this start with \"Raging Bull\"? In \"Phantom Thread,\" Daniel Day-Lewis, who has declared that this will be his last screen performance, seems to be relishing the chance to play another flamboyant emotional fascist, and the movie asks the audience to chortle along, notably in the sequence where Alma tries to assert her place in the scheme of things by making an intimate dinner for herself and Reynolds. She has to shoo everyone out of the townhouse as if she were clearing Buckingham Palace, and when Reynolds walks in, he acts like he\\u2019s been ambushed. Will he eat his asparagus with butter the way she\\u2019s prepared it? Why should he? He likes them with oil and salt!\\r\\n\\r\\nThe sequence plays like the \"Masterpiece Theatre\" version of \"There Will Be Blood,\" with Krieps, as Alma, asserting her radiant devotion in the face of Reynolds\\u2019 stone-cold rejection. It\\u2019s at that moment that she decides to go to extremes \\u2014 a twist out of a thriller that\\u2019s also a dark joke. It certainly plays (at least the first time), but it\\u2019s hard to shake the feeling that Day-Lewis, along with Anderson, has confused misanthropy with art. The actor plays Reynolds with a winning puckish gleam that turns sinister, but I can\\u2019t say that he goes out with a great performance.\\r\\n\\r\\n\"Phantom Thread\" comes on, for a good long stretch, like Anderson\\u2019s sprawling version of \"Rebecca\" or \"Suspicion\": a romantic suspense thriller coursing with dread. I wish it had stayed on that track, but Anderson isn\\u2019t content to make a black-hearted retro genre film. He\\u2019s too ambitious, and once Alma exacts her revenge, the movie does something a little bizarre: It goes back to square one, so that Reynolds, even after proposing to Alma, turns out to be the same old dick he always was. The film, in what should have been its culminating passages, loses steams and grows repetitive, building toward the scene in which Reynolds eats an omelette, colluding \\u2014 knowingly \\u2014 in his own punishment and reform. It\\u2019s supposed to be the film\\u2019s capstone of perversity: toxic masculinity toxifying itself. But it just made me wish that Paul Thomas Anderson would stop making movies about people who are so stunted that he can\\u2019t help adoring them for it.',\n",
       "  'thumbsup': 'Positive'},\n",
       " u'Review: Asphyxia': {'blurb': [u'Will \"Phantom Thread\" turn out to be the story of a man who falls for his fetishistic design of a woman?',\n",
       "   u'After having dinner with Alma, Reynolds drives her over to his country studio, where she models for him, and he makes her a dress.',\n",
       "   u'\"Phantom Thread\" comes on, for a good long stretch, like Anderson\\u2019s sprawling version of \"Rebecca\" or \"Suspicion\": a romantic suspense thriller coursing with dread.',\n",
       "   u'He remains a filmmaking wizard, and \"Phantom Thread\" sweeps you up and carries you along, much more, to my mind, than \"The Master\" did.',\n",
       "   u'Will he eat his asparagus with butter the way she\\u2019s prepared it?'],\n",
       "  'critic': u'Jessica Kiang',\n",
       "  'link': u'http://variety.com/2017/film/reviews/a-thought-of-ecstasy-review-1202627473/',\n",
       "  'movie': u'Review: Asphyxia',\n",
       "  'review_polarity': 0.12364497051504925,\n",
       "  'review_subjectivity': 0.5116930838190682,\n",
       "  'text': u'Reynolds Woodcock (Daniel Day-Lewis), the svelte and smoldering middle-aged British fashion designer at the heart of Paul Thomas Anderson\\u2019s \"Phantom Thread,\" is a man who seems to have everything he wants. He lives in a splendid five-story London townhouse with walls the color of cream, and he works there too, starting early, sitting with his tea and pastries as he does the day\\u2019s sketches, already possessed by his reverent labor. He\\u2019s a dressmaker who works with the fervor of an artist \\u2014 dreaming, obsessing, perfecting. At night he sips martinis at parties and restaurants, rubbing shoulders with the countesses and wealthy London ladies who are his clients, and he\\u2019s also a devoted serial womanizer who falls for \\u2014 and discards \\u2014 one comely model muse after another. (As the film opens, his current flame is flickering out.) \"Phantom Thread\" is set in 1955, but Reynolds, in his posh and pampered upper-crust way, has the air of a highly contempo bachelor hedonist. The world is his oyster, and it\\u2019s also his man-cave.\\r\\n\\r\\nOne weekend, he drives his sporty maroon roadster \\u2014 at top speed, of course \\u2014\\xa0out to his country getaway, arriving at dawn and ordering breakfast in the restaurant of a seaside hotel. The young woman who waits on him, Alma (Vickey Krieps), has a melting warm smile, come-hither eyes locked in a glow of adoration, and a mild accent. (It\\u2019s never specified where she\\u2019s from, but the 34-year-old actress Vicky Krieps hails from Luxembourg.) As soon as she takes his order for Welsh rarebit with a poached egg on top, a pot of lapsang tea, jam (not strawberry!), and an order of sausages, she can tell that this is a man whose appetite for life matches her own.\\r\\n\\r\\nDaniel Day-Lewis has spent enough time behind the fa\\xe7ade of concocted voices and elaborate hair that it\\u2019s always a bit of an ironic shock to see him head back into the skin of his own look and personality. In the early scenes of \"Phantom Thread,\" he\\u2019s urbane and inviting and demurely British, with his black-and-gray hair swept back; he\\'s so gentlemanly in his flirtation that he reminds you of someone like George Martin. After having dinner with Alma, Reynolds drives her over to his country studio, where she models for him, and he makes her a dress. It\\u2019s love at first stitch.\\r\\n\\r\\nBut, of course, we\\'re all too aware that something ominous has to be lurking in the shadows. There wouldn\\u2019t be a movie otherwise, and the plangent pull of Jonny Greenwood\\u2019s musical score, rapturous with longing and anxiety, summons an unmistakable \\'50s-Hitchcock vibe. So does Anderson\\u2019s meticulous filmmaking. Reynolds is presented as a feverish artisan of fashion, sketching and sewing his way to a vision of the feminine ideal. He courts Alma by using her as a human mannequin, and it\\u2019s therefore hard not to get intimations of a movie like \"Vertigo,\" or maybe a super-kinky \"Pygmalion.\" Will \"Phantom Thread\" turn out to be the story of a man who falls for his fetishistic design of a woman?\\r\\n\\r\\nThe film\\u2019s dilemma, as it happens, isn\\u2019t nearly that spectacularly perverse. Reynolds comes under Alma\\u2019s spell, and since he\\u2019s a severely handsome and well-known designer, and she\\u2019s an expatriate nobody waiting tables in a country hotel, it doesn\\u2019t take higher math to see where this power imbalance is heading. Alma returns to London with Reynolds and becomes his new model and muse. He moves her into the bedroom upstairs \\u2014 right next to his, as if conferring some great privilege, though it already sounds like he\\u2019s talking about a birdcage.\\r\\n\\r\\nDo they sleep together? The movie doesn\\'t show that kind of thing (the oblique implication is yes), but their problems start at breakfast, where Alma butters her toast, and pours her tea, in a disarmingly noisy manner, which skews Reynolds\\u2019 train of thought. A little later, she makes the mistake of challenging one of his choices of fabrics, which leads to a back-and-forth verbal volley worthy of a screwball comedy, only Reynolds doesn\\u2019t want feisty rejoinders \\u2014 he wants to be obeyed. (Just when the exchange is starting to sizzle, he shouts, \"Enough!\") Did I mention that Reynolds\\u2019 sister, Cyril (Lesley Manville), is sitting there during every one of these encounters? She\\u2019s his business partner, and also, apparently, his eternal companion (along with the ghost of his dead mother). Reynolds and Cyril are close in a way that suggests something warm, loyal, and a little unseemly. She\\u2019s like the housekeeper in Hitchcock\\u2019s \"Rebecca,\" creepy and a touch macabre, always hovering, except that the great Lesley Manville, her eyes like black lasers, her hair piled into a short stacked \\u2018do, plays her like the Judi Dench version of a John Waters character: a badass in dowager\\u2019s clothing.\\r\\n\\r\\nAnderson, who didn\\'t just write and direct \"Phantom Thread\" but shot it himself (uncredited), stages the movie as a lavishly suspenseful piece of wealth porn. His camera travels up and down the stairways of the townhouse, and he lingers on Reynolds\\u2019 work as a designer, swathing us in the physicality of the fabrics \\u2014 the 16th-century Flemish lace out of which he makes Alma a gorgeous lavender dress, or a stunning royal silky number with pink diamonds on the breast. Anderson, in making the film, drew on the careers of several British designers of the period (like Charles James), and the essential exotic element for the audience is that this is the pre-couture world, where fashion, at least in Britain, had yet to enter its postmodern dream phase. That was just starting in France, and Reynolds, at one point, spits out the word \"chic\" as if it were a vile obscenity.\\r\\n\\r\\nFor all the attention it lavishes on Reynolds\\u2019 designs, and on the daily swirl of his existence, where he\\'s surrounded by a flurry of seamstresses, \"Phantom Thread\" isn\\'t, at heart, a tale of artistic passion. It\\u2019s a parable of toxic masculinity. Reynolds\\u2019 last name, Woodcock, can sound like it was invented to reduce Beavis and Butt-Head to a state of grunting hysterics \\u2014 but, in fact, the meaning of the name is exactly that. Day-Lewis\\u2019s Woodcock is a stiff, a hard virile puppet of a man \\u2014 a selfish vessel of male desire. He has invited Alma to fall in love with him, and she does, but all that means to Reynolds is that he wants to go on with his life as is (the work, the parties, the routine), with Alma as the girl utensil he takes down from the shelf whenever he feels like it. The movie is constructed as a kind of suspenseful showdown: Will Reynolds the elegant tyrant of fake romance, with his Woodcock coldness, break her down? Or will she turn the tables?\\r\\n\\r\\n\"Phantom Thread\" is seductive and absorbing, but it\\u2019s also emotionally remote. The film is framed as a love story, but it never swoons, and it\\'s enough to make you wonder: Why does Anderson, whose work back in the late \\'90s (the transcendent \"Boogie Nights,\" the enraptured \"Magnolia\") pulsated with off-kilter humanity, now make dramas that are essentially didactic studies of fantastically cold brutes? He remains a filmmaking wizard, and \"Phantom Thread\" sweeps you up and carries you along, much more, to my mind, than \"The Master\" did. Yet it\\u2019s a thesis movie: the story of a bullying narcissist who lacks the ability to have a relationship, and the outrageous way he\\'s schooled into becoming a human being. It\\u2019s the story of a control freak made by a control freak.\\r\\n\\r\\nDid all of this start with \"Raging Bull\"? In \"Phantom Thread,\" Daniel Day-Lewis, who has declared that this will be his last screen performance, seems to be relishing the chance to play another flamboyant emotional fascist, and the movie asks the audience to chortle along, notably in the sequence where Alma tries to assert her place in the scheme of things by making an intimate dinner for herself and Reynolds. She has to shoo everyone out of the townhouse as if she were clearing Buckingham Palace, and when Reynolds walks in, he acts like he\\u2019s been ambushed. Will he eat his asparagus with butter the way she\\u2019s prepared it? Why should he? He likes them with oil and salt!\\r\\n\\r\\nThe sequence plays like the \"Masterpiece Theatre\" version of \"There Will Be Blood,\" with Krieps, as Alma, asserting her radiant devotion in the face of Reynolds\\u2019 stone-cold rejection. It\\u2019s at that moment that she decides to go to extremes \\u2014 a twist out of a thriller that\\u2019s also a dark joke. It certainly plays (at least the first time), but it\\u2019s hard to shake the feeling that Day-Lewis, along with Anderson, has confused misanthropy with art. The actor plays Reynolds with a winning puckish gleam that turns sinister, but I can\\u2019t say that he goes out with a great performance.\\r\\n\\r\\n\"Phantom Thread\" comes on, for a good long stretch, like Anderson\\u2019s sprawling version of \"Rebecca\" or \"Suspicion\": a romantic suspense thriller coursing with dread. I wish it had stayed on that track, but Anderson isn\\u2019t content to make a black-hearted retro genre film. He\\u2019s too ambitious, and once Alma exacts her revenge, the movie does something a little bizarre: It goes back to square one, so that Reynolds, even after proposing to Alma, turns out to be the same old dick he always was. The film, in what should have been its culminating passages, loses steams and grows repetitive, building toward the scene in which Reynolds eats an omelette, colluding \\u2014 knowingly \\u2014 in his own punishment and reform. It\\u2019s supposed to be the film\\u2019s capstone of perversity: toxic masculinity toxifying itself. But it just made me wish that Paul Thomas Anderson would stop making movies about people who are so stunted that he can\\u2019t help adoring them for it.',\n",
       "  'thumbsup': 'Positive'},\n",
       " u'The Post': {'blurb': [u'Will \"Phantom Thread\" turn out to be the story of a man who falls for his fetishistic design of a woman?',\n",
       "   u'After having dinner with Alma, Reynolds drives her over to his country studio, where she models for him, and he makes her a dress.',\n",
       "   u'\"Phantom Thread\" comes on, for a good long stretch, like Anderson\\u2019s sprawling version of \"Rebecca\" or \"Suspicion\": a romantic suspense thriller coursing with dread.',\n",
       "   u'He remains a filmmaking wizard, and \"Phantom Thread\" sweeps you up and carries you along, much more, to my mind, than \"The Master\" did.',\n",
       "   u'Will he eat his asparagus with butter the way she\\u2019s prepared it?'],\n",
       "  'critic': u'Owen Gleiberman',\n",
       "  'link': u'http://variety.com/2017/film/reviews/a-thought-of-ecstasy-review-1202627473/',\n",
       "  'movie': u'The Post',\n",
       "  'review_polarity': 0.12364497051504925,\n",
       "  'review_subjectivity': 0.5116930838190682,\n",
       "  'text': u'Reynolds Woodcock (Daniel Day-Lewis), the svelte and smoldering middle-aged British fashion designer at the heart of Paul Thomas Anderson\\u2019s \"Phantom Thread,\" is a man who seems to have everything he wants. He lives in a splendid five-story London townhouse with walls the color of cream, and he works there too, starting early, sitting with his tea and pastries as he does the day\\u2019s sketches, already possessed by his reverent labor. He\\u2019s a dressmaker who works with the fervor of an artist \\u2014 dreaming, obsessing, perfecting. At night he sips martinis at parties and restaurants, rubbing shoulders with the countesses and wealthy London ladies who are his clients, and he\\u2019s also a devoted serial womanizer who falls for \\u2014 and discards \\u2014 one comely model muse after another. (As the film opens, his current flame is flickering out.) \"Phantom Thread\" is set in 1955, but Reynolds, in his posh and pampered upper-crust way, has the air of a highly contempo bachelor hedonist. The world is his oyster, and it\\u2019s also his man-cave.\\r\\n\\r\\nOne weekend, he drives his sporty maroon roadster \\u2014 at top speed, of course \\u2014\\xa0out to his country getaway, arriving at dawn and ordering breakfast in the restaurant of a seaside hotel. The young woman who waits on him, Alma (Vickey Krieps), has a melting warm smile, come-hither eyes locked in a glow of adoration, and a mild accent. (It\\u2019s never specified where she\\u2019s from, but the 34-year-old actress Vicky Krieps hails from Luxembourg.) As soon as she takes his order for Welsh rarebit with a poached egg on top, a pot of lapsang tea, jam (not strawberry!), and an order of sausages, she can tell that this is a man whose appetite for life matches her own.\\r\\n\\r\\nDaniel Day-Lewis has spent enough time behind the fa\\xe7ade of concocted voices and elaborate hair that it\\u2019s always a bit of an ironic shock to see him head back into the skin of his own look and personality. In the early scenes of \"Phantom Thread,\" he\\u2019s urbane and inviting and demurely British, with his black-and-gray hair swept back; he\\'s so gentlemanly in his flirtation that he reminds you of someone like George Martin. After having dinner with Alma, Reynolds drives her over to his country studio, where she models for him, and he makes her a dress. It\\u2019s love at first stitch.\\r\\n\\r\\nBut, of course, we\\'re all too aware that something ominous has to be lurking in the shadows. There wouldn\\u2019t be a movie otherwise, and the plangent pull of Jonny Greenwood\\u2019s musical score, rapturous with longing and anxiety, summons an unmistakable \\'50s-Hitchcock vibe. So does Anderson\\u2019s meticulous filmmaking. Reynolds is presented as a feverish artisan of fashion, sketching and sewing his way to a vision of the feminine ideal. He courts Alma by using her as a human mannequin, and it\\u2019s therefore hard not to get intimations of a movie like \"Vertigo,\" or maybe a super-kinky \"Pygmalion.\" Will \"Phantom Thread\" turn out to be the story of a man who falls for his fetishistic design of a woman?\\r\\n\\r\\nThe film\\u2019s dilemma, as it happens, isn\\u2019t nearly that spectacularly perverse. Reynolds comes under Alma\\u2019s spell, and since he\\u2019s a severely handsome and well-known designer, and she\\u2019s an expatriate nobody waiting tables in a country hotel, it doesn\\u2019t take higher math to see where this power imbalance is heading. Alma returns to London with Reynolds and becomes his new model and muse. He moves her into the bedroom upstairs \\u2014 right next to his, as if conferring some great privilege, though it already sounds like he\\u2019s talking about a birdcage.\\r\\n\\r\\nDo they sleep together? The movie doesn\\'t show that kind of thing (the oblique implication is yes), but their problems start at breakfast, where Alma butters her toast, and pours her tea, in a disarmingly noisy manner, which skews Reynolds\\u2019 train of thought. A little later, she makes the mistake of challenging one of his choices of fabrics, which leads to a back-and-forth verbal volley worthy of a screwball comedy, only Reynolds doesn\\u2019t want feisty rejoinders \\u2014 he wants to be obeyed. (Just when the exchange is starting to sizzle, he shouts, \"Enough!\") Did I mention that Reynolds\\u2019 sister, Cyril (Lesley Manville), is sitting there during every one of these encounters? She\\u2019s his business partner, and also, apparently, his eternal companion (along with the ghost of his dead mother). Reynolds and Cyril are close in a way that suggests something warm, loyal, and a little unseemly. She\\u2019s like the housekeeper in Hitchcock\\u2019s \"Rebecca,\" creepy and a touch macabre, always hovering, except that the great Lesley Manville, her eyes like black lasers, her hair piled into a short stacked \\u2018do, plays her like the Judi Dench version of a John Waters character: a badass in dowager\\u2019s clothing.\\r\\n\\r\\nAnderson, who didn\\'t just write and direct \"Phantom Thread\" but shot it himself (uncredited), stages the movie as a lavishly suspenseful piece of wealth porn. His camera travels up and down the stairways of the townhouse, and he lingers on Reynolds\\u2019 work as a designer, swathing us in the physicality of the fabrics \\u2014 the 16th-century Flemish lace out of which he makes Alma a gorgeous lavender dress, or a stunning royal silky number with pink diamonds on the breast. Anderson, in making the film, drew on the careers of several British designers of the period (like Charles James), and the essential exotic element for the audience is that this is the pre-couture world, where fashion, at least in Britain, had yet to enter its postmodern dream phase. That was just starting in France, and Reynolds, at one point, spits out the word \"chic\" as if it were a vile obscenity.\\r\\n\\r\\nFor all the attention it lavishes on Reynolds\\u2019 designs, and on the daily swirl of his existence, where he\\'s surrounded by a flurry of seamstresses, \"Phantom Thread\" isn\\'t, at heart, a tale of artistic passion. It\\u2019s a parable of toxic masculinity. Reynolds\\u2019 last name, Woodcock, can sound like it was invented to reduce Beavis and Butt-Head to a state of grunting hysterics \\u2014 but, in fact, the meaning of the name is exactly that. Day-Lewis\\u2019s Woodcock is a stiff, a hard virile puppet of a man \\u2014 a selfish vessel of male desire. He has invited Alma to fall in love with him, and she does, but all that means to Reynolds is that he wants to go on with his life as is (the work, the parties, the routine), with Alma as the girl utensil he takes down from the shelf whenever he feels like it. The movie is constructed as a kind of suspenseful showdown: Will Reynolds the elegant tyrant of fake romance, with his Woodcock coldness, break her down? Or will she turn the tables?\\r\\n\\r\\n\"Phantom Thread\" is seductive and absorbing, but it\\u2019s also emotionally remote. The film is framed as a love story, but it never swoons, and it\\'s enough to make you wonder: Why does Anderson, whose work back in the late \\'90s (the transcendent \"Boogie Nights,\" the enraptured \"Magnolia\") pulsated with off-kilter humanity, now make dramas that are essentially didactic studies of fantastically cold brutes? He remains a filmmaking wizard, and \"Phantom Thread\" sweeps you up and carries you along, much more, to my mind, than \"The Master\" did. Yet it\\u2019s a thesis movie: the story of a bullying narcissist who lacks the ability to have a relationship, and the outrageous way he\\'s schooled into becoming a human being. It\\u2019s the story of a control freak made by a control freak.\\r\\n\\r\\nDid all of this start with \"Raging Bull\"? In \"Phantom Thread,\" Daniel Day-Lewis, who has declared that this will be his last screen performance, seems to be relishing the chance to play another flamboyant emotional fascist, and the movie asks the audience to chortle along, notably in the sequence where Alma tries to assert her place in the scheme of things by making an intimate dinner for herself and Reynolds. She has to shoo everyone out of the townhouse as if she were clearing Buckingham Palace, and when Reynolds walks in, he acts like he\\u2019s been ambushed. Will he eat his asparagus with butter the way she\\u2019s prepared it? Why should he? He likes them with oil and salt!\\r\\n\\r\\nThe sequence plays like the \"Masterpiece Theatre\" version of \"There Will Be Blood,\" with Krieps, as Alma, asserting her radiant devotion in the face of Reynolds\\u2019 stone-cold rejection. It\\u2019s at that moment that she decides to go to extremes \\u2014 a twist out of a thriller that\\u2019s also a dark joke. It certainly plays (at least the first time), but it\\u2019s hard to shake the feeling that Day-Lewis, along with Anderson, has confused misanthropy with art. The actor plays Reynolds with a winning puckish gleam that turns sinister, but I can\\u2019t say that he goes out with a great performance.\\r\\n\\r\\n\"Phantom Thread\" comes on, for a good long stretch, like Anderson\\u2019s sprawling version of \"Rebecca\" or \"Suspicion\": a romantic suspense thriller coursing with dread. I wish it had stayed on that track, but Anderson isn\\u2019t content to make a black-hearted retro genre film. He\\u2019s too ambitious, and once Alma exacts her revenge, the movie does something a little bizarre: It goes back to square one, so that Reynolds, even after proposing to Alma, turns out to be the same old dick he always was. The film, in what should have been its culminating passages, loses steams and grows repetitive, building toward the scene in which Reynolds eats an omelette, colluding \\u2014 knowingly \\u2014 in his own punishment and reform. It\\u2019s supposed to be the film\\u2019s capstone of perversity: toxic masculinity toxifying itself. But it just made me wish that Paul Thomas Anderson would stop making movies about people who are so stunted that he can\\u2019t help adoring them for it.',\n",
       "  'thumbsup': 'Positive'},\n",
       " u'The Rape Of Recy Taylor': {'blurb': [u'Will \"Phantom Thread\" turn out to be the story of a man who falls for his fetishistic design of a woman?',\n",
       "   u'After having dinner with Alma, Reynolds drives her over to his country studio, where she models for him, and he makes her a dress.',\n",
       "   u'\"Phantom Thread\" comes on, for a good long stretch, like Anderson\\u2019s sprawling version of \"Rebecca\" or \"Suspicion\": a romantic suspense thriller coursing with dread.',\n",
       "   u'He remains a filmmaking wizard, and \"Phantom Thread\" sweeps you up and carries you along, much more, to my mind, than \"The Master\" did.',\n",
       "   u'Will he eat his asparagus with butter the way she\\u2019s prepared it?'],\n",
       "  'critic': u'Jessica Kiang',\n",
       "  'link': u'http://variety.com/2017/film/reviews/a-thought-of-ecstasy-review-1202627473/',\n",
       "  'movie': u'The Rape Of Recy Taylor',\n",
       "  'review_polarity': 0.12364497051504925,\n",
       "  'review_subjectivity': 0.5116930838190682,\n",
       "  'text': u'Reynolds Woodcock (Daniel Day-Lewis), the svelte and smoldering middle-aged British fashion designer at the heart of Paul Thomas Anderson\\u2019s \"Phantom Thread,\" is a man who seems to have everything he wants. He lives in a splendid five-story London townhouse with walls the color of cream, and he works there too, starting early, sitting with his tea and pastries as he does the day\\u2019s sketches, already possessed by his reverent labor. He\\u2019s a dressmaker who works with the fervor of an artist \\u2014 dreaming, obsessing, perfecting. At night he sips martinis at parties and restaurants, rubbing shoulders with the countesses and wealthy London ladies who are his clients, and he\\u2019s also a devoted serial womanizer who falls for \\u2014 and discards \\u2014 one comely model muse after another. (As the film opens, his current flame is flickering out.) \"Phantom Thread\" is set in 1955, but Reynolds, in his posh and pampered upper-crust way, has the air of a highly contempo bachelor hedonist. The world is his oyster, and it\\u2019s also his man-cave.\\r\\n\\r\\nOne weekend, he drives his sporty maroon roadster \\u2014 at top speed, of course \\u2014\\xa0out to his country getaway, arriving at dawn and ordering breakfast in the restaurant of a seaside hotel. The young woman who waits on him, Alma (Vickey Krieps), has a melting warm smile, come-hither eyes locked in a glow of adoration, and a mild accent. (It\\u2019s never specified where she\\u2019s from, but the 34-year-old actress Vicky Krieps hails from Luxembourg.) As soon as she takes his order for Welsh rarebit with a poached egg on top, a pot of lapsang tea, jam (not strawberry!), and an order of sausages, she can tell that this is a man whose appetite for life matches her own.\\r\\n\\r\\nDaniel Day-Lewis has spent enough time behind the fa\\xe7ade of concocted voices and elaborate hair that it\\u2019s always a bit of an ironic shock to see him head back into the skin of his own look and personality. In the early scenes of \"Phantom Thread,\" he\\u2019s urbane and inviting and demurely British, with his black-and-gray hair swept back; he\\'s so gentlemanly in his flirtation that he reminds you of someone like George Martin. After having dinner with Alma, Reynolds drives her over to his country studio, where she models for him, and he makes her a dress. It\\u2019s love at first stitch.\\r\\n\\r\\nBut, of course, we\\'re all too aware that something ominous has to be lurking in the shadows. There wouldn\\u2019t be a movie otherwise, and the plangent pull of Jonny Greenwood\\u2019s musical score, rapturous with longing and anxiety, summons an unmistakable \\'50s-Hitchcock vibe. So does Anderson\\u2019s meticulous filmmaking. Reynolds is presented as a feverish artisan of fashion, sketching and sewing his way to a vision of the feminine ideal. He courts Alma by using her as a human mannequin, and it\\u2019s therefore hard not to get intimations of a movie like \"Vertigo,\" or maybe a super-kinky \"Pygmalion.\" Will \"Phantom Thread\" turn out to be the story of a man who falls for his fetishistic design of a woman?\\r\\n\\r\\nThe film\\u2019s dilemma, as it happens, isn\\u2019t nearly that spectacularly perverse. Reynolds comes under Alma\\u2019s spell, and since he\\u2019s a severely handsome and well-known designer, and she\\u2019s an expatriate nobody waiting tables in a country hotel, it doesn\\u2019t take higher math to see where this power imbalance is heading. Alma returns to London with Reynolds and becomes his new model and muse. He moves her into the bedroom upstairs \\u2014 right next to his, as if conferring some great privilege, though it already sounds like he\\u2019s talking about a birdcage.\\r\\n\\r\\nDo they sleep together? The movie doesn\\'t show that kind of thing (the oblique implication is yes), but their problems start at breakfast, where Alma butters her toast, and pours her tea, in a disarmingly noisy manner, which skews Reynolds\\u2019 train of thought. A little later, she makes the mistake of challenging one of his choices of fabrics, which leads to a back-and-forth verbal volley worthy of a screwball comedy, only Reynolds doesn\\u2019t want feisty rejoinders \\u2014 he wants to be obeyed. (Just when the exchange is starting to sizzle, he shouts, \"Enough!\") Did I mention that Reynolds\\u2019 sister, Cyril (Lesley Manville), is sitting there during every one of these encounters? She\\u2019s his business partner, and also, apparently, his eternal companion (along with the ghost of his dead mother). Reynolds and Cyril are close in a way that suggests something warm, loyal, and a little unseemly. She\\u2019s like the housekeeper in Hitchcock\\u2019s \"Rebecca,\" creepy and a touch macabre, always hovering, except that the great Lesley Manville, her eyes like black lasers, her hair piled into a short stacked \\u2018do, plays her like the Judi Dench version of a John Waters character: a badass in dowager\\u2019s clothing.\\r\\n\\r\\nAnderson, who didn\\'t just write and direct \"Phantom Thread\" but shot it himself (uncredited), stages the movie as a lavishly suspenseful piece of wealth porn. His camera travels up and down the stairways of the townhouse, and he lingers on Reynolds\\u2019 work as a designer, swathing us in the physicality of the fabrics \\u2014 the 16th-century Flemish lace out of which he makes Alma a gorgeous lavender dress, or a stunning royal silky number with pink diamonds on the breast. Anderson, in making the film, drew on the careers of several British designers of the period (like Charles James), and the essential exotic element for the audience is that this is the pre-couture world, where fashion, at least in Britain, had yet to enter its postmodern dream phase. That was just starting in France, and Reynolds, at one point, spits out the word \"chic\" as if it were a vile obscenity.\\r\\n\\r\\nFor all the attention it lavishes on Reynolds\\u2019 designs, and on the daily swirl of his existence, where he\\'s surrounded by a flurry of seamstresses, \"Phantom Thread\" isn\\'t, at heart, a tale of artistic passion. It\\u2019s a parable of toxic masculinity. Reynolds\\u2019 last name, Woodcock, can sound like it was invented to reduce Beavis and Butt-Head to a state of grunting hysterics \\u2014 but, in fact, the meaning of the name is exactly that. Day-Lewis\\u2019s Woodcock is a stiff, a hard virile puppet of a man \\u2014 a selfish vessel of male desire. He has invited Alma to fall in love with him, and she does, but all that means to Reynolds is that he wants to go on with his life as is (the work, the parties, the routine), with Alma as the girl utensil he takes down from the shelf whenever he feels like it. The movie is constructed as a kind of suspenseful showdown: Will Reynolds the elegant tyrant of fake romance, with his Woodcock coldness, break her down? Or will she turn the tables?\\r\\n\\r\\n\"Phantom Thread\" is seductive and absorbing, but it\\u2019s also emotionally remote. The film is framed as a love story, but it never swoons, and it\\'s enough to make you wonder: Why does Anderson, whose work back in the late \\'90s (the transcendent \"Boogie Nights,\" the enraptured \"Magnolia\") pulsated with off-kilter humanity, now make dramas that are essentially didactic studies of fantastically cold brutes? He remains a filmmaking wizard, and \"Phantom Thread\" sweeps you up and carries you along, much more, to my mind, than \"The Master\" did. Yet it\\u2019s a thesis movie: the story of a bullying narcissist who lacks the ability to have a relationship, and the outrageous way he\\'s schooled into becoming a human being. It\\u2019s the story of a control freak made by a control freak.\\r\\n\\r\\nDid all of this start with \"Raging Bull\"? In \"Phantom Thread,\" Daniel Day-Lewis, who has declared that this will be his last screen performance, seems to be relishing the chance to play another flamboyant emotional fascist, and the movie asks the audience to chortle along, notably in the sequence where Alma tries to assert her place in the scheme of things by making an intimate dinner for herself and Reynolds. She has to shoo everyone out of the townhouse as if she were clearing Buckingham Palace, and when Reynolds walks in, he acts like he\\u2019s been ambushed. Will he eat his asparagus with butter the way she\\u2019s prepared it? Why should he? He likes them with oil and salt!\\r\\n\\r\\nThe sequence plays like the \"Masterpiece Theatre\" version of \"There Will Be Blood,\" with Krieps, as Alma, asserting her radiant devotion in the face of Reynolds\\u2019 stone-cold rejection. It\\u2019s at that moment that she decides to go to extremes \\u2014 a twist out of a thriller that\\u2019s also a dark joke. It certainly plays (at least the first time), but it\\u2019s hard to shake the feeling that Day-Lewis, along with Anderson, has confused misanthropy with art. The actor plays Reynolds with a winning puckish gleam that turns sinister, but I can\\u2019t say that he goes out with a great performance.\\r\\n\\r\\n\"Phantom Thread\" comes on, for a good long stretch, like Anderson\\u2019s sprawling version of \"Rebecca\" or \"Suspicion\": a romantic suspense thriller coursing with dread. I wish it had stayed on that track, but Anderson isn\\u2019t content to make a black-hearted retro genre film. He\\u2019s too ambitious, and once Alma exacts her revenge, the movie does something a little bizarre: It goes back to square one, so that Reynolds, even after proposing to Alma, turns out to be the same old dick he always was. The film, in what should have been its culminating passages, loses steams and grows repetitive, building toward the scene in which Reynolds eats an omelette, colluding \\u2014 knowingly \\u2014 in his own punishment and reform. It\\u2019s supposed to be the film\\u2019s capstone of perversity: toxic masculinity toxifying itself. But it just made me wish that Paul Thomas Anderson would stop making movies about people who are so stunted that he can\\u2019t help adoring them for it.',\n",
       "  'thumbsup': 'Positive'}}"
      ]
     },
     "execution_count": 509,
     "metadata": {},
     "output_type": "execute_result"
    }
   ],
   "source": [
    "varietydict"
   ]
  },
  {
   "cell_type": "code",
   "execution_count": 428,
   "metadata": {},
   "outputs": [],
   "source": [
    "soup=BeautifulSoup(get(varietydict['Phantom Thread']).text,'html.parser')"
   ]
  },
  {
   "cell_type": "code",
   "execution_count": 474,
   "metadata": {},
   "outputs": [
    {
     "data": {
      "text/plain": [
       "[<meta class=\"swiftype\" content=\"Phantom Thread\" data-type=\"string\" name=\"tags\"/>]"
      ]
     },
     "execution_count": 474,
     "metadata": {},
     "output_type": "execute_result"
    }
   ],
   "source": [
    "soup.find_all('meta',attrs={'content':'Phantom Thread'})"
   ]
  },
  {
   "cell_type": "code",
   "execution_count": 444,
   "metadata": {},
   "outputs": [],
   "source": [
    "a=variety_soup.find_all('div',class_='l-river__content')[0].find_all('a')[2].text"
   ]
  },
  {
   "cell_type": "code",
   "execution_count": 507,
   "metadata": {},
   "outputs": [
    {
     "name": "stdout",
     "output_type": "stream",
     "text": [
      "Reynolds Woodcock (Daniel Day-Lewis), the svelte and smoldering middle-aged British fashion designer at the heart of Paul Thomas Anderson’s \"Phantom Thread,\" is a man who seems to have everything he wants. He lives in a splendid five-story London townhouse with walls the color of cream, and he works there too, starting early, sitting with his tea and pastries as he does the day’s sketches, already possessed by his reverent labor. He’s a dressmaker who works with the fervor of an artist — dreaming, obsessing, perfecting. At night he sips martinis at parties and restaurants, rubbing shoulders with the countesses and wealthy London ladies who are his clients, and he’s also a devoted serial womanizer who falls for — and discards — one comely model muse after another. (As the film opens, his current flame is flickering out.) \"Phantom Thread\" is set in 1955, but Reynolds, in his posh and pampered upper-crust way, has the air of a highly contempo bachelor hedonist. The world is his oyster, and it’s also his man-cave.\r\n",
      "\r\n",
      "One weekend, he drives his sporty maroon roadster — at top speed, of course — out to his country getaway, arriving at dawn and ordering breakfast in the restaurant of a seaside hotel. The young woman who waits on him, Alma (Vickey Krieps), has a melting warm smile, come-hither eyes locked in a glow of adoration, and a mild accent. (It’s never specified where she’s from, but the 34-year-old actress Vicky Krieps hails from Luxembourg.) As soon as she takes his order for Welsh rarebit with a poached egg on top, a pot of lapsang tea, jam (not strawberry!), and an order of sausages, she can tell that this is a man whose appetite for life matches her own.\r\n",
      "\r\n",
      "Daniel Day-Lewis has spent enough time behind the façade of concocted voices and elaborate hair that it’s always a bit of an ironic shock to see him head back into the skin of his own look and personality. In the early scenes of \"Phantom Thread,\" he’s urbane and inviting and demurely British, with his black-and-gray hair swept back; he's so gentlemanly in his flirtation that he reminds you of someone like George Martin. After having dinner with Alma, Reynolds drives her over to his country studio, where she models for him, and he makes her a dress. It’s love at first stitch.\r\n",
      "\r\n",
      "But, of course, we're all too aware that something ominous has to be lurking in the shadows. There wouldn’t be a movie otherwise, and the plangent pull of Jonny Greenwood’s musical score, rapturous with longing and anxiety, summons an unmistakable '50s-Hitchcock vibe. So does Anderson’s meticulous filmmaking. Reynolds is presented as a feverish artisan of fashion, sketching and sewing his way to a vision of the feminine ideal. He courts Alma by using her as a human mannequin, and it’s therefore hard not to get intimations of a movie like \"Vertigo,\" or maybe a super-kinky \"Pygmalion.\" Will \"Phantom Thread\" turn out to be the story of a man who falls for his fetishistic design of a woman?\r\n",
      "\r\n",
      "The film’s dilemma, as it happens, isn’t nearly that spectacularly perverse. Reynolds comes under Alma’s spell, and since he’s a severely handsome and well-known designer, and she’s an expatriate nobody waiting tables in a country hotel, it doesn’t take higher math to see where this power imbalance is heading. Alma returns to London with Reynolds and becomes his new model and muse. He moves her into the bedroom upstairs — right next to his, as if conferring some great privilege, though it already sounds like he’s talking about a birdcage.\r\n",
      "\r\n",
      "Do they sleep together? The movie doesn't show that kind of thing (the oblique implication is yes), but their problems start at breakfast, where Alma butters her toast, and pours her tea, in a disarmingly noisy manner, which skews Reynolds’ train of thought. A little later, she makes the mistake of challenging one of his choices of fabrics, which leads to a back-and-forth verbal volley worthy of a screwball comedy, only Reynolds doesn’t want feisty rejoinders — he wants to be obeyed. (Just when the exchange is starting to sizzle, he shouts, \"Enough!\") Did I mention that Reynolds’ sister, Cyril (Lesley Manville), is sitting there during every one of these encounters? She’s his business partner, and also, apparently, his eternal companion (along with the ghost of his dead mother). Reynolds and Cyril are close in a way that suggests something warm, loyal, and a little unseemly. She’s like the housekeeper in Hitchcock’s \"Rebecca,\" creepy and a touch macabre, always hovering, except that the great Lesley Manville, her eyes like black lasers, her hair piled into a short stacked ‘do, plays her like the Judi Dench version of a John Waters character: a badass in dowager’s clothing.\r\n",
      "\r\n",
      "Anderson, who didn't just write and direct \"Phantom Thread\" but shot it himself (uncredited), stages the movie as a lavishly suspenseful piece of wealth porn. His camera travels up and down the stairways of the townhouse, and he lingers on Reynolds’ work as a designer, swathing us in the physicality of the fabrics — the 16th-century Flemish lace out of which he makes Alma a gorgeous lavender dress, or a stunning royal silky number with pink diamonds on the breast. Anderson, in making the film, drew on the careers of several British designers of the period (like Charles James), and the essential exotic element for the audience is that this is the pre-couture world, where fashion, at least in Britain, had yet to enter its postmodern dream phase. That was just starting in France, and Reynolds, at one point, spits out the word \"chic\" as if it were a vile obscenity.\r\n",
      "\r\n",
      "For all the attention it lavishes on Reynolds’ designs, and on the daily swirl of his existence, where he's surrounded by a flurry of seamstresses, \"Phantom Thread\" isn't, at heart, a tale of artistic passion. It’s a parable of toxic masculinity. Reynolds’ last name, Woodcock, can sound like it was invented to reduce Beavis and Butt-Head to a state of grunting hysterics — but, in fact, the meaning of the name is exactly that. Day-Lewis’s Woodcock is a stiff, a hard virile puppet of a man — a selfish vessel of male desire. He has invited Alma to fall in love with him, and she does, but all that means to Reynolds is that he wants to go on with his life as is (the work, the parties, the routine), with Alma as the girl utensil he takes down from the shelf whenever he feels like it. The movie is constructed as a kind of suspenseful showdown: Will Reynolds the elegant tyrant of fake romance, with his Woodcock coldness, break her down? Or will she turn the tables?\r\n",
      "\r\n",
      "\"Phantom Thread\" is seductive and absorbing, but it’s also emotionally remote. The film is framed as a love story, but it never swoons, and it's enough to make you wonder: Why does Anderson, whose work back in the late '90s (the transcendent \"Boogie Nights,\" the enraptured \"Magnolia\") pulsated with off-kilter humanity, now make dramas that are essentially didactic studies of fantastically cold brutes? He remains a filmmaking wizard, and \"Phantom Thread\" sweeps you up and carries you along, much more, to my mind, than \"The Master\" did. Yet it’s a thesis movie: the story of a bullying narcissist who lacks the ability to have a relationship, and the outrageous way he's schooled into becoming a human being. It’s the story of a control freak made by a control freak.\r\n",
      "\r\n",
      "Did all of this start with \"Raging Bull\"? In \"Phantom Thread,\" Daniel Day-Lewis, who has declared that this will be his last screen performance, seems to be relishing the chance to play another flamboyant emotional fascist, and the movie asks the audience to chortle along, notably in the sequence where Alma tries to assert her place in the scheme of things by making an intimate dinner for herself and Reynolds. She has to shoo everyone out of the townhouse as if she were clearing Buckingham Palace, and when Reynolds walks in, he acts like he’s been ambushed. Will he eat his asparagus with butter the way she’s prepared it? Why should he? He likes them with oil and salt!\r\n",
      "\r\n",
      "The sequence plays like the \"Masterpiece Theatre\" version of \"There Will Be Blood,\" with Krieps, as Alma, asserting her radiant devotion in the face of Reynolds’ stone-cold rejection. It’s at that moment that she decides to go to extremes — a twist out of a thriller that’s also a dark joke. It certainly plays (at least the first time), but it’s hard to shake the feeling that Day-Lewis, along with Anderson, has confused misanthropy with art. The actor plays Reynolds with a winning puckish gleam that turns sinister, but I can’t say that he goes out with a great performance.\r\n",
      "\r\n",
      "\"Phantom Thread\" comes on, for a good long stretch, like Anderson’s sprawling version of \"Rebecca\" or \"Suspicion\": a romantic suspense thriller coursing with dread. I wish it had stayed on that track, but Anderson isn’t content to make a black-hearted retro genre film. He’s too ambitious, and once Alma exacts her revenge, the movie does something a little bizarre: It goes back to square one, so that Reynolds, even after proposing to Alma, turns out to be the same old dick he always was. The film, in what should have been its culminating passages, loses steams and grows repetitive, building toward the scene in which Reynolds eats an omelette, colluding — knowingly — in his own punishment and reform. It’s supposed to be the film’s capstone of perversity: toxic masculinity toxifying itself. But it just made me wish that Paul Thomas Anderson would stop making movies about people who are so stunted that he can’t help adoring them for it.\n"
     ]
    }
   ],
   "source": []
  },
  {
   "cell_type": "code",
   "execution_count": 449,
   "metadata": {},
   "outputs": [
    {
     "data": {
      "text/plain": [
       "13"
      ]
     },
     "execution_count": 449,
     "metadata": {},
     "output_type": "execute_result"
    }
   ],
   "source": [
    "len('Film Review: ')"
   ]
  },
  {
   "cell_type": "code",
   "execution_count": null,
   "metadata": {
    "collapsed": true
   },
   "outputs": [],
   "source": []
  },
  {
   "cell_type": "code",
   "execution_count": 264,
   "metadata": {
    "scrolled": true
   },
   "outputs": [
    {
     "name": "stdout",
     "output_type": "stream",
     "text": [
      "Over the Limit already exists\n",
      "Asphyxia already exists\n",
      "Phantom Thread already exists\n",
      "Naples 44 already exists\n",
      "The Post already exists\n",
      "Bullet Head already exists\n",
      "Ali Aqa already exists\n",
      "The Strange Ones already exists\n",
      "The Gangsters Daughter already exists\n",
      "Amal already exists\n",
      "Ferdinand already exists\n",
      "From the Ground Up already exists\n",
      "Hollow in the Land already exists\n",
      "Kaleidoscope already exists\n",
      "Neil Young  already exists!\n",
      "This review already exists\n",
      "Stephen Dalton already exists!\n",
      "This review already exists\n",
      "Todd McCarthy already exists!\n",
      "This review already exists\n",
      "John DeFore already exists!\n",
      "This review already exists\n",
      "Todd McCarthy already exists!\n",
      "This review already exists\n",
      "Frank Scheck already exists!\n",
      "This review already exists\n",
      "Neil Young  already exists!\n",
      "This review already exists\n",
      "Sheri Linden  already exists!\n",
      "This review already exists\n",
      "Justin Lowe  already exists!\n",
      "This review already exists\n",
      "Neil Young  already exists!\n",
      "This review already exists\n",
      "Michael Rechtshaffen already exists!\n",
      "This review already exists\n",
      "John DeFore already exists!\n",
      "This review already exists\n",
      "Frank Scheck already exists!\n",
      "This review already exists\n",
      "Frank Scheck already exists!\n",
      "This review already exists\n"
     ]
    }
   ],
   "source": [
    "scrapeHWR()"
   ]
  },
  {
   "cell_type": "code",
   "execution_count": 258,
   "metadata": {
    "scrolled": true
   },
   "outputs": [
    {
     "data": {
      "text/plain": [
       "u'The post-World War II financial stress felt by most Britons seems not to have encroached upon the exalted enclave of high fashion and neurotic self-concern inhabited by dashing middle-aged clothing designer Reynolds Woodcock (Day-Lewis). An elegant perfectionist whose clients seem to be mostly dowagers of a certain age willing and able to pay for elegant new garments every time they appear in society, the often silent man has cultivated an air of imperturbable self-absorption, and woe be to anyone with the effrontery to interrupt him when inspiration might hit at any moment. If the phrase \\u201cGenius at Work\\u201d had not already existed, he would have had to invent it.You would think that Woodcock (the name, of course, reminds of Hitchcock) had the most important job in the world by the \\u201cdo not disturb\\u201d vibes he emanates. His silences are meant to seem profound, all-important to his creative process, and whatever class station he was born into has been rendered irrelevant. The only person who is certain to know the full truth about him is his stern and proper sister Cyril (the estimable Lesley Manville), the gatekeeper who lives to keep her brother\\'s life immaculately organized and free of distractions. Any initial resemblance between Cyril and Judith Anderson\\'s controlling Mrs. Danvers in Rebecca is quite assuredly intentional.And just as there was a young female wild card fated to upset a household\\'s suffocating equilibrium in Alfred Hitchcock\\'s first American film, so there is in Anderson\\'s first British film. Alma (Luxembourgish actress Vicky\\xa0Krieps) is a waitress (who just happens to have the same name as Hitchcock\\'s real-life wife), seems to be in her early 30s, is polite and proper but with a ready smile and fair-game disposition. Woodcock\\'s conversational approach with her is far from normal, but he\\'s funny, disarmingly frank without actually revealing anything \\u2014 a seductive odd duck. He brings her home but nothing happens (Cyril is there to greet them) and, when it eventually does, we see nothing of it; on the surface, it\\'s a very chaste work.While there is precious little overt \\u201cdrama\\u201d per se, before you know it you\\'ve become happily ensconced in a peculiar world you\\'ve never visited or even imagined before. The initial expectation is that a jealous and protective Cyril will try to use her wiles to outmaneuver Alma and send her packing, but this obvious plot line is subverted before long. A more useful key to discovering what\\'s going on is one character\\'s reference to a staring contest, with the implication that whoever blinks first loses.The characters, and the film they inhabit, are loaded with peculiarities and perversities large and small. After Woodcock has brought Alma home, the designer in a professional capacity takes precise measurements of every possible angle and contour of her body and declares, \\u201cYou\\'re perfect. It\\'s my job to keep you so,\\u201d disputing her belief that she\\'s too flat-chested. Quite apart from Krieps\\' wonderfully subtle performance, it was very shrewd of Anderson to cast a little-known actress with no associative baggage and who\\'s pretty but perhaps not conventionally so; at times reminiscent of Meryl Streep as well as Julianne Moore, she can be quite alluring indeed when she comes alive with humor, energy and desire, but when standing dutifully at attention in uniform with the many other young women in Woodcock\\'s employ, she stands out barely at all.As the guardian of all things Woodcock, professionally and personally, Manville commandingly exerts the force that convinces one and all that she maintains an iron grip on her brother\\'s professional eminence and personal equilibrium \\u2014 until, perhaps, she doesn\\'t, which is when things get really interesting. That the film arguably reaches its grand turning point in a scene devoted to Woodcock eating an omelette says something about the film\\'s unrelenting oddness.\\n\\n\\n        {\\n          \"nid\": 1063801,\\n          \"type\": \"news\",\\n          \"title\": \"&#039;Call Me by Your Name&#039; Selected as Best Picture by L.A. Film Critics Association\",\\n          \"path\": \"http://www.hollywoodreporter.com/news/la-film-critics-association-winners-2017-1063801\",\"media\": {\"width\":1296,\"height\":730,\"extension\":\"jpg\",\"file_size\":283303,\"mime_type\":\"image\\\\/jpeg\",\"type\":\"image\",\"path\":\"sites\\\\/default\\\\/files\\\\/2017\\\\/08\\\\/call_me_by_your_name_still_10_-_publicity_-_h_2017.jpg\",\"orientation\":\"landscape\",\"id\":null,\"caption\":\"\\'Call Me by Your Name\\'\",\"credit\":\"Courtesy of Sony Pictures Classics\"},\\n          \"relative-path\": \"/news/la-film-critics-association-winners-2017-1063801\"\\n        }\\n      \\nIt\\'s a safe bet that no film has ever featured so much sewing and clothes-making before, or takes it this seriously. Woodcock so ponders and agonizes over his creations that you\\'d think you were watching Beethoven birthing a symphony or Tolstoy laboring over the umpteenth revision of War and Peace. In numerous close-ups are visible little scabby pinpricks on Woodcock/Day-Lewis\\' thumb, without doubt the result of the actor\\'s months-long practice at sewing with substantial needles. The verisimilitude of all the scenes devoted to the process cannot be questioned and are the partial result of the sort of total immersion in a character\\'s work and physical capacities that the actor is known for embracing.Astonishingly, the London-born Day-Lewis hasn\\'t played an Englishman in a film since Stars and Bars in 1988, but he plays a consummate one here, a perfectionist whose image and role in society he has tailored with the same fastidiousness he applies to his work. With Alma he becomes playful at times but at others shuts her out; being preoccupied and impossibly self-centered are part of a persona that\\'s been as immaculately crafted as his best fashion creations.Playing a \\u201cdifficult\\u201d artist is something Day-Lewis knows something about \\u2014 whether it\\'s because he is one himself or just knows a lot of them can be left to others to decide. But the man he\\'s created onscreen here is a fascinating combination of knowingly displayed temperament, keen discernment, wizardly talent, emotional evasion, bewildering about-faces, superhuman discipline and, ultimately, childlike vulnerability. In the end, Woodcock may, or may not, be the most powerful and resilient character in the piece, but he\\'s supremely complex and fascinating to observe.Rarely has a costume designer\\'s work been so center-stage as Mark Bridges\\' is here; it\\'s a film overflowing with fabric and what talented people do with it, and Bridges has done a great deal indeed. Mark Tildesley\\'s production design provides an often claustrophobically elegant backdrop for the intrigue.After a long association with cinematographer Robert Elswit, Anderson has gone all Steven Soderbergh here by becoming his own director of photography, although he doesn\\'t acknowledge it; this is a film with no cinematography credit. The helmer has done a handsome, atmospheric, unflashy job of it, creating a rather hazy, diffused look without overdoing it.All these good things being said, there is nonetheless no individual contribution to the film\\'s character and impact more important than Jonny Greenwood\\'s music. Creating his fourth soundtrack for Anderson, Greenwood has crafted a gorgeously melodious, piano-dominated score that would have been right at home as part of a black-and-white late-1940s romantic melodrama. Remarkably, however, there\\'s not a trace of retro or campiness to it, as it swoops right in to instantly transport you back to the era and create a mood of turbulent feelings and amorous expectation. As with the film itself, it leaves you wondering: \"Where on Earth did this come from?\"'"
      ]
     },
     "execution_count": 258,
     "metadata": {},
     "output_type": "execute_result"
    }
   ],
   "source": [
    "rtext_list[2]"
   ]
  },
  {
   "cell_type": "code",
   "execution_count": 260,
   "metadata": {},
   "outputs": [
    {
     "data": {
      "text/plain": [
       "u\"11:10 AM PST 12/6/2017\\n\\nby\\n\\n\\nJohn DeFore\\n \\nAn atmospheric attempt to conjure war-torn Naples through a string of appropriate film clips and the writings of an especially eloquent writer, Francesco Patierno's Naples '44 adapts the wartime memoir of Norman Lewis, a British intelligence officer who served there for a year. When he is abruptly transferred out of Naples at the end of the film, Lewis' nostalgic reverie is full of people and places the movie hasn't had time to introduce. Pretty, to be sure, with sun-dappled present-day scenes and evocative old newsreels unspooling as Lewis recalls arriving in Naples via the Allies' invasion of Salerno. Nine out of 10 local women had lost their men, Lewis says, and the men who remained had to watch as the comparatively wealthy Yankees bought all the love they wanted. Reading the author's words beautifully, Benedict Cumberbatch gives this thoughtful but unconventional doc most of its commercial appeal.\""
      ]
     },
     "execution_count": 260,
     "metadata": {},
     "output_type": "execute_result"
    }
   ],
   "source": [
    "reviews_toadd[3].blurb"
   ]
  },
  {
   "cell_type": "code",
   "execution_count": 137,
   "metadata": {
    "collapsed": true
   },
   "outputs": [],
   "source": [
    "newOrg = Organization(name='The Hollywood Reporter')"
   ]
  },
  {
   "cell_type": "code",
   "execution_count": 192,
   "metadata": {
    "collapsed": true
   },
   "outputs": [],
   "source": [
    "HWRorg = Organization.objects.get(name='The Hollywood Reporter')\n"
   ]
  },
  {
   "cell_type": "code",
   "execution_count": 204,
   "metadata": {},
   "outputs": [
    {
     "ename": "IndexError",
     "evalue": "list index out of range",
     "output_type": "error",
     "traceback": [
      "\u001b[0;31m---------------------------------------------------------------------------\u001b[0m",
      "\u001b[0;31mIndexError\u001b[0m                                Traceback (most recent call last)",
      "\u001b[0;32m<ipython-input-204-0f7db03eb86a>\u001b[0m in \u001b[0;36m<module>\u001b[0;34m()\u001b[0m\n\u001b[0;32m----> 1\u001b[0;31m \u001b[0mReviews\u001b[0m\u001b[0;34m.\u001b[0m\u001b[0mobjects\u001b[0m\u001b[0;34m.\u001b[0m\u001b[0mfilter\u001b[0m\u001b[0;34m(\u001b[0m\u001b[0mcritic\u001b[0m\u001b[0;34m=\u001b[0m\u001b[0mCritic\u001b[0m\u001b[0;34m.\u001b[0m\u001b[0mobjects\u001b[0m\u001b[0;34m.\u001b[0m\u001b[0mfilter\u001b[0m\u001b[0;34m(\u001b[0m\u001b[0mname\u001b[0m\u001b[0;34m=\u001b[0m\u001b[0;34m'Neil Young'\u001b[0m\u001b[0;34m)\u001b[0m\u001b[0;34m[\u001b[0m\u001b[0;36m0\u001b[0m\u001b[0;34m]\u001b[0m\u001b[0;34m)\u001b[0m\u001b[0;34m.\u001b[0m\u001b[0mdelete\u001b[0m\u001b[0;34m(\u001b[0m\u001b[0;34m)\u001b[0m\u001b[0;34m\u001b[0m\u001b[0m\n\u001b[0m",
      "\u001b[0;32m/home/ubuntu/anaconda2/lib/python2.7/site-packages/django/db/models/query.pyc\u001b[0m in \u001b[0;36m__getitem__\u001b[0;34m(self, k)\u001b[0m\n\u001b[1;32m    287\u001b[0m         \u001b[0mqs\u001b[0m \u001b[0;34m=\u001b[0m \u001b[0mself\u001b[0m\u001b[0;34m.\u001b[0m\u001b[0m_clone\u001b[0m\u001b[0;34m(\u001b[0m\u001b[0;34m)\u001b[0m\u001b[0;34m\u001b[0m\u001b[0m\n\u001b[1;32m    288\u001b[0m         \u001b[0mqs\u001b[0m\u001b[0;34m.\u001b[0m\u001b[0mquery\u001b[0m\u001b[0;34m.\u001b[0m\u001b[0mset_limits\u001b[0m\u001b[0;34m(\u001b[0m\u001b[0mk\u001b[0m\u001b[0;34m,\u001b[0m \u001b[0mk\u001b[0m \u001b[0;34m+\u001b[0m \u001b[0;36m1\u001b[0m\u001b[0;34m)\u001b[0m\u001b[0;34m\u001b[0m\u001b[0m\n\u001b[0;32m--> 289\u001b[0;31m         \u001b[0;32mreturn\u001b[0m \u001b[0mlist\u001b[0m\u001b[0;34m(\u001b[0m\u001b[0mqs\u001b[0m\u001b[0;34m)\u001b[0m\u001b[0;34m[\u001b[0m\u001b[0;36m0\u001b[0m\u001b[0;34m]\u001b[0m\u001b[0;34m\u001b[0m\u001b[0m\n\u001b[0m\u001b[1;32m    290\u001b[0m \u001b[0;34m\u001b[0m\u001b[0m\n\u001b[1;32m    291\u001b[0m     \u001b[0;32mdef\u001b[0m \u001b[0m__and__\u001b[0m\u001b[0;34m(\u001b[0m\u001b[0mself\u001b[0m\u001b[0;34m,\u001b[0m \u001b[0mother\u001b[0m\u001b[0;34m)\u001b[0m\u001b[0;34m:\u001b[0m\u001b[0;34m\u001b[0m\u001b[0m\n",
      "\u001b[0;31mIndexError\u001b[0m: list index out of range"
     ]
    }
   ],
   "source": [
    "Reviews.objects.filter(critic=Critic.objects.filter(name='Neil Young')[0]).delete()"
   ]
  },
  {
   "cell_type": "code",
   "execution_count": 303,
   "metadata": {
    "collapsed": true
   },
   "outputs": [],
   "source": [
    "NYTOrg = Organization.objects.get(name='NYT')\n",
    "def scrapeNYTMovie():\n",
    "    review_dict = {}\n",
    "    url = 'https://www.nytimes.com/reviews/movies'\n",
    "    html_soup=BeautifulSoup(get(url).text,'html.parser')\n",
    "    movie_length = len(html_soup.find_all('a',class_='story-link'))\n",
    "    print movie_length\n",
    "    for i in range(movie_length):\n",
    "        souplet = html_soup.find_all('a',class_='story-link')[i]\n",
    "        r_url = 'https://www.nytimes.com/'+souplet['href']\n",
    "        r_name = souplet.h2.text.strip()\n",
    "        r_get = get(r_url)\n",
    "        r_soup = BeautifulSoup(r_get.text,'html.parser')\n",
    "        review_text = \"\"\n",
    "        chunk_count = len(r_soup.find_all('p',class_='story-body-text story-content'))\n",
    "        author = r_soup.find_all('meta',attrs={\"name\":\"author\"})[0]['content']\n",
    "        for i in range(chunk_count):\n",
    "            review_text += r_soup.find_all('p',class_='story-body-text story-content')[i].text\n",
    "        review_sentiment = TextBlob(review_text).sentiment\n",
    "        review_polarity=review_sentiment[0]\n",
    "        review_subjectivity=review_sentiment[1]\n",
    "        r_thumbsup= 'Positive' if review_polarity > 0 else 'Negative'\n",
    "        summary = Summarize(r_name,review_text)\n",
    "        r_blurb = ' '.join(summary)\n",
    "        review_dict[souplet.h2.text.strip()] = {'thumbsup':r_thumbsup,'blurb':r_blurb,'name':r_name,'link':r_url,'text':review_text,'review_subjectivity':review_subjectivity,'critic':author,'organization':'NYT','review_polarity':review_polarity}\n",
    "    return review_dict"
   ]
  },
  {
   "cell_type": "code",
   "execution_count": 338,
   "metadata": {
    "collapsed": true
   },
   "outputs": [],
   "source": [
    "filldirector = Director.objects.all()[0]\n",
    "NYTOrg = Organization.objects.get(name='NYT')\n",
    "def dictToDB(moviedict):\n",
    "    for key in moviedict:\n",
    "        if Critic.objects.filter(name=moviedict[key]['critic'],organization=NYTOrg).exists():\n",
    "            print '%s already exists! '% moviedict[key]['critic']\n",
    "        else:\n",
    "            newCritic = Critic(name=moviedict[key]['critic'],organization=NYTOrg)\n",
    "            print 'saving critic %s to DB' % moviedict[key]['critic']\n",
    "            newCritic.save()\n",
    "        if Movie.objects.filter(name=moviedict[key]['name']).exists():\n",
    "            print '%s already exists!' % moviedict[key]['name']\n",
    "        else:\n",
    "            newMovie = Movie(name=moviedict[key]['name'],director = filldirector)\n",
    "            newMovie.save()\n",
    "            print 'saving movie %s to DB' % moviedict[key]['name']\n",
    "        if Reviews.objects.filter(movie=Movie.objects.get(name=moviedict[key]['name']),organization=NYTOrg).exists():\n",
    "            print 'review of %s from %s already exists!' % (moviedict[key]['name'], NYTOrg)\n",
    "        else:\n",
    "            newReview = Reviews(movie=Movie.objects.get(name=moviedict[key]['name']),organization=NYTOrg,critic=Critic.objects.get(name=moviedict[key]['critic']),thumbsup=moviedict[key]['thumbsup'],review_polarity=moviedict[key]['review_polarity'],review_subjectivity=moviedict[key]['review_subjectivity'],review_url=moviedict[key]['link'],blurb=moviedict[key]['blurb'],text=moviedict[key]['text'])\n",
    "            print 'saving new Review of %s from %s' % (moviedict[key]['name'],moviedict[key]['organization'])\n",
    "            #newReview.save()"
   ]
  },
  {
   "cell_type": "code",
   "execution_count": 326,
   "metadata": {
    "collapsed": true
   },
   "outputs": [],
   "source": [
    "key=Dict[Dict.keys()[0]]"
   ]
  },
  {
   "cell_type": "code",
   "execution_count": 328,
   "metadata": {},
   "outputs": [
    {
     "data": {
      "text/plain": [
       "True"
      ]
     },
     "execution_count": 328,
     "metadata": {},
     "output_type": "execute_result"
    }
   ],
   "source": [
    "Reviews.objects.filter(movie=Movie.objects.get(name=key['name']),organization=NYTOrg).exists()\n"
   ]
  },
  {
   "cell_type": "code",
   "execution_count": 339,
   "metadata": {
    "scrolled": true
   },
   "outputs": [
    {
     "name": "stdout",
     "output_type": "stream",
     "text": [
      "Ben Kenigsberg already exists! \n",
      "32 Pills: My Sister's Suicide already exists!\n",
      "review of 32 Pills: My Sister's Suicide from NYT already exists!\n",
      "Andy Webster already exists! \n",
      "Big Time already exists!\n",
      "review of Big Time from NYT already exists!\n",
      "Glenn Kenny already exists! \n",
      "Bill Frisell: A Portrait already exists!\n",
      "review of Bill Frisell: A Portrait from NYT already exists!\n",
      "Manohla Dargis already exists! \n",
      "I, Tonya already exists!\n",
      "review of I, Tonya from NYT already exists!\n",
      "Manohla Dargis already exists! \n",
      "The Disaster Artist already exists!\n",
      "review of The Disaster Artist from NYT already exists!\n",
      "Manohla Dargis already exists! \n",
      "Wonder Wheel already exists!\n",
      "review of Wonder Wheel from NYT already exists!\n",
      "Jeannette Catsoulis already exists! \n",
      "Loveless already exists!\n",
      "review of Loveless from NYT already exists!\n",
      "Jeannette Catsoulis already exists! \n",
      "Voyeur already exists!\n",
      "review of Voyeur from NYT already exists!\n",
      "Ben Kenigsberg already exists! \n",
      "Bullet Head already exists!\n",
      "review of Bullet Head from NYT already exists!\n",
      "Teo Bugbee already exists! \n",
      "The Tribes of Palos Verdes already exists!\n",
      "review of The Tribes of Palos Verdes from NYT already exists!\n",
      "Glenn Kenny already exists! \n",
      "Love Beats Rhymes already exists!\n",
      "review of Love Beats Rhymes from NYT already exists!\n",
      "Monica Castillo already exists! \n",
      "Rosa Chumbe already exists!\n",
      "review of Rosa Chumbe from NYT already exists!\n",
      "A.O. Scott already exists! \n",
      "The Shape of Water already exists!\n",
      "review of The Shape of Water from NYT already exists!\n",
      "A.O. Scott already exists! \n",
      "Quest already exists!\n",
      "review of Quest from NYT already exists!\n",
      "A.O. Scott already exists! \n",
      "The Other Side of Hope already exists!\n",
      "review of The Other Side of Hope from NYT already exists!\n",
      "Ben Kenigsberg already exists! \n",
      "Sins of the Flesh already exists!\n",
      "review of Sins of the Flesh from NYT already exists!\n",
      "Glenn Kenny already exists! \n",
      "Shadowman already exists!\n",
      "review of Shadowman from NYT already exists!\n",
      "Manohla Dargis already exists! \n",
      "Foxtrot already exists!\n",
      "review of Foxtrot from NYT already exists!\n",
      "Monica Castillo already exists! \n",
      "Hollow in the Land already exists!\n",
      "review of Hollow in the Land from NYT already exists!\n",
      "Jeannette Catsoulis already exists! \n",
      "Kaleidoscope already exists!\n",
      "review of Kaleidoscope from NYT already exists!\n"
     ]
    }
   ],
   "source": [
    "dictToDB(Dict)"
   ]
  },
  {
   "cell_type": "code",
   "execution_count": 340,
   "metadata": {
    "collapsed": true
   },
   "outputs": [],
   "source": [
    "userdict = {n.name: n for n in TwitterUser.objects.all() }\n",
    "ntwkdict = {n.name: n for n in Network.objects.all() }\n",
    "showdict = {n.name: n for n in Show.objects.all() }"
   ]
  },
  {
   "cell_type": "code",
   "execution_count": 342,
   "metadata": {},
   "outputs": [
    {
     "data": {
      "text/plain": [
       "{u'arrested development': <Show: arrested development>,\n",
       " u'ballers': <Show: ballers>,\n",
       " u'bojack horseman': <Show: bojack horseman>,\n",
       " u'crashing': <Show: crashing>,\n",
       " u'curb your enthusiasm': <Show: curb your enthusiasm>,\n",
       " u'daredevil': <Show: daredevil>,\n",
       " u'game of thrones': <Show: game of thrones>,\n",
       " u'glow': <Show: glow>,\n",
       " u'handmaids tale': <Show: handmaids tale>,\n",
       " u'house of cards': <Show: house of cards>,\n",
       " u'insecure': <Show: insecure>,\n",
       " u'last week tonight': <Show: last week tonight>,\n",
       " u'man in the high castle': <Show: man in the high castle>,\n",
       " u'master of none': <Show: master of none>,\n",
       " u'mozart in the jungle': <Show: mozart in the jungle>,\n",
       " u'narcos': <Show: narcos>,\n",
       " u'oitnb': <Show: oitnb>,\n",
       " u'real time': <Show: real time>,\n",
       " u'room 104': <Show: room 104>,\n",
       " u'sense8': <Show: sense8>,\n",
       " u'silicon valley': <Show: silicon valley>,\n",
       " u'stranger things': <Show: stranger things>,\n",
       " u'the comeback': <Show: the comeback>,\n",
       " u'the deuce': <Show: the deuce>,\n",
       " u'transparent': <Show: transparent>,\n",
       " u'true detective': <Show: true detective>,\n",
       " u'veep': <Show: veep>,\n",
       " u'vice principals': <Show: vice principals>,\n",
       " u'westworld': <Show: westworld>}"
      ]
     },
     "execution_count": 342,
     "metadata": {},
     "output_type": "execute_result"
    }
   ],
   "source": [
    "showdict"
   ]
  },
  {
   "cell_type": "code",
   "execution_count": null,
   "metadata": {
    "collapsed": true
   },
   "outputs": [],
   "source": []
  }
 ],
 "metadata": {
  "kernelspec": {
   "display_name": "Django Shell-Plus",
   "language": "python",
   "name": "django_extensions"
  },
  "language_info": {
   "codemirror_mode": {
    "name": "ipython",
    "version": 2
   },
   "file_extension": ".py",
   "mimetype": "text/x-python",
   "name": "python",
   "nbconvert_exporter": "python",
   "pygments_lexer": "ipython2",
   "version": "2.7.13"
  }
 },
 "nbformat": 4,
 "nbformat_minor": 2
}
